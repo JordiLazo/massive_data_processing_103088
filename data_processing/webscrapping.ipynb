{
 "cells": [
  {
   "cell_type": "code",
   "execution_count": 1,
   "metadata": {},
   "outputs": [
    {
     "name": "stdout",
     "output_type": "stream",
     "text": [
      "Error: Failed to retrieve the webpage.\n"
     ]
    },
    {
     "ename": "AttributeError",
     "evalue": "'NoneType' object has no attribute 'items'",
     "output_type": "error",
     "traceback": [
      "\u001b[0;31m---------------------------------------------------------------------------\u001b[0m",
      "\u001b[0;31mAttributeError\u001b[0m                            Traceback (most recent call last)",
      "Cell \u001b[0;32mIn[1], line 46\u001b[0m\n\u001b[1;32m     43\u001b[0m book_discounts \u001b[38;5;241m=\u001b[39m get_book_discounts(url)\n\u001b[1;32m     45\u001b[0m \u001b[38;5;66;03m# Print the discounts of all the books\u001b[39;00m\n\u001b[0;32m---> 46\u001b[0m \u001b[38;5;28;01mfor\u001b[39;00m title, discount \u001b[38;5;129;01min\u001b[39;00m \u001b[43mbook_discounts\u001b[49m\u001b[38;5;241;43m.\u001b[39;49m\u001b[43mitems\u001b[49m():\n\u001b[1;32m     47\u001b[0m     \u001b[38;5;28mprint\u001b[39m(\u001b[38;5;124mf\u001b[39m\u001b[38;5;124m\"\u001b[39m\u001b[38;5;132;01m{\u001b[39;00mtitle\u001b[38;5;132;01m}\u001b[39;00m\u001b[38;5;124m: \u001b[39m\u001b[38;5;132;01m{\u001b[39;00mdiscount\u001b[38;5;132;01m}\u001b[39;00m\u001b[38;5;124m\"\u001b[39m)\n",
      "\u001b[0;31mAttributeError\u001b[0m: 'NoneType' object has no attribute 'items'"
     ]
    }
   ],
   "source": [
    "import requests\n",
    "from bs4 import BeautifulSoup\n",
    "\n",
    "def get_book_discounts(url):\n",
    "    # Send a GET request to the URL\n",
    "    response = requests.get(url)\n",
    "    \n",
    "    # Check if the request was successful\n",
    "    if response.status_code == 200:\n",
    "        # Parse the HTML content of the page\n",
    "        soup = BeautifulSoup(response.text, 'html.parser')\n",
    "        \n",
    "        # Find all the book elements\n",
    "        books = soup.find_all('div', class_='book-preview')\n",
    "        \n",
    "        # Initialize a dictionary to store book discounts\n",
    "        book_discounts = {}\n",
    "        \n",
    "        # Iterate through each book element\n",
    "        for book in books:\n",
    "            # Extract the title of the book\n",
    "            title = book.find('h3', class_='title').text.strip()\n",
    "            \n",
    "            # Extract the discount percentage if available\n",
    "            discount_tag = book.find('span', class_='discount-value')\n",
    "            if discount_tag:\n",
    "                discount = discount_tag.text.strip()\n",
    "            else:\n",
    "                discount = 'No discount'\n",
    "            \n",
    "            # Store the discount in the dictionary\n",
    "            book_discounts[title] = discount\n",
    "        \n",
    "        return book_discounts\n",
    "    else:\n",
    "        # If the request was not successful, print an error message\n",
    "        print(\"Error: Failed to retrieve the webpage.\")\n",
    "\n",
    "# URL of the Waterstones bestsellers page\n",
    "url = \"https://www.waterstones.com/books/bestsellers\"\n",
    "\n",
    "# Call the function to get book discounts\n",
    "book_discounts = get_book_discounts(url)\n",
    "\n",
    "# Print the discounts of all the books\n",
    "for title, discount in book_discounts.items():\n",
    "    print(f\"{title}: {discount}\")\n"
   ]
  }
 ],
 "metadata": {
  "kernelspec": {
   "display_name": "Python 3",
   "language": "python",
   "name": "python3"
  },
  "language_info": {
   "codemirror_mode": {
    "name": "ipython",
    "version": 3
   },
   "file_extension": ".py",
   "mimetype": "text/x-python",
   "name": "python",
   "nbconvert_exporter": "python",
   "pygments_lexer": "ipython3",
   "version": "3.9.6"
  }
 },
 "nbformat": 4,
 "nbformat_minor": 2
}
