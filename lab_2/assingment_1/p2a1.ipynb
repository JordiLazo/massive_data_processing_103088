{
  "nbformat": 4,
  "nbformat_minor": 0,
  "metadata": {
    "colab": {
      "provenance": [],
      "collapsed_sections": [
        "u3_oicKBMsEO",
        "kDnjGUcifUeX",
        "0vJOYWxahZ6F"
      ]
    },
    "kernelspec": {
      "name": "python3",
      "display_name": "Python 3"
    },
    "language_info": {
      "name": "python"
    }
  },
  "cells": [
    {
      "cell_type": "markdown",
      "source": [
        "# 103088 - MASSIVE DATA PROCESSING"
      ],
      "metadata": {
        "id": "MnaytJbxeBYD"
      }
    },
    {
      "cell_type": "markdown",
      "source": [
        "## P2A1"
      ],
      "metadata": {
        "id": "FcEWsG3necBH"
      }
    },
    {
      "cell_type": "markdown",
      "source": [
        "## Summary\n",
        "1. [Prepare environment](#prepare-environment)\n",
        "2. [Start working with Spark](#start-spark)\n",
        "3. [Download dataset](#dataset)\n",
        "4. [Preprocessing](#preprocessing)\n",
        "5. [Questions](#questions)"
      ],
      "metadata": {
        "id": "70d-QjB-epWI"
      }
    },
    {
      "cell_type": "markdown",
      "source": [
        "<a name=\"prepare-environment\"></a>\n",
        "## Prepare environment\n",
        "First, we are going to prepare the environment for running PySaprk in the Google Collab Machine (if you work directly in your computer, and you want to prepare it, read and follow champter 2 instructions)"
      ],
      "metadata": {
        "id": "o7vxXAxmdqJz"
      }
    },
    {
      "cell_type": "code",
      "execution_count": 45,
      "metadata": {
        "colab": {
          "base_uri": "https://localhost:8080/"
        },
        "id": "LRqNuIADdZEk",
        "outputId": "55da629f-f27a-4691-9a00-c58755be469b"
      },
      "outputs": [
        {
          "output_type": "stream",
          "name": "stdout",
          "text": [
            "Drive already mounted at /content/drive; to attempt to forcibly remount, call drive.mount(\"/content/drive\", force_remount=True).\n",
            "Install JAVA 8\n",
            "Requirement already satisfied: wget in /usr/local/lib/python3.10/dist-packages (3.2)\n",
            "Obtaining last version of spark\n",
            "/content/drive/MyDrive/colab/massive/install_pyspark.py:17: GuessedAtParserWarning: No parser was explicitly specified, so I'm using the best available HTML parser for this system (\"lxml\"). This usually isn't a problem, but if you run this code on another system, or in a different virtual environment, it may use a different parser and behave differently.\n",
            "\n",
            "The code that caused this warning is on line 17 of the file /content/drive/MyDrive/colab/massive/install_pyspark.py. To get rid of this warning, pass the additional argument 'features=\"lxml\"' to the BeautifulSoup constructor.\n",
            "\n",
            "  soup = BeautifulSoup(html_doc)\n",
            "Getting version spark-3.5.1\n",
            "Downloading https://downloads.apache.org/spark/spark-3.5.1/spark-3.5.1-bin-hadoop3.tgz\n",
            "Installing PySpark\n",
            "Setting environment variables for JAVA_HOME and SPARK_HOME\n"
          ]
        }
      ],
      "source": [
        "from google.colab import drive\n",
        "drive.mount('/content/drive')\n",
        "!python /content/drive/MyDrive/colab/massive/install_pyspark.py"
      ]
    },
    {
      "cell_type": "code",
      "source": [
        "from pyspark.sql import SparkSession\n",
        "from pyspark.sql.functions import year, col, count, to_date, desc, month, weekofyear\n",
        "from pyspark.ml.feature import VectorAssembler, StringIndexer, OneHotEncoder\n",
        "from pyspark.ml.stat import Correlation\n",
        "import wget"
      ],
      "metadata": {
        "id": "RqylXkw-f_1u"
      },
      "execution_count": 46,
      "outputs": []
    },
    {
      "cell_type": "markdown",
      "metadata": {
        "id": "u3_oicKBMsEO"
      },
      "source": [
        "<a name=\"start-spark\"></a>\n",
        "## Start working with Spark\n",
        "Now we now and understand how Spark appeared in our lives and more or less how it works (and you know, it's amazing 🤭), we can start to work with it.\n",
        "As you now, the SparkSession is the way programmers \"talk\" with Spark. So, we need to inicialize that."
      ]
    },
    {
      "cell_type": "code",
      "source": [
        "spark = (SparkSession\n",
        " .builder\n",
        " .appName(\"P2A1\")\n",
        " .getOrCreate())\n",
        "\n",
        "spark"
      ],
      "metadata": {
        "colab": {
          "base_uri": "https://localhost:8080/",
          "height": 221
        },
        "id": "U70qXFAfemhR",
        "outputId": "d69cbbe4-ad76-412c-c8d4-054a5f8d943e"
      },
      "execution_count": 47,
      "outputs": [
        {
          "output_type": "execute_result",
          "data": {
            "text/plain": [
              "<pyspark.sql.session.SparkSession at 0x7c063ee1a500>"
            ],
            "text/html": [
              "\n",
              "            <div>\n",
              "                <p><b>SparkSession - in-memory</b></p>\n",
              "                \n",
              "        <div>\n",
              "            <p><b>SparkContext</b></p>\n",
              "\n",
              "            <p><a href=\"http://b4b96323da37:4040\">Spark UI</a></p>\n",
              "\n",
              "            <dl>\n",
              "              <dt>Version</dt>\n",
              "                <dd><code>v3.5.1</code></dd>\n",
              "              <dt>Master</dt>\n",
              "                <dd><code>local[*]</code></dd>\n",
              "              <dt>AppName</dt>\n",
              "                <dd><code>P2A1</code></dd>\n",
              "            </dl>\n",
              "        </div>\n",
              "        \n",
              "            </div>\n",
              "        "
            ]
          },
          "metadata": {},
          "execution_count": 47
        }
      ]
    },
    {
      "cell_type": "markdown",
      "source": [
        "<a name=\"dataset\"></a>\n",
        "## Download dataset"
      ],
      "metadata": {
        "id": "kDnjGUcifUeX"
      }
    },
    {
      "cell_type": "code",
      "source": [
        "wget.download('https://github.com/databricks/LearningSparkV2/raw/master/chapter3/data/sf-fire-calls.csv')\n",
        "fire_df = spark.read.csv('sf-fire-calls.csv', header = True)"
      ],
      "metadata": {
        "id": "YO80g2ypfSAD"
      },
      "execution_count": 48,
      "outputs": []
    },
    {
      "cell_type": "code",
      "source": [
        "fire_df.show()"
      ],
      "metadata": {
        "colab": {
          "base_uri": "https://localhost:8080/"
        },
        "id": "ejK9cxgRfpJE",
        "outputId": "89433342-9778-456e-bbf4-4997fbda11ee"
      },
      "execution_count": 49,
      "outputs": [
        {
          "output_type": "stream",
          "name": "stdout",
          "text": [
            "+----------+------+--------------+----------------+----------+----------+--------------------+--------------------+--------------------+----+-------+---------+-----------+----+----------------+--------+-------------+-------+-------------+---------+--------------+--------------------------+----------------------+------------------+--------------------+--------------------+-------------+---------+\n",
            "|CallNumber|UnitID|IncidentNumber|        CallType|  CallDate| WatchDate|CallFinalDisposition|       AvailableDtTm|             Address|City|Zipcode|Battalion|StationArea| Box|OriginalPriority|Priority|FinalPriority|ALSUnit|CallTypeGroup|NumAlarms|      UnitType|UnitSequenceInCallDispatch|FirePreventionDistrict|SupervisorDistrict|        Neighborhood|            Location|        RowID|    Delay|\n",
            "+----------+------+--------------+----------------+----------+----------+--------------------+--------------------+--------------------+----+-------+---------+-----------+----+----------------+--------+-------------+-------+-------------+---------+--------------+--------------------------+----------------------+------------------+--------------------+--------------------+-------------+---------+\n",
            "|  20110016|   T13|       2003235|  Structure Fire|01/11/2002|01/10/2002|               Other|01/11/2002 01:51:...|2000 Block of CAL...|  SF|  94109|      B04|         38|3362|               3|       3|            3|  false|         NULL|        1|         TRUCK|                         2|                     4|                 5|     Pacific Heights|(37.7895840679362...|020110016-T13|     2.95|\n",
            "|  20110022|   M17|       2003241|Medical Incident|01/11/2002|01/10/2002|               Other|01/11/2002 03:01:...|0 Block of SILVER...|  SF|  94124|      B10|         42|6495|               3|       3|            3|   true|         NULL|        1|         MEDIC|                         1|                    10|                10|Bayview Hunters P...|(37.7337623673897...|020110022-M17|      4.7|\n",
            "|  20110023|   M41|       2003242|Medical Incident|01/11/2002|01/10/2002|               Other|01/11/2002 02:39:...|MARKET ST/MCALLIS...|  SF|  94102|      B03|         01|1455|               3|       3|            3|   true|         NULL|        1|         MEDIC|                         2|                     3|                 6|          Tenderloin|(37.7811772186856...|020110023-M41|2.4333334|\n",
            "|  20110032|   E11|       2003250|    Vehicle Fire|01/11/2002|01/10/2002|               Other|01/11/2002 04:16:...|APPLETON AV/MISSI...|  SF|  94110|      B06|         32|5626|               3|       3|            3|  false|         NULL|        1|        ENGINE|                         1|                     6|                 9|      Bernal Heights|(37.7388432849018...|020110032-E11|      1.5|\n",
            "|  20110043|   B04|       2003259|          Alarms|01/11/2002|01/10/2002|               Other|01/11/2002 06:01:...|1400 Block of SUT...|  SF|  94109|      B04|         03|3223|               3|       3|            3|  false|         NULL|        1|         CHIEF|                         2|                     4|                 2|    Western Addition|(37.7872890372638...|020110043-B04|3.4833333|\n",
            "|  20110072|   T08|       2003279|  Structure Fire|01/11/2002|01/11/2002|               Other|01/11/2002 08:03:...|  BEALE ST/FOLSOM ST|  SF|  94105|      B03|         35|2122|               3|       3|            3|  false|         NULL|        1|         TRUCK|                         2|                     3|                 6|Financial Distric...|(37.7886866619654...|020110072-T08|     1.75|\n",
            "|  20110125|   E33|       2003301|          Alarms|01/11/2002|01/11/2002|               Other|01/11/2002 09:46:...|0 Block of FARALL...|  SF|  94112|      B09|         33|8324|               3|       3|            3|  false|         NULL|        1|        ENGINE|                         2|                     9|                11|Oceanview/Merced/...|(37.7140353531157...|020110125-E33|2.7166667|\n",
            "|  20110130|   E36|       2003304|          Alarms|01/11/2002|01/11/2002|               Other|01/11/2002 09:58:...|600 Block of POLK ST|  SF|  94102|      B02|         03|3114|               3|       3|            3|  false|         NULL|        1|        ENGINE|                         1|                     2|                 6|          Tenderloin|(37.7826266328595...|020110130-E36|1.7833333|\n",
            "|  20110197|   E05|       2003343|Medical Incident|01/11/2002|01/11/2002|               Other|01/11/2002 12:06:...|1500 Block of WEB...|  SF|  94115|      B04|         05|3513|               3|       3|            3|  false|         NULL|        1|        ENGINE|                         1|                     4|                 5|           Japantown|(37.784958590666,...|020110197-E05|1.5166667|\n",
            "|  20110215|   E06|       2003348|Medical Incident|01/11/2002|01/11/2002|               Other|01/11/2002 01:08:...|DIAMOND ST/MARKET ST|  SF|  94114|      B05|         06|5415|               3|       3|            3|  false|         NULL|        1|        ENGINE|                         1|                     5|                 8| Castro/Upper Market|(37.7618954753708...|020110215-E06|2.7666667|\n",
            "|  20110274|   M07|       2003381|Medical Incident|01/11/2002|01/11/2002|               Other|01/11/2002 03:31:...|2700 Block of MIS...|  SF|  94110|      B06|         11|5525|               1|       1|            2|   true|         NULL|        1|         MEDIC|                         1|                     6|                 9|             Mission|(37.7530339738059...|020110274-M07|2.1833334|\n",
            "|  20110275|   T15|       2003382|  Structure Fire|01/11/2002|01/11/2002|               Other|01/11/2002 02:59:...|BRUNSWICK ST/GUTT...|  SF|  94112|      B09|         43|6218|               3|       3|            3|  false|         NULL|        1|         TRUCK|                         1|                     9|                11|           Excelsior|(37.7105545807996...|020110275-T15|      2.5|\n",
            "|  20110304|   E03|       2003399|Medical Incident|01/11/2002|01/11/2002|               Other|01/11/2002 04:22:...|1000 Block of SUT...|  SF|  94109|      B04|         03|1557|               3|       3|            3|  false|         NULL|        1|        ENGINE|                         1|                     4|                 3|            Nob Hill|(37.7881263034393...|020110304-E03|2.4166667|\n",
            "|  20110308|   E14|       2003403|Medical Incident|01/11/2002|01/11/2002|               Other|01/11/2002 04:18:...|100 Block of 21ST...|  SF|  94121|      B07|         14|7173|               3|       3|            3|  false|         NULL|        1|        ENGINE|                         1|                     7|                 1|      Outer Richmond|(37.7850084431077...|020110308-E14|     4.95|\n",
            "|  20110313|   B10|       2003408|  Structure Fire|01/11/2002|01/11/2002|               Other|01/11/2002 04:09:...|700 Block of CAPP ST|  SF|  94110|      B06|         07|5472|               3|       3|            3|  false|         NULL|        1|         CHIEF|                         6|                     6|                 9|             Mission|(37.7547064357942...|020110313-B10|1.4166666|\n",
            "|  20110313|    D3|       2003408|  Structure Fire|01/11/2002|01/11/2002|               Other|01/11/2002 04:09:...|700 Block of CAPP ST|  SF|  94110|      B06|         07|5472|               3|       3|            3|  false|         NULL|        1|         CHIEF|                         4|                     6|                 9|             Mission|(37.7547064357942...| 020110313-D3|2.5333333|\n",
            "|  20110313|   E32|       2003408|  Structure Fire|01/11/2002|01/11/2002|               Other|01/11/2002 04:09:...|700 Block of CAPP ST|  SF|  94110|      B06|         07|5472|               3|       3|            3|   true|         NULL|        1|        ENGINE|                         8|                     6|                 9|             Mission|(37.7547064357942...|020110313-E32|1.8833333|\n",
            "|  20110315|   RC2|       2003409|Medical Incident|01/11/2002|01/11/2002|               Other|01/11/2002 04:34:...|200 Block of LAGU...|  SF|  94116|      B08|         20|8635|               3|       3|            3|   true|         NULL|        1|RESCUE CAPTAIN|                         2|                     8|                 7|  West of Twin Peaks|(37.7501117393668...|020110315-RC2|     5.35|\n",
            "|  20110330|   E14|       2003417|Medical Incident|01/11/2002|01/11/2002|               Other|01/11/2002 04:51:...|BALBOA ST/PARK PR...|  SF|  94118|      B07|         31|7145|               3|       3|            3|  false|         NULL|        1|        ENGINE|                         1|                     7|                 1|      Inner Richmond|(37.7768682293368...|020110330-E14|      2.0|\n",
            "|  20110330|   M12|       2003417|Medical Incident|01/11/2002|01/11/2002|               Other|01/11/2002 04:51:...|BALBOA ST/PARK PR...|  SF|  94118|      B07|         31|7145|               3|       3|            3|   true|         NULL|        1|         MEDIC|                         2|                     7|                 1|      Inner Richmond|(37.7768682293368...|020110330-M12|1.8166667|\n",
            "+----------+------+--------------+----------------+----------+----------+--------------------+--------------------+--------------------+----+-------+---------+-----------+----+----------------+--------+-------------+-------+-------------+---------+--------------+--------------------------+----------------------+------------------+--------------------+--------------------+-------------+---------+\n",
            "only showing top 20 rows\n",
            "\n"
          ]
        }
      ]
    },
    {
      "cell_type": "markdown",
      "source": [
        "<a name=\"preprocessing\"></a>\n",
        "## Preprocessing"
      ],
      "metadata": {
        "id": "0vJOYWxahZ6F"
      }
    },
    {
      "cell_type": "code",
      "source": [
        "fire_df = fire_df.na.drop() #drop nulls\n",
        "fire_df = fire_df.withColumn(\"CallDate\", to_date(col(\"CallDate\"), \"dd/MM/yyyy\")) #transform \"CallDate\" to date type"
      ],
      "metadata": {
        "id": "HyvJtkt_hZZp"
      },
      "execution_count": 50,
      "outputs": []
    },
    {
      "cell_type": "markdown",
      "source": [
        "<a name=\"questions\"></a>\n",
        "## Questions"
      ],
      "metadata": {
        "id": "Tq8l-iC1gvmh"
      }
    },
    {
      "cell_type": "markdown",
      "source": [
        "+ What were all the different types of fire calls in 2018?"
      ],
      "metadata": {
        "id": "Cp6ntNpi6FST"
      }
    },
    {
      "cell_type": "code",
      "source": [
        "df_types_fire = fire_df.filter(\n",
        "    (col(\"CallType\").contains(\"Fire\")) &\n",
        "    (year(col(\"CallDate\")) == 2018)\n",
        ")\n",
        "distinct_fire_calls = df_types_fire.select(\"CallType\").distinct()\n",
        "# Show the results\n",
        "distinct_fire_calls.show(truncate=False)"
      ],
      "metadata": {
        "colab": {
          "base_uri": "https://localhost:8080/"
        },
        "id": "2loVwy1-hJGM",
        "outputId": "bd1d7306-58eb-4f88-93ce-2c1e7be74993"
      },
      "execution_count": 51,
      "outputs": [
        {
          "output_type": "stream",
          "name": "stdout",
          "text": [
            "+--------------+\n",
            "|CallType      |\n",
            "+--------------+\n",
            "|Vehicle Fire  |\n",
            "|Outside Fire  |\n",
            "|Structure Fire|\n",
            "+--------------+\n",
            "\n"
          ]
        }
      ]
    },
    {
      "cell_type": "markdown",
      "source": [
        "+ What months within the year 2018 saw the highest number of fire calls?"
      ],
      "metadata": {
        "id": "H-EgSWw1ftND"
      }
    },
    {
      "cell_type": "code",
      "source": [
        "df_number_fire = fire_df.filter(\n",
        "    (col(\"CallType\").contains(\"Fire\")) &\n",
        "    (year(col(\"CallDate\")) == 2018)\n",
        ")\n",
        "# Group by month and count the occurrences\n",
        "fire_counts_by_month = df_number_fire.groupBy(month(col(\"CallDate\")).alias(\"Month\")).agg(count(col(\"CallType\")).alias(\"Total Fire Calls\"))\n",
        "fire_counts_by_month = fire_counts_by_month.orderBy(desc(\"Total Fire Calls\"))\n",
        "# Show the results\n",
        "fire_counts_by_month.show(truncate=False)"
      ],
      "metadata": {
        "colab": {
          "base_uri": "https://localhost:8080/"
        },
        "id": "oFPF-Isuiueg",
        "outputId": "7c26337d-e9da-4fd0-9755-11f2d75a40c9"
      },
      "execution_count": 52,
      "outputs": [
        {
          "output_type": "stream",
          "name": "stdout",
          "text": [
            "+-----+----------------+\n",
            "|Month|Total Fire Calls|\n",
            "+-----+----------------+\n",
            "|1    |52              |\n",
            "|7    |45              |\n",
            "|6    |40              |\n",
            "|5    |39              |\n",
            "|3    |38              |\n",
            "|4    |38              |\n",
            "|2    |38              |\n",
            "|9    |37              |\n",
            "|8    |37              |\n",
            "|12   |28              |\n",
            "|10   |28              |\n",
            "|11   |22              |\n",
            "+-----+----------------+\n",
            "\n"
          ]
        }
      ]
    },
    {
      "cell_type": "markdown",
      "source": [
        "+ Which neighborhood in San Francisco generated the most fire calls in 2018?"
      ],
      "metadata": {
        "id": "C8m_YACLgDdX"
      }
    },
    {
      "cell_type": "code",
      "source": [
        "df_sf_fire = fire_df.filter(\n",
        "    (col(\"City\").contains(\"San Francisco\")) & (col(\"CallType\").contains(\"Fire\")) & (year(col(\"CallDate\")) == 2018)\n",
        ")\n",
        "\n",
        "# Group by month and count the occurrences\n",
        "neighborhood_fire_counts = df_sf_fire.groupBy(\"Neighborhood\").count()\n",
        "most_fire_neighborhood = neighborhood_fire_counts.orderBy(col(\"count\").desc())\n",
        "\n",
        "# Show the result\n",
        "most_fire_neighborhood.show(truncate=False)"
      ],
      "metadata": {
        "colab": {
          "base_uri": "https://localhost:8080/"
        },
        "id": "sE0nbwysjNe4",
        "outputId": "5409bca6-c372-4342-8a87-817fc9d12e8c"
      },
      "execution_count": 53,
      "outputs": [
        {
          "output_type": "stream",
          "name": "stdout",
          "text": [
            "+------------------------------+-----+\n",
            "|Neighborhood                  |count|\n",
            "+------------------------------+-----+\n",
            "|Tenderloin                    |44   |\n",
            "|Financial District/South Beach|40   |\n",
            "|Bayview Hunters Point         |34   |\n",
            "|Mission                       |32   |\n",
            "|Western Addition              |21   |\n",
            "|South of Market               |20   |\n",
            "|Haight Ashbury                |15   |\n",
            "|Sunset/Parkside               |15   |\n",
            "|Bernal Heights                |14   |\n",
            "|Outer Richmond                |13   |\n",
            "|Potrero Hill                  |13   |\n",
            "|Castro/Upper Market           |13   |\n",
            "|Pacific Heights               |13   |\n",
            "|North Beach                   |12   |\n",
            "|Hayes Valley                  |12   |\n",
            "|Nob Hill                      |12   |\n",
            "|Russian Hill                  |12   |\n",
            "|West of Twin Peaks            |11   |\n",
            "|Marina                        |10   |\n",
            "|Inner Richmond                |9    |\n",
            "+------------------------------+-----+\n",
            "only showing top 20 rows\n",
            "\n"
          ]
        }
      ]
    },
    {
      "cell_type": "markdown",
      "source": [
        "+ Which neighborhoods had the worst response times to fire calls in 2018?"
      ],
      "metadata": {
        "id": "FicdelmHuB-2"
      }
    },
    {
      "cell_type": "code",
      "source": [
        "# Sort by response time (Delay) in descending order\n",
        "df_delay = fire_df.orderBy(fire_df[\"Delay\"].desc())\n",
        "\n",
        "# Select top 3 neighborhoods\n",
        "top_3_neighborhoods_with_delays = df_delay.select(\"Neighborhood\", \"Delay\").limit(10)\n",
        "\n",
        "# Show the results\n",
        "top_3_neighborhoods_with_delays.show(truncate=False)"
      ],
      "metadata": {
        "colab": {
          "base_uri": "https://localhost:8080/"
        },
        "id": "kzBmlrlBkTP6",
        "outputId": "6f1621a3-486c-4f4c-d243-c18f58a79ad0"
      },
      "execution_count": 54,
      "outputs": [
        {
          "output_type": "stream",
          "name": "stdout",
          "text": [
            "+---------------------+---------+\n",
            "|Neighborhood         |Delay    |\n",
            "+---------------------+---------+\n",
            "|Tenderloin           |99.9     |\n",
            "|Tenderloin           |97.8     |\n",
            "|Bayview Hunters Point|95.416664|\n",
            "|South of Market      |94.71667 |\n",
            "|Chinatown            |931.45   |\n",
            "|Bayview Hunters Point|92.816666|\n",
            "|Mission              |92.51667 |\n",
            "|Lakeshore            |92.28333 |\n",
            "|Bayview Hunters Point|91.78333 |\n",
            "|South of Market      |91.666664|\n",
            "+---------------------+---------+\n",
            "\n"
          ]
        }
      ]
    },
    {
      "cell_type": "markdown",
      "source": [
        "+ Which week in the year in 2018 had the most fire calls?\n"
      ],
      "metadata": {
        "id": "f8jHcvMb3SzM"
      }
    },
    {
      "cell_type": "code",
      "source": [
        "df_week_fire_calls = fire_df.filter(\n",
        "    (col(\"CallType\").contains(\"Fire\")) &\n",
        "    (col(\"CallDate\").between(\"2018-01-01\", \"2018-12-31\"))\n",
        ")\n",
        "\n",
        "# 3. Group by week and count occurrences\n",
        "weekly_structure_fires = df_week_fire_calls.groupBy(weekofyear(\"CallDate\").alias(\"Week\")).count()\n",
        "\n",
        "# 4. Find the week with the highest count\n",
        "max_week = weekly_structure_fires.orderBy(col(\"count\").desc()).first()\n",
        "weekly_structure_fires.orderBy(col(\"count\").desc()).show()\n",
        "# Extract the week number and count\n",
        "most_fires_week = max_week[\"Week\"]\n",
        "fire_count = max_week[\"count\"]\n",
        "\n",
        "print(f\"The week {most_fires_week} in 2018 had the most \\\"Fire\\\" incidents with {fire_count} calls.\")"
      ],
      "metadata": {
        "colab": {
          "base_uri": "https://localhost:8080/"
        },
        "id": "6X5dssS2kqvN",
        "outputId": "c68c2c5a-db5d-4bc2-c969-98bcbaf121ab"
      },
      "execution_count": 55,
      "outputs": [
        {
          "output_type": "stream",
          "name": "stdout",
          "text": [
            "+----+-----+\n",
            "|Week|count|\n",
            "+----+-----+\n",
            "|   1|   37|\n",
            "|  27|   30|\n",
            "|   6|   29|\n",
            "|  23|   27|\n",
            "|  14|   26|\n",
            "|  10|   24|\n",
            "|  18|   24|\n",
            "|  40|   23|\n",
            "|  49|   22|\n",
            "|  36|   20|\n",
            "|  31|   19|\n",
            "|  32|   18|\n",
            "|  45|   16|\n",
            "|  19|   15|\n",
            "|   2|   15|\n",
            "|   9|   14|\n",
            "|  22|   13|\n",
            "|  15|   11|\n",
            "|  28|    9|\n",
            "|   5|    9|\n",
            "+----+-----+\n",
            "only showing top 20 rows\n",
            "\n",
            "The week 1 in 2018 had the most \"Fire\" incidents with 37 calls.\n"
          ]
        }
      ]
    },
    {
      "cell_type": "markdown",
      "source": [
        "+ Is there a correlation between neighborhood, zip code, and number of fire calls?"
      ],
      "metadata": {
        "id": "lOu-Lt8z3UNO"
      }
    },
    {
      "cell_type": "code",
      "source": [
        "# Filter for rows where \"CallType\" contains \"Fire\"\n",
        "df_fire_calls = fire_df.filter(col(\"CallType\").contains(\"Fire\"))\n",
        "# Group by \"neighborhood\" and \"Zipcode\" and count occurrences\n",
        "fire_counts_by_location = df_fire_calls.groupBy(\"Neighborhood\", \"Zipcode\").agg(count(\"CallType\").alias(\"Total_Fire_Incidents\"))\n",
        "\n",
        "# Show the results\n",
        "fire_counts_by_location.show(truncate=False)\n",
        "\n",
        "indexer_neighborhood = StringIndexer(inputCol=\"Neighborhood\", outputCol=\"NeighborhoodIndex\")\n",
        "indexer_zipcode = StringIndexer(inputCol=\"Zipcode\", outputCol=\"ZipcodeIndex\")\n",
        "\n",
        "df_fire_calls = indexer_neighborhood.fit(fire_counts_by_location).transform(fire_counts_by_location)\n",
        "df_fire_calls = indexer_zipcode.fit(df_fire_calls).transform(df_fire_calls)\n",
        "\n",
        "input_columns = [\"NeighborhoodIndex\", \"ZipcodeIndex\", \"Total_Fire_Incidents\"]\n",
        "\n",
        "# Assemble the feature vector\n",
        "vector_assembler = VectorAssembler(inputCols=input_columns, outputCol=\"features\")\n",
        "vector_df = vector_assembler.transform(df_fire_calls)\n",
        "\n",
        "# Calculate the correlation matrix\n",
        "correlation_matrix = Correlation.corr(vector_df, \"features\").head()\n",
        "\n",
        "# Print the correlation matrix\n",
        "print(\"Correlation matrix:\\n\")\n",
        "print(correlation_matrix[0])"
      ],
      "metadata": {
        "colab": {
          "base_uri": "https://localhost:8080/"
        },
        "id": "1Ohx4Wpak-L0",
        "outputId": "09874f91-92d1-4c58-89f4-f6b10681646e"
      },
      "execution_count": 56,
      "outputs": [
        {
          "output_type": "stream",
          "name": "stdout",
          "text": [
            "+------------------------------+-------+--------------------+\n",
            "|Neighborhood                  |Zipcode|Total_Fire_Incidents|\n",
            "+------------------------------+-------+--------------------+\n",
            "|Inner Sunset                  |94131  |18                  |\n",
            "|Castro/Upper Market           |94110  |14                  |\n",
            "|Mission Bay                   |94103  |16                  |\n",
            "|Pacific Heights               |94123  |15                  |\n",
            "|Nob Hill                      |94109  |228                 |\n",
            "|Noe Valley                    |94110  |13                  |\n",
            "|Financial District/South Beach|94103  |33                  |\n",
            "|Lone Mountain/USF             |94118  |53                  |\n",
            "|Castro/Upper Market           |94103  |9                   |\n",
            "|Golden Gate Park              |94121  |3                   |\n",
            "|Treasure Island               |94130  |63                  |\n",
            "|Western Addition              |94102  |63                  |\n",
            "|Presidio Heights              |94115  |24                  |\n",
            "|Excelsior                     |94134  |20                  |\n",
            "|Inner Sunset                  |94116  |11                  |\n",
            "|Twin Peaks                    |94131  |45                  |\n",
            "|Bayview Hunters Point         |94124  |583                 |\n",
            "|Bayview Hunters Point         |94134  |15                  |\n",
            "|Bernal Heights                |94110  |158                 |\n",
            "|Inner Sunset                  |94114  |3                   |\n",
            "+------------------------------+-------+--------------------+\n",
            "only showing top 20 rows\n",
            "\n",
            "Correlation matrix:\n",
            "\n",
            "DenseMatrix([[ 1.        ,  0.02499285,  0.11921555],\n",
            "             [ 0.02499285,  1.        , -0.08208375],\n",
            "             [ 0.11921555, -0.08208375,  1.        ]])\n"
          ]
        }
      ]
    },
    {
      "cell_type": "markdown",
      "source": [
        "+ How can we use Parquet files or SQL tables to store this data and read it back?"
      ],
      "metadata": {
        "id": "IpWKxRHY3Wuf"
      }
    },
    {
      "cell_type": "code",
      "source": [
        "fire_df.write.parquet(\"/content/drive/MyDrive/colab/massive/test.parquet\")"
      ],
      "metadata": {
        "id": "To4tLkxIlsS2"
      },
      "execution_count": 57,
      "outputs": []
    }
  ]
}