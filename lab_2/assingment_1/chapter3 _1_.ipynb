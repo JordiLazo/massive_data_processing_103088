{
  "nbformat": 4,
  "nbformat_minor": 0,
  "metadata": {
    "colab": {
      "provenance": []
    },
    "kernelspec": {
      "name": "python3",
      "display_name": "Python 3"
    },
    "language_info": {
      "name": "python"
    }
  },
  "cells": [
    {
      "cell_type": "markdown",
      "source": [
        "# Apache Spark's Structured APIs\n",
        "\n"
      ],
      "metadata": {
        "id": "OIDPhiigMKQI"
      }
    },
    {
      "cell_type": "markdown",
      "source": [
        "## Prepare environment\n",
        "First, we are going to prepare the environment for running PySaprk in the Google Collab Machine (if you work directly in your computer, and you want to prepare it, read and follow champter 2 instructions)"
      ],
      "metadata": {
        "id": "bgS3nhjaMQQt"
      }
    },
    {
      "cell_type": "code",
      "source": [
        "from google.colab import drive\n",
        "drive.mount('/content/drive')"
      ],
      "metadata": {
        "id": "QTEPUoaL69gw"
      },
      "execution_count": null,
      "outputs": []
    },
    {
      "cell_type": "code",
      "source": [
        "!python /content/drive/MyDrive/UDL/2024/install_pyspark.py"
      ],
      "metadata": {
        "id": "RsdkaEd97EHI"
      },
      "execution_count": null,
      "outputs": []
    },
    {
      "cell_type": "markdown",
      "source": [
        "## Start working with Spark\n",
        "Now we now and understand how Spark appeared in our lives and more or less how it works (and you know, it's amazing 🤭), we can start to work with it.\n",
        "As you now, the SparkSession is the way programmers \"talk\" with Spark. So, we need to inicialize that."
      ],
      "metadata": {
        "id": "u3_oicKBMsEO"
      }
    },
    {
      "cell_type": "code",
      "source": [
        "from pyspark.sql import SparkSession\n",
        "\n",
        "spark = (SparkSession\n",
        " .builder\n",
        " .appName(\"example\")\n",
        " .getOrCreate())"
      ],
      "metadata": {
        "id": "ekZc-YctYpwJ"
      },
      "execution_count": null,
      "outputs": []
    },
    {
      "cell_type": "markdown",
      "source": [
        "## Example of working with RDDs\n",
        "But remember, since Spark 2.X we have Structured Data APIs and WE 🧡 DF"
      ],
      "metadata": {
        "id": "tqFOiyErNuHk"
      }
    },
    {
      "cell_type": "code",
      "source": [
        "from pyspark import SparkContext\n",
        "# Create an RDD of tuples (name, age)\n",
        "dataRDD = spark.sparkContext.parallelize([(\"Brooke\", 20), (\"Denny\", 31), (\"Jules\", 30), (\"TD\", 35), (\"Brooke\", 25)])\n",
        "# Use map and reduceByKey transformations with their lambda\n",
        "# expressions to aggregate and then compute average\n",
        "agesRDD = (dataRDD\n",
        ".map(lambda x: (x[0], (x[1], 1)))\n",
        ".reduceByKey(lambda x, y: (x[0] + y[0], x[1] + y[1]))\n",
        ".map(lambda x: (x[0], x[1][0]/x[1][1])))\n",
        "agesRDD.collect()"
      ],
      "metadata": {
        "id": "es7-0PCeXvHx"
      },
      "execution_count": null,
      "outputs": []
    },
    {
      "cell_type": "markdown",
      "source": [
        "## Example of working with DFs\n",
        "Yep, as you can see it's easier, clearlier, more bueatiful... (it looks like pandas, isn't it?)"
      ],
      "metadata": {
        "id": "uQHcAB5cOBxV"
      }
    },
    {
      "cell_type": "code",
      "source": [
        "from pyspark.sql.functions import avg\n",
        "\n",
        "data_df = spark.createDataFrame([(\"Brooke\", 20), (\"Denny\", 31), (\"Jules\", 30), (\"TD\", 35), (\"Brooke\", 25)], [\"name\", \"age\"])\n",
        "# Group the same names together, aggregate their ages, and compute an average\n",
        "avg_df = data_df.groupBy(\"name\").agg(avg(\"age\"))\n",
        "# Show the results of the final execution\n",
        "avg_df.show()"
      ],
      "metadata": {
        "id": "jYZQkqf37lm4"
      },
      "execution_count": null,
      "outputs": []
    },
    {
      "cell_type": "markdown",
      "source": [
        "## Define schemas\n",
        "There are two ways to defines them:"
      ],
      "metadata": {
        "id": "vPvhaoAJO08c"
      }
    },
    {
      "cell_type": "markdown",
      "source": [
        "### Define the schema programatically"
      ],
      "metadata": {
        "id": "a4BznmGnPAPU"
      }
    },
    {
      "cell_type": "code",
      "source": [
        "from pyspark.sql.types import *\n",
        "schema_programatically = StructType([StructField(\"Id\", IntegerType(), False),\n",
        "  StructField(\"First\", StringType(), False),\n",
        "  StructField(\"Last\", StringType(), False),\n",
        "  StructField(\"Url\", StringType(), False),\n",
        "  StructField(\"Published\", StringType(), False),\n",
        "  StructField(\"Hints\", IntegerType(), False),\n",
        "  StructField(\"Campaigns\", ArrayType(StringType()), False),\n",
        " ])"
      ],
      "metadata": {
        "id": "MGt75kO4Y1Kf"
      },
      "execution_count": null,
      "outputs": []
    },
    {
      "cell_type": "markdown",
      "source": [
        "### Define the schema using DDL"
      ],
      "metadata": {
        "id": "93lpj2Y1PZec"
      }
    },
    {
      "cell_type": "code",
      "source": [
        "schema_ddl = \"`Id` INT, `First` STRING, `Last` STRING, `Url` STRING, `Published` STRING, `Hits` INT, `Campaigns` ARRAY<STRING>\"\n",
        "\n"
      ],
      "metadata": {
        "id": "Qri60GusPUMb"
      },
      "execution_count": null,
      "outputs": []
    },
    {
      "cell_type": "markdown",
      "source": [
        "### Example creating data with both"
      ],
      "metadata": {
        "id": "rraMBoX2Qcxs"
      }
    },
    {
      "cell_type": "code",
      "source": [
        "#create our data\n",
        "data = [[1, \"Jules\", \"Damji\", \"https://tinyurl.1\", \"1/4/2016\", 4535, [\"twitter\", \"LinkedIn\"]],\n",
        "       [2, \"Brooke\",\"Wenig\",\"https://tinyurl.2\", \"5/5/2018\", 8908, [\"twitter\", \"LinkedIn\"]],\n",
        "       [3, \"Denny\", \"Lee\", \"https://tinyurl.3\",\"6/7/2019\",7659, [\"web\", \"twitter\", \"FB\", \"LinkedIn\"]],\n",
        "       [4, \"Tathagata\", \"Das\",\"https://tinyurl.4\", \"5/12/2018\", 10568, [\"twitter\", \"FB\"]],\n",
        "       [5, \"Matei\",\"Zaharia\", \"https://tinyurl.5\", \"5/14/2014\", 40578, [\"web\", \"twitter\", \"FB\", \"LinkedIn\"]],\n",
        "       [6, \"Reynold\", \"Xin\", \"https://tinyurl.6\", \"3/2/2015\", 25568, [\"twitter\", \"LinkedIn\"]]\n",
        "      ]"
      ],
      "metadata": {
        "id": "z-8imTWOPg06"
      },
      "execution_count": null,
      "outputs": []
    },
    {
      "cell_type": "code",
      "source": [
        "# create a DataFrame using the schema built programatically\n",
        "blogs_df = spark.createDataFrame(data, schema_programatically)\n",
        "blogs_df.show()"
      ],
      "metadata": {
        "id": "mXK1ZHkIQnMc"
      },
      "execution_count": null,
      "outputs": []
    },
    {
      "cell_type": "code",
      "source": [
        "# create a DataFrame using the schema built programatically\n",
        "blogs_df = spark.createDataFrame(data, schema_ddl)\n",
        "blogs_df.show(truncate=False)"
      ],
      "metadata": {
        "id": "Do7xvaglQt-7"
      },
      "execution_count": null,
      "outputs": []
    },
    {
      "cell_type": "markdown",
      "source": [
        "## Exercice 1\n",
        "As you can see, the previous schema are not exactly the same. In the programatically way, we can specify not nulleable values. Any idea about how to do the same with DDL?"
      ],
      "metadata": {
        "id": "s4eEQanYRtT1"
      }
    },
    {
      "cell_type": "code",
      "source": [
        "#pass"
      ],
      "metadata": {
        "id": "wvMQqV0gQ4WL"
      },
      "execution_count": null,
      "outputs": []
    },
    {
      "cell_type": "markdown",
      "source": [
        "### Get Schema from DF"
      ],
      "metadata": {
        "id": "kaXI16gfV9UV"
      }
    },
    {
      "cell_type": "code",
      "source": [
        "blogs_df.schema"
      ],
      "metadata": {
        "id": "W--2O1Q5SKZZ"
      },
      "execution_count": null,
      "outputs": []
    },
    {
      "cell_type": "markdown",
      "source": [
        "### Read data from json\n",
        "Download data from https://github.com/databricks/LearningSparkV2/blob/master/chapter3/scala/data/blogs.json"
      ],
      "metadata": {
        "id": "z095l-qbWL2F"
      }
    },
    {
      "cell_type": "code",
      "source": [
        "import wget\n",
        "json_url = \"https://raw.githubusercontent.com/databricks/LearningSparkV2/master/chapter3/scala/data/blogs.json\"\n",
        "wget.download(json_url)"
      ],
      "metadata": {
        "id": "aw7yuLR2WEwj"
      },
      "execution_count": null,
      "outputs": []
    },
    {
      "cell_type": "code",
      "source": [
        "blogs_df = spark.read.json('blogs.json')"
      ],
      "metadata": {
        "id": "fuoB82W1Wiir"
      },
      "execution_count": null,
      "outputs": []
    },
    {
      "cell_type": "code",
      "source": [
        "blogs_df = spark.read.schema(schema_ddl).json('blogs.json')"
      ],
      "metadata": {
        "id": "s11KbcoFWwKs"
      },
      "execution_count": null,
      "outputs": []
    },
    {
      "cell_type": "markdown",
      "source": [
        "*Return to slides*"
      ],
      "metadata": {
        "id": "RJejny9IcU19"
      }
    },
    {
      "cell_type": "markdown",
      "source": [
        "## Columns and Expressions"
      ],
      "metadata": {
        "id": "A05ZxsG1caP2"
      }
    },
    {
      "cell_type": "markdown",
      "source": [
        "### List all columns of DF"
      ],
      "metadata": {
        "id": "8ij1IHStchql"
      }
    },
    {
      "cell_type": "code",
      "source": [
        "blogs_df.columns"
      ],
      "metadata": {
        "id": "TUEAaIuFcYU6"
      },
      "execution_count": null,
      "outputs": []
    },
    {
      "cell_type": "markdown",
      "source": [
        "### Access to particular columns with col function"
      ],
      "metadata": {
        "id": "gQPlsmT8cq1m"
      }
    },
    {
      "cell_type": "code",
      "source": [
        "blogs_df[\"Id\"]"
      ],
      "metadata": {
        "id": "1AlQt8vlcn_M"
      },
      "execution_count": null,
      "outputs": []
    },
    {
      "cell_type": "markdown",
      "source": [
        "### Different ways of computing values"
      ],
      "metadata": {
        "id": "Mni6yWQDdkt1"
      }
    },
    {
      "cell_type": "code",
      "source": [
        "from pyspark.sql.functions import expr\n",
        "blogs_df.select(expr(\"Hits * 2\")).show()"
      ],
      "metadata": {
        "id": "CnhzQKxed0XF"
      },
      "execution_count": null,
      "outputs": []
    },
    {
      "cell_type": "code",
      "source": [
        "blogs_df.selectExpr(\"Hits * 2\").show()"
      ],
      "metadata": {
        "id": "JdNWf99_cz1s"
      },
      "execution_count": null,
      "outputs": []
    },
    {
      "cell_type": "code",
      "source": [
        "from pyspark.sql.functions import col\n",
        "blogs_df.select(col(\"Hits\") * 2).show()"
      ],
      "metadata": {
        "id": "nmiYRZNudtTB"
      },
      "execution_count": null,
      "outputs": []
    },
    {
      "cell_type": "markdown",
      "source": [
        "### Create new columns"
      ],
      "metadata": {
        "id": "AfIqnLEOgmj1"
      }
    },
    {
      "cell_type": "code",
      "source": [
        "blogs_df.withColumn(\"Big Hitters\", col(\"Hits\")>10000).show()"
      ],
      "metadata": {
        "id": "a8gBzvQReLGD"
      },
      "execution_count": null,
      "outputs": []
    },
    {
      "cell_type": "code",
      "source": [
        "# big_hitters_df = blogs_df.withColumn(\"Big Hitters\", col(\"Hits\")>10000)"
      ],
      "metadata": {
        "id": "bjXMt1mNgDQ9"
      },
      "execution_count": null,
      "outputs": []
    },
    {
      "cell_type": "markdown",
      "source": [
        "For our mental health: import pyspark.sql.functions as F"
      ],
      "metadata": {
        "id": "rtBUy_yfqOTd"
      }
    },
    {
      "cell_type": "code",
      "source": [
        "import pyspark.sql.functions as F\n",
        "blogs_df \\\n",
        "  .withColumn(\"CompleteName\", F.concat(F.col(\"First\"), F.lit(\"\"), F.col(\"Last\"))).show()"
      ],
      "metadata": {
        "id": "l-zF08ftgYt5"
      },
      "execution_count": null,
      "outputs": []
    },
    {
      "cell_type": "markdown",
      "source": [
        "### Select (project) some columns"
      ],
      "metadata": {
        "id": "fHXYEPB7rFzF"
      }
    },
    {
      "cell_type": "code",
      "source": [
        "blogs_df.select(F.col(\"Hits\")).show()"
      ],
      "metadata": {
        "id": "eFxSQNSkrD7V"
      },
      "execution_count": null,
      "outputs": []
    },
    {
      "cell_type": "code",
      "source": [
        "blogs_df.select(\"Hits\").show()"
      ],
      "metadata": {
        "id": "ajvmvRCJhGgi"
      },
      "execution_count": null,
      "outputs": []
    },
    {
      "cell_type": "code",
      "source": [
        "blogs_df.select(F.col(\"Hits\"), F.col(\"Id\")).show()"
      ],
      "metadata": {
        "id": "gIsXZ5u2rbPc"
      },
      "execution_count": null,
      "outputs": []
    },
    {
      "cell_type": "code",
      "source": [
        "blogs_df.select([\"Hits\", \"Id\"]).show()"
      ],
      "metadata": {
        "id": "YfXIQ3TlreV8"
      },
      "execution_count": null,
      "outputs": []
    },
    {
      "cell_type": "markdown",
      "source": [
        "### Sort values"
      ],
      "metadata": {
        "id": "Uc6KEDMmr3I_"
      }
    },
    {
      "cell_type": "code",
      "source": [
        "blogs_df.sort(col(\"Hits\"),ascending=False).show()"
      ],
      "metadata": {
        "id": "8Bhbz6KdrjxT"
      },
      "execution_count": null,
      "outputs": []
    },
    {
      "cell_type": "markdown",
      "source": [
        "*Return to slides*"
      ],
      "metadata": {
        "id": "N3Ty_R43sgRN"
      }
    },
    {
      "cell_type": "markdown",
      "source": [
        "## Rows"
      ],
      "metadata": {
        "id": "XGoLAIW4tCdd"
      }
    },
    {
      "cell_type": "markdown",
      "source": [
        "We can get all the df's records as a list of :class:`Row`"
      ],
      "metadata": {
        "id": "WQqIXwqVtYYN"
      }
    },
    {
      "cell_type": "code",
      "source": [
        "blogs_df.collect()"
      ],
      "metadata": {
        "id": "Lwdkpdi1sNt0"
      },
      "execution_count": null,
      "outputs": []
    },
    {
      "cell_type": "markdown",
      "source": [
        "We also can create Row objects"
      ],
      "metadata": {
        "id": "U08HHoWmtlDd"
      }
    },
    {
      "cell_type": "code",
      "source": [
        "from pyspark.sql import Row\n",
        "blog_row = Row(6, \"Reynold\", \"Xin\", \"https://tinyurl.6\", 255568, \"3/2/2015\", [\"twitter\"])"
      ],
      "metadata": {
        "id": "jV1ep-mKtLBE"
      },
      "execution_count": null,
      "outputs": []
    },
    {
      "cell_type": "markdown",
      "source": [
        "We can access elements in row by position:"
      ],
      "metadata": {
        "id": "EDbghyNtuDGs"
      }
    },
    {
      "cell_type": "code",
      "source": [
        "blog_row[0]"
      ],
      "metadata": {
        "id": "OwSK4bmdt3oi"
      },
      "execution_count": null,
      "outputs": []
    },
    {
      "cell_type": "markdown",
      "source": [
        "or by column name:"
      ],
      "metadata": {
        "id": "PKMPtyBluJvc"
      }
    },
    {
      "cell_type": "code",
      "source": [
        "blog_row[\"Id\"]"
      ],
      "metadata": {
        "id": "umsNIb_WuHo8"
      },
      "execution_count": null,
      "outputs": []
    },
    {
      "cell_type": "markdown",
      "source": [
        "The problem here, is that Spark doen't know the columns names... to fix we could create it like:"
      ],
      "metadata": {
        "id": "H3cNGluvul91"
      }
    },
    {
      "cell_type": "code",
      "source": [
        "blog_named_row = Row(Id=6, First=\"Reynold\", Last=\"Xin\", Url=\"https://tinyurl.6\", Hits=255568, Published=\"3/2/2015\", Campaigns=[\"twitter\"])"
      ],
      "metadata": {
        "id": "GpqfHHZhuM4z"
      },
      "execution_count": null,
      "outputs": []
    },
    {
      "cell_type": "code",
      "source": [
        "blog_named_row[\"Id\"]"
      ],
      "metadata": {
        "id": "V8SR5n_CvaL0"
      },
      "execution_count": null,
      "outputs": []
    },
    {
      "cell_type": "markdown",
      "source": [
        "We can create a DF from a list of  Raws"
      ],
      "metadata": {
        "id": "TAyGkrjLvlId"
      }
    },
    {
      "cell_type": "code",
      "source": [
        "df_from_named_raws = spark.createDataFrame([blog_named_row])"
      ],
      "metadata": {
        "id": "7agENUwnvcK7"
      },
      "execution_count": null,
      "outputs": []
    },
    {
      "cell_type": "code",
      "source": [
        "df_from_raws = spark.createDataFrame([blog_row], ['Id', 'First', 'Last', 'Url', 'Hits', 'Published', 'Campaigns'])"
      ],
      "metadata": {
        "id": "xBmXoYACvr6E"
      },
      "execution_count": null,
      "outputs": []
    },
    {
      "cell_type": "markdown",
      "source": [
        "## Write results"
      ],
      "metadata": {
        "id": "xOxO9POyxEct"
      }
    },
    {
      "cell_type": "code",
      "source": [
        "parquet_path= \"blogs_df.parquet\"\n",
        "blogs_df.write.parquet(parquet_path)"
      ],
      "metadata": {
        "id": "_LnOEGW1wgq1"
      },
      "execution_count": null,
      "outputs": []
    },
    {
      "cell_type": "code",
      "source": [
        "json_path= \"blogs_df.json\"\n",
        "blogs_df.write.json(json_path)"
      ],
      "metadata": {
        "id": "4uQtxV_txOaJ"
      },
      "execution_count": null,
      "outputs": []
    },
    {
      "cell_type": "markdown",
      "source": [
        "Return to slides"
      ],
      "metadata": {
        "id": "eFLhLRybwfxF"
      }
    },
    {
      "cell_type": "markdown",
      "source": [
        "## Filters"
      ],
      "metadata": {
        "id": "Lz_l_4_N0ACG"
      }
    },
    {
      "cell_type": "code",
      "source": [
        "blogs_df.filter(F.col(\"Hits\") > 10000).show()"
      ],
      "metadata": {
        "id": "iFL0wqJB0AuE"
      },
      "execution_count": null,
      "outputs": []
    },
    {
      "cell_type": "code",
      "source": [
        "blogs_df.where(F.col(\"Hits\") > 10000).where(F.array_contains(F.col(\"Campaigns\"),\"FB\")).show()"
      ],
      "metadata": {
        "id": "RumSUJ4K0NQs"
      },
      "execution_count": null,
      "outputs": []
    },
    {
      "cell_type": "code",
      "source": [
        "wget.download('https://github.com/databricks/LearningSparkV2/raw/master/chapter3/data/sf-fire-calls.csv')\n",
        "fire_df = spark.read.csv('sf-fire-calls.csv', header = True)"
      ],
      "metadata": {
        "id": "rc8ZMEFI0R97"
      },
      "execution_count": null,
      "outputs": []
    },
    {
      "cell_type": "code",
      "source": [
        "fire_df.show()"
      ],
      "metadata": {
        "id": "kCMK1Mtz4_pj"
      },
      "execution_count": null,
      "outputs": []
    },
    {
      "cell_type": "code",
      "source": [
        "medical_inc_df = fire_df\\\n",
        "  .select(\"IncidentNumber\", \"AvailableDtTm\", \"CallType\")\\\n",
        "  .where(F.col(\"callType\") != \"Medical Incident\")"
      ],
      "metadata": {
        "id": "amyk979n5c8c"
      },
      "execution_count": null,
      "outputs": []
    },
    {
      "cell_type": "code",
      "source": [
        "medical_inc_df.show(5, False)"
      ],
      "metadata": {
        "id": "W7LKQ35W5-O8"
      },
      "execution_count": null,
      "outputs": []
    },
    {
      "cell_type": "markdown",
      "source": [
        "### Aggregations\n",
        "Let's imagine, we want to count different kinds of calls"
      ],
      "metadata": {
        "id": "bAbR224s6PSW"
      }
    },
    {
      "cell_type": "code",
      "source": [
        "fire_df\\\n",
        "  .select(\"CallType\")\\\n",
        "  .where(F.col(\"CallType\").isNotNull())\\\n",
        "  .agg(F.count_distinct(\"CallType\").alias(\"diff_types\"))\\\n",
        "  .show()"
      ],
      "metadata": {
        "id": "9AuYnQtu6C-0"
      },
      "execution_count": null,
      "outputs": []
    },
    {
      "cell_type": "markdown",
      "source": [
        "And list them"
      ],
      "metadata": {
        "id": "c1UvXZHN6-JN"
      }
    },
    {
      "cell_type": "code",
      "source": [
        "fire_df\\\n",
        "  .select(\"CallType\")\\\n",
        "  .where(F.col(\"CallType\").isNotNull())\\\n",
        "  .distinct()\\\n",
        "  .show(30, truncate=False)"
      ],
      "metadata": {
        "id": "qckjRHnr6oPV"
      },
      "execution_count": null,
      "outputs": []
    },
    {
      "cell_type": "markdown",
      "source": [
        " ### Renaming, adding and dropping columns"
      ],
      "metadata": {
        "id": "MMOCGmCX7by2"
      }
    },
    {
      "cell_type": "code",
      "source": [
        "new_fire_df = fire_df.withColumnRenamed(\"Delay\", \"ResponseDelayedinMins\")"
      ],
      "metadata": {
        "id": "z6p9Afde7IQU"
      },
      "execution_count": null,
      "outputs": []
    },
    {
      "cell_type": "code",
      "source": [
        "new_fire_df.printSchema()"
      ],
      "metadata": {
        "id": "LDNCy13KAycj"
      },
      "execution_count": null,
      "outputs": []
    },
    {
      "cell_type": "markdown",
      "source": [
        "Now, usual data processing: change dates to timestamps:"
      ],
      "metadata": {
        "id": "0Tj_YYyuGC0I"
      }
    },
    {
      "cell_type": "code",
      "source": [
        "fire_ts_df = (new_fire_df\n",
        " .withColumn(\"IncidentDate\", F.to_timestamp(col(\"CallDate\"), \"MM/dd/yyyy\"))\n",
        " .drop(\"CallDate\")\n",
        " .withColumn(\"OnWatchDate\", F.to_timestamp(col(\"WatchDate\"), \"MM/dd/yyyy\"))\n",
        " .drop(\"WatchDate\")\n",
        " .withColumn(\"AvailableDtTS\", F.to_timestamp(col(\"AvailableDtTm\"),\n",
        " \"MM/dd/yyyy hh:mm:ss a\"))\n",
        " .drop(\"AvailableDtTm\"))"
      ],
      "metadata": {
        "id": "4W8RTGT0A5st"
      },
      "execution_count": null,
      "outputs": []
    },
    {
      "cell_type": "code",
      "source": [
        "fire_ts_df.show()"
      ],
      "metadata": {
        "id": "DIAI5CVXGVy9"
      },
      "execution_count": null,
      "outputs": []
    },
    {
      "cell_type": "markdown",
      "source": [
        "### Aggregations"
      ],
      "metadata": {
        "id": "rHyKtVCnJqbJ"
      }
    },
    {
      "cell_type": "markdown",
      "source": [
        " + What are the most common types of fire calls?"
      ],
      "metadata": {
        "id": "1mNH8N7kJ_gm"
      }
    },
    {
      "cell_type": "code",
      "source": [
        "(fire_ts_df\n",
        " .select(\"CallType\")\n",
        " .where(col(\"CallType\").isNotNull())\n",
        " .groupBy(\"CallType\")\n",
        " .count() # it's a kind of aggregation\n",
        " .orderBy(\"count\", ascending=False)\n",
        " .show(n=10, truncate=False))"
      ],
      "metadata": {
        "id": "fkF5xskDGbrl"
      },
      "execution_count": null,
      "outputs": []
    },
    {
      "cell_type": "code",
      "source": [
        "(fire_ts_df\n",
        " .select(F.sum(\"NumAlarms\"),\n",
        "         F.avg(\"ResponseDelayedinMins\"),\n",
        "         F.min(\"ResponseDelayedinMins\"),\n",
        "         F.max(\"ResponseDelayedinMins\"))\n",
        " .show())\n"
      ],
      "metadata": {
        "id": "g6yOG_t8J9Ve"
      },
      "execution_count": null,
      "outputs": []
    },
    {
      "cell_type": "markdown",
      "source": [
        "+ What were all the different types of fire calls in 2018?\n",
        "+ What months within the year 2018 saw the highest number of fire calls?\n",
        "+ Which neighborhood in San Francisco generated the most fire calls in 2018?\n",
        "+ Which neighborhoods had the worst response times to fire calls in 2018?\n",
        "+ Which week in the year in 2018 had the most fire calls?\n",
        "+ Is there a correlation between neighborhood, zip code, and number of fire calls?\n",
        "+ How can we use Parquet files or SQL tables to store this data and read it back?\n"
      ],
      "metadata": {
        "id": "xEDGCFxbN87f"
      }
    },
    {
      "cell_type": "code",
      "source": [],
      "metadata": {
        "id": "MsKVMBPoKXhX"
      },
      "execution_count": null,
      "outputs": []
    }
  ]
}