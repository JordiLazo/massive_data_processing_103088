{
  "cells": [
    {
      "cell_type": "markdown",
      "metadata": {
        "id": "9305vABtnnhk"
      },
      "source": [
        "\n",
        "# 103088 - Massive Data Processing\n",
        "\n",
        "## Prediction of the stars of the reviews of a business\n"
      ]
    },
    {
      "cell_type": "markdown",
      "metadata": {
        "id": "U6K74aZ-_9d5"
      },
      "source": [
        "### Summary\n",
        "1. [Introduction](#introduction)\n",
        "2. [Goals](#goals)\n",
        "3. [Possible obstacles](#possible-obstacles)\n",
        "4. [Stakeholders](#stakeholders)\n",
        "5. [Technical requirements](#technical-requirements)\n",
        "6. [Source code](#source-code)\n",
        "  * [Data pre-analysis and pre-processing](#data-pre-processing-analysis)\n",
        "  * [Data analysis](#data-analysis)\n",
        "  * [Data processing](#data-processing)\n",
        "  * [Machine Learning Model](#ml)\n",
        "7. [Conclusions](#conclusions)\n",
        "8. [References](#references)"
      ]
    },
    {
      "cell_type": "markdown",
      "metadata": {
        "id": "pjzWLKgw33Wi"
      },
      "source": [
        "<a name=\"introduction\"></a>\n",
        "## Introduction\n",
        "\n",
        "* In today's dynamic business landscape, understanding the intricate relationship between a business's characteristics and its performance is crucial for informed decision-making and sustainable growth. This endeavor requires a comprehensive approach that leverages advanced technologies, and in this context, we aim to enhance customer experience and streamline business operations through the implementation of a Machine Learning (ML) model.\n",
        "\n",
        "* We seek to examine the correlation between a business's location, category, and its performance metrics, such as star ratings and review counts to predict the number of stars that business will have. This analysis aims to unveil insights into which types of businesses thrive in specific states in USA, providing valuable information for strategic planning and market positioning.\n",
        "\n",
        "* One of the key objectives is to develop a predictive model that anticipates the star rating a company is likely to receive based on its unique characteristics. This predictive capability not only enables businesses to proactively manage and enhance their reputation but also empowers stakeholders, particularly investors, to make more informed decisions by understanding the inherent risks associated with a particular company.\n",
        "\n",
        "* However, the journey toward achieving these objectives is not without its challenges. We must grapple with ensuring the quality and completeness of our data, addressing potential inaccuracies and gaps that could impact the reliability of our analysis.\n",
        "\n",
        "<p align=\"center\">\n",
        "<img src=\"images/goals.jpeg\" alt=\"drawing\" width=\"400\"/>\n",
        "</p>\n",
        "\n"
      ]
    },
    {
      "cell_type": "markdown",
      "metadata": {
        "id": "rvI9nmsDGWYx"
      },
      "source": [
        "<a name=\"goals\"></a>\n",
        "## Goals\n",
        "\n",
        "### Business Performance Analysis:\n",
        "\n",
        "* Objective: Examine the relationship between a business's location, category, and its performance indicators, such as star ratings and review counts by understanding how various business characteristics influence performance, the analysis aims to provide insights into which types of businesses excel in specific areas or regions. This information is vital for strategic decision-making, helping businesses optimize their offerings based on the unique attributes of their operating environment.\n",
        "\n",
        "### Prediction of Business Ratings:\n",
        "\n",
        "* Objective: Develop a predictive model to estimate the star rating a company is likely to receive based on its characteristics. The ability to predict a business's rating in advance is a powerful tool for managing and enhancing reputation. It allows businesses to proactively address potential issues, improve customer satisfaction, and maintain a positive online presence. Additionally, this prediction model serves as a risk detection mechanism, providing stakeholders, especially investors, with valuable insights into the potential performance of a business.\n",
        "\n",
        "<p align=\"center\">\n",
        "<img src=\"https://drive.google.com/uc?export=view&id=1mnU7C7f_xJBdDvvalOQdZR4UFe93Ga2h\" alt=\"drawing\" width=\"400\"/>\n",
        "</p>"
      ]
    },
    {
      "cell_type": "markdown",
      "metadata": {
        "id": "aQCpWSeUIvI7"
      },
      "source": [
        "<a name=\"possible-obstacles\"></a>\n",
        "## Possible obstacles\n",
        "\n",
        "### Data Quality and Completeness\n",
        "\n",
        "* Ensuring the data used for analysis is accurate, consistent, and complete. Inaccurate data could lead to flawed insights and incorrect conclusions.\n",
        "Incomplete data may result in gaps, limiting the scope and reliability of the analysis.\n",
        "\n",
        "* RAM Limitations: Ensure that the system has enough RAM to handle the dataset. If the dataset is larger than available RAM, consider processing it in chunks or using techniques like data sampling.\n",
        "\n",
        "* Analyzing a large dataset requires significant processing power. Ensure that the computer or server has sufficient CPU and memory resources to handle the size of the dataset. Consider using distributed computing frameworks like Apache Spark for parallel processing.\n",
        "\n",
        "<p align=\"center\">\n",
        "<img src=\"https://drive.google.com/uc?export=view&id=1MgfOIU8GMo6mfhZPCUa1-BAVOzemwyfY\" alt=\"drawing\" width=\"400\"/>\n",
        "</p>"
      ]
    },
    {
      "cell_type": "markdown",
      "metadata": {
        "id": "zjq0TFkrKn8t"
      },
      "source": [
        "<a name=\"stakeholders\"></a>\n",
        "## Stakeholders\n",
        "\n",
        "The stakeholders involved in this initiative span from business owners concerned about return on investment (ROI) and implementation costs to the marketing team relying on accurate data for targeted campaigns. Additionally, investors keenly await the predictive ratings, understanding that these insights directly influence their investment decisions.\n",
        "\n",
        "So we can classify them into three groups.\n",
        "\n",
        "* Business Owners: Concerned about ROI and implementation costs.\n",
        "* Marketing Team: Requires accurate data for targeted campaigns.\n",
        "* Investors: The predicted ratings can directly impact their investment decisions.\n",
        "\n",
        "\n",
        "<p align=\"center\">\n",
        "<img src=\"https://drive.google.com/uc?export=view&id=1AV3NtKGnGrWg967lu9FiAKB7wEjhrPe9\" alt=\"drawing\" width=\"400\"/>\n",
        "</p>"
      ]
    },
    {
      "cell_type": "markdown",
      "metadata": {
        "id": "PdB3HoDdMwg3"
      },
      "source": [
        "<a name=\"technical-requirements\"></a>\n",
        "## Technical requirements\n",
        "\n",
        "### 1. Define and Examine Data Sources:\n",
        "\n",
        "* Data Source: The current JSON dataset with business information.\n",
        "* Data Validation: Ensure data quality and handle missing or inconsistent data.\n",
        "\n",
        "### 2. Working with the Data:\n",
        "\n",
        "* Data Analysis: Perform exploratory data analysis to understand trends and patterns.\n",
        "* Data Processing: Clean, transform, and structure data for analysis.\n",
        "* Data Visualization: Create visualizations to present insights to stakeholders.\n",
        "* Machine Learning: Apply predictive models for customer behavior prediction or recommendation systems."
      ]
    },
    {
      "cell_type": "markdown",
      "metadata": {
        "id": "w_1_2hmtN4AK"
      },
      "source": [
        "<a name=\"source-code\"></a>\n",
        "## Source code"
      ]
    },
    {
      "cell_type": "markdown",
      "metadata": {
        "id": "hUL4vQpIQYD3"
      },
      "source": [
        "<a name=\"data-pre-processing-analysis\"></a>\n",
        "## Data pre-analysis and pre-processing"
      ]
    },
    {
      "cell_type": "markdown",
      "metadata": {
        "id": "YTU4kOnv7yJ_"
      },
      "source": [
        "Python libraries installation and imports"
      ]
    },
    {
      "cell_type": "code",
      "execution_count": null,
      "metadata": {
        "colab": {
          "base_uri": "https://localhost:8080/"
        },
        "id": "nGZrcnbFjohX",
        "outputId": "01d50186-5d58-46e0-961b-0a93848b9ec5"
      },
      "outputs": [
        {
          "name": "stdout",
          "output_type": "stream",
          "text": [
            "Requirement already satisfied: pandas in /usr/local/lib/python3.10/dist-packages (1.5.3)\n",
            "Requirement already satisfied: python-dateutil>=2.8.1 in /usr/local/lib/python3.10/dist-packages (from pandas) (2.8.2)\n",
            "Requirement already satisfied: pytz>=2020.1 in /usr/local/lib/python3.10/dist-packages (from pandas) (2023.3.post1)\n",
            "Requirement already satisfied: numpy>=1.21.0 in /usr/local/lib/python3.10/dist-packages (from pandas) (1.23.5)\n",
            "Requirement already satisfied: six>=1.5 in /usr/local/lib/python3.10/dist-packages (from python-dateutil>=2.8.1->pandas) (1.16.0)\n",
            "Requirement already satisfied: matplotlib in /usr/local/lib/python3.10/dist-packages (3.7.1)\n",
            "Requirement already satisfied: contourpy>=1.0.1 in /usr/local/lib/python3.10/dist-packages (from matplotlib) (1.2.0)\n",
            "Requirement already satisfied: cycler>=0.10 in /usr/local/lib/python3.10/dist-packages (from matplotlib) (0.12.1)\n",
            "Requirement already satisfied: fonttools>=4.22.0 in /usr/local/lib/python3.10/dist-packages (from matplotlib) (4.46.0)\n",
            "Requirement already satisfied: kiwisolver>=1.0.1 in /usr/local/lib/python3.10/dist-packages (from matplotlib) (1.4.5)\n",
            "Requirement already satisfied: numpy>=1.20 in /usr/local/lib/python3.10/dist-packages (from matplotlib) (1.23.5)\n",
            "Requirement already satisfied: packaging>=20.0 in /usr/local/lib/python3.10/dist-packages (from matplotlib) (23.2)\n",
            "Requirement already satisfied: pillow>=6.2.0 in /usr/local/lib/python3.10/dist-packages (from matplotlib) (9.4.0)\n",
            "Requirement already satisfied: pyparsing>=2.3.1 in /usr/local/lib/python3.10/dist-packages (from matplotlib) (3.1.1)\n",
            "Requirement already satisfied: python-dateutil>=2.7 in /usr/local/lib/python3.10/dist-packages (from matplotlib) (2.8.2)\n",
            "Requirement already satisfied: six>=1.5 in /usr/local/lib/python3.10/dist-packages (from python-dateutil>=2.7->matplotlib) (1.16.0)\n",
            "Requirement already satisfied: seaborn in /usr/local/lib/python3.10/dist-packages (0.12.2)\n",
            "Requirement already satisfied: numpy!=1.24.0,>=1.17 in /usr/local/lib/python3.10/dist-packages (from seaborn) (1.23.5)\n",
            "Requirement already satisfied: pandas>=0.25 in /usr/local/lib/python3.10/dist-packages (from seaborn) (1.5.3)\n",
            "Requirement already satisfied: matplotlib!=3.6.1,>=3.1 in /usr/local/lib/python3.10/dist-packages (from seaborn) (3.7.1)\n",
            "Requirement already satisfied: contourpy>=1.0.1 in /usr/local/lib/python3.10/dist-packages (from matplotlib!=3.6.1,>=3.1->seaborn) (1.2.0)\n",
            "Requirement already satisfied: cycler>=0.10 in /usr/local/lib/python3.10/dist-packages (from matplotlib!=3.6.1,>=3.1->seaborn) (0.12.1)\n",
            "Requirement already satisfied: fonttools>=4.22.0 in /usr/local/lib/python3.10/dist-packages (from matplotlib!=3.6.1,>=3.1->seaborn) (4.46.0)\n",
            "Requirement already satisfied: kiwisolver>=1.0.1 in /usr/local/lib/python3.10/dist-packages (from matplotlib!=3.6.1,>=3.1->seaborn) (1.4.5)\n",
            "Requirement already satisfied: packaging>=20.0 in /usr/local/lib/python3.10/dist-packages (from matplotlib!=3.6.1,>=3.1->seaborn) (23.2)\n",
            "Requirement already satisfied: pillow>=6.2.0 in /usr/local/lib/python3.10/dist-packages (from matplotlib!=3.6.1,>=3.1->seaborn) (9.4.0)\n",
            "Requirement already satisfied: pyparsing>=2.3.1 in /usr/local/lib/python3.10/dist-packages (from matplotlib!=3.6.1,>=3.1->seaborn) (3.1.1)\n",
            "Requirement already satisfied: python-dateutil>=2.7 in /usr/local/lib/python3.10/dist-packages (from matplotlib!=3.6.1,>=3.1->seaborn) (2.8.2)\n",
            "Requirement already satisfied: pytz>=2020.1 in /usr/local/lib/python3.10/dist-packages (from pandas>=0.25->seaborn) (2023.3.post1)\n",
            "Requirement already satisfied: six>=1.5 in /usr/local/lib/python3.10/dist-packages (from python-dateutil>=2.7->matplotlib!=3.6.1,>=3.1->seaborn) (1.16.0)\n",
            "Requirement already satisfied: pyspark in /usr/local/lib/python3.10/dist-packages (3.5.0)\n",
            "Requirement already satisfied: py4j==0.10.9.7 in /usr/local/lib/python3.10/dist-packages (from pyspark) (0.10.9.7)\n",
            "Requirement already satisfied: ipython-autotime in /usr/local/lib/python3.10/dist-packages (0.3.2)\n",
            "Requirement already satisfied: ipython in /usr/local/lib/python3.10/dist-packages (from ipython-autotime) (7.34.0)\n",
            "Requirement already satisfied: setuptools>=18.5 in /usr/local/lib/python3.10/dist-packages (from ipython->ipython-autotime) (67.7.2)\n",
            "Requirement already satisfied: jedi>=0.16 in /usr/local/lib/python3.10/dist-packages (from ipython->ipython-autotime) (0.19.1)\n",
            "Requirement already satisfied: decorator in /usr/local/lib/python3.10/dist-packages (from ipython->ipython-autotime) (4.4.2)\n",
            "Requirement already satisfied: pickleshare in /usr/local/lib/python3.10/dist-packages (from ipython->ipython-autotime) (0.7.5)\n",
            "Requirement already satisfied: traitlets>=4.2 in /usr/local/lib/python3.10/dist-packages (from ipython->ipython-autotime) (5.7.1)\n",
            "Requirement already satisfied: prompt-toolkit!=3.0.0,!=3.0.1,<3.1.0,>=2.0.0 in /usr/local/lib/python3.10/dist-packages (from ipython->ipython-autotime) (3.0.43)\n",
            "Requirement already satisfied: pygments in /usr/local/lib/python3.10/dist-packages (from ipython->ipython-autotime) (2.16.1)\n",
            "Requirement already satisfied: backcall in /usr/local/lib/python3.10/dist-packages (from ipython->ipython-autotime) (0.2.0)\n",
            "Requirement already satisfied: matplotlib-inline in /usr/local/lib/python3.10/dist-packages (from ipython->ipython-autotime) (0.1.6)\n",
            "Requirement already satisfied: pexpect>4.3 in /usr/local/lib/python3.10/dist-packages (from ipython->ipython-autotime) (4.9.0)\n",
            "Requirement already satisfied: parso<0.9.0,>=0.8.3 in /usr/local/lib/python3.10/dist-packages (from jedi>=0.16->ipython->ipython-autotime) (0.8.3)\n",
            "Requirement already satisfied: ptyprocess>=0.5 in /usr/local/lib/python3.10/dist-packages (from pexpect>4.3->ipython->ipython-autotime) (0.7.0)\n",
            "Requirement already satisfied: wcwidth in /usr/local/lib/python3.10/dist-packages (from prompt-toolkit!=3.0.0,!=3.0.1,<3.1.0,>=2.0.0->ipython->ipython-autotime) (0.2.12)\n",
            "The autotime extension is already loaded. To reload it, use:\n",
            "  %reload_ext autotime\n",
            "time: 51 s (started: 2023-12-27 08:37:36 +00:00)\n"
          ]
        }
      ],
      "source": [
        "!pip install pandas\n",
        "!pip install matplotlib\n",
        "!pip install seaborn\n",
        "!pip install pyspark\n",
        "!pip install ipython-autotime\n",
        "%load_ext autotime\n",
        "import pyspark.sql\n",
        "import math\n",
        "import pyspark\n",
        "import itertools\n",
        "import pandas as pd\n",
        "import json\n",
        "import matplotlib.pyplot as plt\n",
        "import seaborn as sns\n",
        "import numpy as np\n",
        "from google.colab import drive\n",
        "from pyspark.sql import SparkSession\n",
        "from pyspark.sql.functions import when, col\n",
        "from pyspark.ml.stat import Correlation\n",
        "from pyspark.ml.feature import VectorAssembler\n",
        "from sklearn.model_selection import train_test_split\n",
        "from sklearn.utils.multiclass import type_of_target\n",
        "from pyspark.ml.evaluation import RegressionEvaluator\n",
        "from sklearn.linear_model import LinearRegression\n",
        "from sklearn.metrics import mean_squared_error, r2_score,accuracy_score\n",
        "from sklearn.ensemble import RandomForestRegressor"
      ]
    },
    {
      "cell_type": "markdown",
      "metadata": {
        "id": "_tNuXnwl8lSh"
      },
      "source": [
        "Upload of datasets"
      ]
    },
    {
      "cell_type": "code",
      "execution_count": null,
      "metadata": {
        "colab": {
          "base_uri": "https://localhost:8080/"
        },
        "id": "jN8bts-7lI7W",
        "outputId": "19ce5392-1469-46a2-be3a-bfb3603a0996"
      },
      "outputs": [
        {
          "name": "stdout",
          "output_type": "stream",
          "text": [
            "Drive already mounted at /content/drive; to attempt to forcibly remount, call drive.mount(\"/content/drive\", force_remount=True).\n",
            "time: 11.3 s (started: 2023-12-27 08:38:27 +00:00)\n"
          ]
        }
      ],
      "source": [
        "drive.mount('/content/drive')\n",
        "\n",
        "file_path_business = \"/content/drive/MyDrive/colab/yelp_academic_dataset_business.json\"\n",
        "file_path_usa = \"/content/drive/MyDrive/colab/usa_state_2022.csv\"\n",
        "\n",
        "df_businesses = pd.read_json(file_path_business,lines=True)\n",
        "df_usa = pd.read_csv(file_path_usa)"
      ]
    },
    {
      "cell_type": "markdown",
      "metadata": {
        "id": "Q3I9bjvOTJNr"
      },
      "source": [
        "We look at the content of yelp_academic_dataset_business.json"
      ]
    },
    {
      "cell_type": "code",
      "execution_count": null,
      "metadata": {
        "colab": {
          "base_uri": "https://localhost:8080/",
          "height": 519
        },
        "id": "0kD3KBdRikiY",
        "outputId": "35bb3004-4c1e-4e56-8db0-24883e77ffd0"
      },
      "outputs": [
        {
          "data": {
            "text/html": [
              "\n",
              "  <div id=\"df-c277a1c9-a1bd-48a0-8091-534f0d8513f1\" class=\"colab-df-container\">\n",
              "    <div>\n",
              "<style scoped>\n",
              "    .dataframe tbody tr th:only-of-type {\n",
              "        vertical-align: middle;\n",
              "    }\n",
              "\n",
              "    .dataframe tbody tr th {\n",
              "        vertical-align: top;\n",
              "    }\n",
              "\n",
              "    .dataframe thead th {\n",
              "        text-align: right;\n",
              "    }\n",
              "</style>\n",
              "<table border=\"1\" class=\"dataframe\">\n",
              "  <thead>\n",
              "    <tr style=\"text-align: right;\">\n",
              "      <th></th>\n",
              "      <th>business_id</th>\n",
              "      <th>name</th>\n",
              "      <th>address</th>\n",
              "      <th>city</th>\n",
              "      <th>state</th>\n",
              "      <th>postal_code</th>\n",
              "      <th>latitude</th>\n",
              "      <th>longitude</th>\n",
              "      <th>stars</th>\n",
              "      <th>review_count</th>\n",
              "      <th>is_open</th>\n",
              "      <th>attributes</th>\n",
              "      <th>categories</th>\n",
              "      <th>hours</th>\n",
              "    </tr>\n",
              "  </thead>\n",
              "  <tbody>\n",
              "    <tr>\n",
              "      <th>0</th>\n",
              "      <td>Pns2l4eNsfO8kk83dixA6A</td>\n",
              "      <td>Abby Rappoport, LAC, CMQ</td>\n",
              "      <td>1616 Chapala St, Ste 2</td>\n",
              "      <td>Santa Barbara</td>\n",
              "      <td>CA</td>\n",
              "      <td>93101</td>\n",
              "      <td>34.426679</td>\n",
              "      <td>-119.711197</td>\n",
              "      <td>5.0</td>\n",
              "      <td>7</td>\n",
              "      <td>0</td>\n",
              "      <td>{'ByAppointmentOnly': 'True'}</td>\n",
              "      <td>Doctors, Traditional Chinese Medicine, Naturop...</td>\n",
              "      <td>None</td>\n",
              "    </tr>\n",
              "    <tr>\n",
              "      <th>1</th>\n",
              "      <td>mpf3x-BjTdTEA3yCZrAYPw</td>\n",
              "      <td>The UPS Store</td>\n",
              "      <td>87 Grasso Plaza Shopping Center</td>\n",
              "      <td>Affton</td>\n",
              "      <td>MO</td>\n",
              "      <td>63123</td>\n",
              "      <td>38.551126</td>\n",
              "      <td>-90.335695</td>\n",
              "      <td>3.0</td>\n",
              "      <td>15</td>\n",
              "      <td>1</td>\n",
              "      <td>{'BusinessAcceptsCreditCards': 'True'}</td>\n",
              "      <td>Shipping Centers, Local Services, Notaries, Ma...</td>\n",
              "      <td>{'Monday': '0:0-0:0', 'Tuesday': '8:0-18:30', ...</td>\n",
              "    </tr>\n",
              "    <tr>\n",
              "      <th>2</th>\n",
              "      <td>tUFrWirKiKi_TAnsVWINQQ</td>\n",
              "      <td>Target</td>\n",
              "      <td>5255 E Broadway Blvd</td>\n",
              "      <td>Tucson</td>\n",
              "      <td>AZ</td>\n",
              "      <td>85711</td>\n",
              "      <td>32.223236</td>\n",
              "      <td>-110.880452</td>\n",
              "      <td>3.5</td>\n",
              "      <td>22</td>\n",
              "      <td>0</td>\n",
              "      <td>{'BikeParking': 'True', 'BusinessAcceptsCredit...</td>\n",
              "      <td>Department Stores, Shopping, Fashion, Home &amp; G...</td>\n",
              "      <td>{'Monday': '8:0-22:0', 'Tuesday': '8:0-22:0', ...</td>\n",
              "    </tr>\n",
              "    <tr>\n",
              "      <th>3</th>\n",
              "      <td>MTSW4McQd7CbVtyjqoe9mw</td>\n",
              "      <td>St Honore Pastries</td>\n",
              "      <td>935 Race St</td>\n",
              "      <td>Philadelphia</td>\n",
              "      <td>PA</td>\n",
              "      <td>19107</td>\n",
              "      <td>39.955505</td>\n",
              "      <td>-75.155564</td>\n",
              "      <td>4.0</td>\n",
              "      <td>80</td>\n",
              "      <td>1</td>\n",
              "      <td>{'RestaurantsDelivery': 'False', 'OutdoorSeati...</td>\n",
              "      <td>Restaurants, Food, Bubble Tea, Coffee &amp; Tea, B...</td>\n",
              "      <td>{'Monday': '7:0-20:0', 'Tuesday': '7:0-20:0', ...</td>\n",
              "    </tr>\n",
              "    <tr>\n",
              "      <th>4</th>\n",
              "      <td>mWMc6_wTdE0EUBKIGXDVfA</td>\n",
              "      <td>Perkiomen Valley Brewery</td>\n",
              "      <td>101 Walnut St</td>\n",
              "      <td>Green Lane</td>\n",
              "      <td>PA</td>\n",
              "      <td>18054</td>\n",
              "      <td>40.338183</td>\n",
              "      <td>-75.471659</td>\n",
              "      <td>4.5</td>\n",
              "      <td>13</td>\n",
              "      <td>1</td>\n",
              "      <td>{'BusinessAcceptsCreditCards': 'True', 'Wheelc...</td>\n",
              "      <td>Brewpubs, Breweries, Food</td>\n",
              "      <td>{'Wednesday': '14:0-22:0', 'Thursday': '16:0-2...</td>\n",
              "    </tr>\n",
              "  </tbody>\n",
              "</table>\n",
              "</div>\n",
              "    <div class=\"colab-df-buttons\">\n",
              "\n",
              "  <div class=\"colab-df-container\">\n",
              "    <button class=\"colab-df-convert\" onclick=\"convertToInteractive('df-c277a1c9-a1bd-48a0-8091-534f0d8513f1')\"\n",
              "            title=\"Convert this dataframe to an interactive table.\"\n",
              "            style=\"display:none;\">\n",
              "\n",
              "  <svg xmlns=\"http://www.w3.org/2000/svg\" height=\"24px\" viewBox=\"0 -960 960 960\">\n",
              "    <path d=\"M120-120v-720h720v720H120Zm60-500h600v-160H180v160Zm220 220h160v-160H400v160Zm0 220h160v-160H400v160ZM180-400h160v-160H180v160Zm440 0h160v-160H620v160ZM180-180h160v-160H180v160Zm440 0h160v-160H620v160Z\"/>\n",
              "  </svg>\n",
              "    </button>\n",
              "\n",
              "  <style>\n",
              "    .colab-df-container {\n",
              "      display:flex;\n",
              "      gap: 12px;\n",
              "    }\n",
              "\n",
              "    .colab-df-convert {\n",
              "      background-color: #E8F0FE;\n",
              "      border: none;\n",
              "      border-radius: 50%;\n",
              "      cursor: pointer;\n",
              "      display: none;\n",
              "      fill: #1967D2;\n",
              "      height: 32px;\n",
              "      padding: 0 0 0 0;\n",
              "      width: 32px;\n",
              "    }\n",
              "\n",
              "    .colab-df-convert:hover {\n",
              "      background-color: #E2EBFA;\n",
              "      box-shadow: 0px 1px 2px rgba(60, 64, 67, 0.3), 0px 1px 3px 1px rgba(60, 64, 67, 0.15);\n",
              "      fill: #174EA6;\n",
              "    }\n",
              "\n",
              "    .colab-df-buttons div {\n",
              "      margin-bottom: 4px;\n",
              "    }\n",
              "\n",
              "    [theme=dark] .colab-df-convert {\n",
              "      background-color: #3B4455;\n",
              "      fill: #D2E3FC;\n",
              "    }\n",
              "\n",
              "    [theme=dark] .colab-df-convert:hover {\n",
              "      background-color: #434B5C;\n",
              "      box-shadow: 0px 1px 3px 1px rgba(0, 0, 0, 0.15);\n",
              "      filter: drop-shadow(0px 1px 2px rgba(0, 0, 0, 0.3));\n",
              "      fill: #FFFFFF;\n",
              "    }\n",
              "  </style>\n",
              "\n",
              "    <script>\n",
              "      const buttonEl =\n",
              "        document.querySelector('#df-c277a1c9-a1bd-48a0-8091-534f0d8513f1 button.colab-df-convert');\n",
              "      buttonEl.style.display =\n",
              "        google.colab.kernel.accessAllowed ? 'block' : 'none';\n",
              "\n",
              "      async function convertToInteractive(key) {\n",
              "        const element = document.querySelector('#df-c277a1c9-a1bd-48a0-8091-534f0d8513f1');\n",
              "        const dataTable =\n",
              "          await google.colab.kernel.invokeFunction('convertToInteractive',\n",
              "                                                    [key], {});\n",
              "        if (!dataTable) return;\n",
              "\n",
              "        const docLinkHtml = 'Like what you see? Visit the ' +\n",
              "          '<a target=\"_blank\" href=https://colab.research.google.com/notebooks/data_table.ipynb>data table notebook</a>'\n",
              "          + ' to learn more about interactive tables.';\n",
              "        element.innerHTML = '';\n",
              "        dataTable['output_type'] = 'display_data';\n",
              "        await google.colab.output.renderOutput(dataTable, element);\n",
              "        const docLink = document.createElement('div');\n",
              "        docLink.innerHTML = docLinkHtml;\n",
              "        element.appendChild(docLink);\n",
              "      }\n",
              "    </script>\n",
              "  </div>\n",
              "\n",
              "\n",
              "<div id=\"df-9f6c1813-e683-4427-8d47-231a8247d37d\">\n",
              "  <button class=\"colab-df-quickchart\" onclick=\"quickchart('df-9f6c1813-e683-4427-8d47-231a8247d37d')\"\n",
              "            title=\"Suggest charts\"\n",
              "            style=\"display:none;\">\n",
              "\n",
              "<svg xmlns=\"http://www.w3.org/2000/svg\" height=\"24px\"viewBox=\"0 0 24 24\"\n",
              "     width=\"24px\">\n",
              "    <g>\n",
              "        <path d=\"M19 3H5c-1.1 0-2 .9-2 2v14c0 1.1.9 2 2 2h14c1.1 0 2-.9 2-2V5c0-1.1-.9-2-2-2zM9 17H7v-7h2v7zm4 0h-2V7h2v10zm4 0h-2v-4h2v4z\"/>\n",
              "    </g>\n",
              "</svg>\n",
              "  </button>\n",
              "\n",
              "<style>\n",
              "  .colab-df-quickchart {\n",
              "      --bg-color: #E8F0FE;\n",
              "      --fill-color: #1967D2;\n",
              "      --hover-bg-color: #E2EBFA;\n",
              "      --hover-fill-color: #174EA6;\n",
              "      --disabled-fill-color: #AAA;\n",
              "      --disabled-bg-color: #DDD;\n",
              "  }\n",
              "\n",
              "  [theme=dark] .colab-df-quickchart {\n",
              "      --bg-color: #3B4455;\n",
              "      --fill-color: #D2E3FC;\n",
              "      --hover-bg-color: #434B5C;\n",
              "      --hover-fill-color: #FFFFFF;\n",
              "      --disabled-bg-color: #3B4455;\n",
              "      --disabled-fill-color: #666;\n",
              "  }\n",
              "\n",
              "  .colab-df-quickchart {\n",
              "    background-color: var(--bg-color);\n",
              "    border: none;\n",
              "    border-radius: 50%;\n",
              "    cursor: pointer;\n",
              "    display: none;\n",
              "    fill: var(--fill-color);\n",
              "    height: 32px;\n",
              "    padding: 0;\n",
              "    width: 32px;\n",
              "  }\n",
              "\n",
              "  .colab-df-quickchart:hover {\n",
              "    background-color: var(--hover-bg-color);\n",
              "    box-shadow: 0 1px 2px rgba(60, 64, 67, 0.3), 0 1px 3px 1px rgba(60, 64, 67, 0.15);\n",
              "    fill: var(--button-hover-fill-color);\n",
              "  }\n",
              "\n",
              "  .colab-df-quickchart-complete:disabled,\n",
              "  .colab-df-quickchart-complete:disabled:hover {\n",
              "    background-color: var(--disabled-bg-color);\n",
              "    fill: var(--disabled-fill-color);\n",
              "    box-shadow: none;\n",
              "  }\n",
              "\n",
              "  .colab-df-spinner {\n",
              "    border: 2px solid var(--fill-color);\n",
              "    border-color: transparent;\n",
              "    border-bottom-color: var(--fill-color);\n",
              "    animation:\n",
              "      spin 1s steps(1) infinite;\n",
              "  }\n",
              "\n",
              "  @keyframes spin {\n",
              "    0% {\n",
              "      border-color: transparent;\n",
              "      border-bottom-color: var(--fill-color);\n",
              "      border-left-color: var(--fill-color);\n",
              "    }\n",
              "    20% {\n",
              "      border-color: transparent;\n",
              "      border-left-color: var(--fill-color);\n",
              "      border-top-color: var(--fill-color);\n",
              "    }\n",
              "    30% {\n",
              "      border-color: transparent;\n",
              "      border-left-color: var(--fill-color);\n",
              "      border-top-color: var(--fill-color);\n",
              "      border-right-color: var(--fill-color);\n",
              "    }\n",
              "    40% {\n",
              "      border-color: transparent;\n",
              "      border-right-color: var(--fill-color);\n",
              "      border-top-color: var(--fill-color);\n",
              "    }\n",
              "    60% {\n",
              "      border-color: transparent;\n",
              "      border-right-color: var(--fill-color);\n",
              "    }\n",
              "    80% {\n",
              "      border-color: transparent;\n",
              "      border-right-color: var(--fill-color);\n",
              "      border-bottom-color: var(--fill-color);\n",
              "    }\n",
              "    90% {\n",
              "      border-color: transparent;\n",
              "      border-bottom-color: var(--fill-color);\n",
              "    }\n",
              "  }\n",
              "</style>\n",
              "\n",
              "  <script>\n",
              "    async function quickchart(key) {\n",
              "      const quickchartButtonEl =\n",
              "        document.querySelector('#' + key + ' button');\n",
              "      quickchartButtonEl.disabled = true;  // To prevent multiple clicks.\n",
              "      quickchartButtonEl.classList.add('colab-df-spinner');\n",
              "      try {\n",
              "        const charts = await google.colab.kernel.invokeFunction(\n",
              "            'suggestCharts', [key], {});\n",
              "      } catch (error) {\n",
              "        console.error('Error during call to suggestCharts:', error);\n",
              "      }\n",
              "      quickchartButtonEl.classList.remove('colab-df-spinner');\n",
              "      quickchartButtonEl.classList.add('colab-df-quickchart-complete');\n",
              "    }\n",
              "    (() => {\n",
              "      let quickchartButtonEl =\n",
              "        document.querySelector('#df-9f6c1813-e683-4427-8d47-231a8247d37d button');\n",
              "      quickchartButtonEl.style.display =\n",
              "        google.colab.kernel.accessAllowed ? 'block' : 'none';\n",
              "    })();\n",
              "  </script>\n",
              "</div>\n",
              "    </div>\n",
              "  </div>\n"
            ],
            "text/plain": [
              "              business_id                      name  \\\n",
              "0  Pns2l4eNsfO8kk83dixA6A  Abby Rappoport, LAC, CMQ   \n",
              "1  mpf3x-BjTdTEA3yCZrAYPw             The UPS Store   \n",
              "2  tUFrWirKiKi_TAnsVWINQQ                    Target   \n",
              "3  MTSW4McQd7CbVtyjqoe9mw        St Honore Pastries   \n",
              "4  mWMc6_wTdE0EUBKIGXDVfA  Perkiomen Valley Brewery   \n",
              "\n",
              "                           address           city state postal_code  \\\n",
              "0           1616 Chapala St, Ste 2  Santa Barbara    CA       93101   \n",
              "1  87 Grasso Plaza Shopping Center         Affton    MO       63123   \n",
              "2             5255 E Broadway Blvd         Tucson    AZ       85711   \n",
              "3                      935 Race St   Philadelphia    PA       19107   \n",
              "4                    101 Walnut St     Green Lane    PA       18054   \n",
              "\n",
              "    latitude   longitude  stars  review_count  is_open  \\\n",
              "0  34.426679 -119.711197    5.0             7        0   \n",
              "1  38.551126  -90.335695    3.0            15        1   \n",
              "2  32.223236 -110.880452    3.5            22        0   \n",
              "3  39.955505  -75.155564    4.0            80        1   \n",
              "4  40.338183  -75.471659    4.5            13        1   \n",
              "\n",
              "                                          attributes  \\\n",
              "0                      {'ByAppointmentOnly': 'True'}   \n",
              "1             {'BusinessAcceptsCreditCards': 'True'}   \n",
              "2  {'BikeParking': 'True', 'BusinessAcceptsCredit...   \n",
              "3  {'RestaurantsDelivery': 'False', 'OutdoorSeati...   \n",
              "4  {'BusinessAcceptsCreditCards': 'True', 'Wheelc...   \n",
              "\n",
              "                                          categories  \\\n",
              "0  Doctors, Traditional Chinese Medicine, Naturop...   \n",
              "1  Shipping Centers, Local Services, Notaries, Ma...   \n",
              "2  Department Stores, Shopping, Fashion, Home & G...   \n",
              "3  Restaurants, Food, Bubble Tea, Coffee & Tea, B...   \n",
              "4                          Brewpubs, Breweries, Food   \n",
              "\n",
              "                                               hours  \n",
              "0                                               None  \n",
              "1  {'Monday': '0:0-0:0', 'Tuesday': '8:0-18:30', ...  \n",
              "2  {'Monday': '8:0-22:0', 'Tuesday': '8:0-22:0', ...  \n",
              "3  {'Monday': '7:0-20:0', 'Tuesday': '7:0-20:0', ...  \n",
              "4  {'Wednesday': '14:0-22:0', 'Thursday': '16:0-2...  "
            ]
          },
          "execution_count": 171,
          "metadata": {},
          "output_type": "execute_result"
        },
        {
          "name": "stdout",
          "output_type": "stream",
          "text": [
            "time: 45 ms (started: 2023-12-27 08:38:38 +00:00)\n"
          ]
        }
      ],
      "source": [
        "df_businesses.head()"
      ]
    },
    {
      "cell_type": "markdown",
      "metadata": {
        "id": "MxFBP0ojs9U0"
      },
      "source": [
        "We look at the content of usa_state_2022.csv"
      ]
    },
    {
      "cell_type": "code",
      "execution_count": null,
      "metadata": {
        "colab": {
          "base_uri": "https://localhost:8080/",
          "height": 224
        },
        "id": "waM9_pQ-9-id",
        "outputId": "239422d2-3153-4adf-df04-94a6fc825727"
      },
      "outputs": [
        {
          "data": {
            "text/html": [
              "\n",
              "  <div id=\"df-1a1c0cb8-c368-4257-b774-adf22826476a\" class=\"colab-df-container\">\n",
              "    <div>\n",
              "<style scoped>\n",
              "    .dataframe tbody tr th:only-of-type {\n",
              "        vertical-align: middle;\n",
              "    }\n",
              "\n",
              "    .dataframe tbody tr th {\n",
              "        vertical-align: top;\n",
              "    }\n",
              "\n",
              "    .dataframe thead th {\n",
              "        text-align: right;\n",
              "    }\n",
              "</style>\n",
              "<table border=\"1\" class=\"dataframe\">\n",
              "  <thead>\n",
              "    <tr style=\"text-align: right;\">\n",
              "      <th></th>\n",
              "      <th>state</th>\n",
              "      <th>name_state</th>\n",
              "      <th>population</th>\n",
              "      <th>average_salary</th>\n",
              "    </tr>\n",
              "  </thead>\n",
              "  <tbody>\n",
              "    <tr>\n",
              "      <th>0</th>\n",
              "      <td>AL</td>\n",
              "      <td>Alabama</td>\n",
              "      <td>5074296</td>\n",
              "      <td>44930.0</td>\n",
              "    </tr>\n",
              "    <tr>\n",
              "      <th>1</th>\n",
              "      <td>AK</td>\n",
              "      <td>Alaska</td>\n",
              "      <td>733583</td>\n",
              "      <td>59290.0</td>\n",
              "    </tr>\n",
              "    <tr>\n",
              "      <th>2</th>\n",
              "      <td>AZ</td>\n",
              "      <td>Arizona</td>\n",
              "      <td>7359197</td>\n",
              "      <td>50930.0</td>\n",
              "    </tr>\n",
              "    <tr>\n",
              "      <th>3</th>\n",
              "      <td>AR</td>\n",
              "      <td>Arkansas</td>\n",
              "      <td>3045637</td>\n",
              "      <td>42690.0</td>\n",
              "    </tr>\n",
              "    <tr>\n",
              "      <th>4</th>\n",
              "      <td>CA</td>\n",
              "      <td>California</td>\n",
              "      <td>39029342</td>\n",
              "      <td>61290.0</td>\n",
              "    </tr>\n",
              "  </tbody>\n",
              "</table>\n",
              "</div>\n",
              "    <div class=\"colab-df-buttons\">\n",
              "\n",
              "  <div class=\"colab-df-container\">\n",
              "    <button class=\"colab-df-convert\" onclick=\"convertToInteractive('df-1a1c0cb8-c368-4257-b774-adf22826476a')\"\n",
              "            title=\"Convert this dataframe to an interactive table.\"\n",
              "            style=\"display:none;\">\n",
              "\n",
              "  <svg xmlns=\"http://www.w3.org/2000/svg\" height=\"24px\" viewBox=\"0 -960 960 960\">\n",
              "    <path d=\"M120-120v-720h720v720H120Zm60-500h600v-160H180v160Zm220 220h160v-160H400v160Zm0 220h160v-160H400v160ZM180-400h160v-160H180v160Zm440 0h160v-160H620v160ZM180-180h160v-160H180v160Zm440 0h160v-160H620v160Z\"/>\n",
              "  </svg>\n",
              "    </button>\n",
              "\n",
              "  <style>\n",
              "    .colab-df-container {\n",
              "      display:flex;\n",
              "      gap: 12px;\n",
              "    }\n",
              "\n",
              "    .colab-df-convert {\n",
              "      background-color: #E8F0FE;\n",
              "      border: none;\n",
              "      border-radius: 50%;\n",
              "      cursor: pointer;\n",
              "      display: none;\n",
              "      fill: #1967D2;\n",
              "      height: 32px;\n",
              "      padding: 0 0 0 0;\n",
              "      width: 32px;\n",
              "    }\n",
              "\n",
              "    .colab-df-convert:hover {\n",
              "      background-color: #E2EBFA;\n",
              "      box-shadow: 0px 1px 2px rgba(60, 64, 67, 0.3), 0px 1px 3px 1px rgba(60, 64, 67, 0.15);\n",
              "      fill: #174EA6;\n",
              "    }\n",
              "\n",
              "    .colab-df-buttons div {\n",
              "      margin-bottom: 4px;\n",
              "    }\n",
              "\n",
              "    [theme=dark] .colab-df-convert {\n",
              "      background-color: #3B4455;\n",
              "      fill: #D2E3FC;\n",
              "    }\n",
              "\n",
              "    [theme=dark] .colab-df-convert:hover {\n",
              "      background-color: #434B5C;\n",
              "      box-shadow: 0px 1px 3px 1px rgba(0, 0, 0, 0.15);\n",
              "      filter: drop-shadow(0px 1px 2px rgba(0, 0, 0, 0.3));\n",
              "      fill: #FFFFFF;\n",
              "    }\n",
              "  </style>\n",
              "\n",
              "    <script>\n",
              "      const buttonEl =\n",
              "        document.querySelector('#df-1a1c0cb8-c368-4257-b774-adf22826476a button.colab-df-convert');\n",
              "      buttonEl.style.display =\n",
              "        google.colab.kernel.accessAllowed ? 'block' : 'none';\n",
              "\n",
              "      async function convertToInteractive(key) {\n",
              "        const element = document.querySelector('#df-1a1c0cb8-c368-4257-b774-adf22826476a');\n",
              "        const dataTable =\n",
              "          await google.colab.kernel.invokeFunction('convertToInteractive',\n",
              "                                                    [key], {});\n",
              "        if (!dataTable) return;\n",
              "\n",
              "        const docLinkHtml = 'Like what you see? Visit the ' +\n",
              "          '<a target=\"_blank\" href=https://colab.research.google.com/notebooks/data_table.ipynb>data table notebook</a>'\n",
              "          + ' to learn more about interactive tables.';\n",
              "        element.innerHTML = '';\n",
              "        dataTable['output_type'] = 'display_data';\n",
              "        await google.colab.output.renderOutput(dataTable, element);\n",
              "        const docLink = document.createElement('div');\n",
              "        docLink.innerHTML = docLinkHtml;\n",
              "        element.appendChild(docLink);\n",
              "      }\n",
              "    </script>\n",
              "  </div>\n",
              "\n",
              "\n",
              "<div id=\"df-d9a4ac1c-cab3-425a-9718-dcbac0d6b881\">\n",
              "  <button class=\"colab-df-quickchart\" onclick=\"quickchart('df-d9a4ac1c-cab3-425a-9718-dcbac0d6b881')\"\n",
              "            title=\"Suggest charts\"\n",
              "            style=\"display:none;\">\n",
              "\n",
              "<svg xmlns=\"http://www.w3.org/2000/svg\" height=\"24px\"viewBox=\"0 0 24 24\"\n",
              "     width=\"24px\">\n",
              "    <g>\n",
              "        <path d=\"M19 3H5c-1.1 0-2 .9-2 2v14c0 1.1.9 2 2 2h14c1.1 0 2-.9 2-2V5c0-1.1-.9-2-2-2zM9 17H7v-7h2v7zm4 0h-2V7h2v10zm4 0h-2v-4h2v4z\"/>\n",
              "    </g>\n",
              "</svg>\n",
              "  </button>\n",
              "\n",
              "<style>\n",
              "  .colab-df-quickchart {\n",
              "      --bg-color: #E8F0FE;\n",
              "      --fill-color: #1967D2;\n",
              "      --hover-bg-color: #E2EBFA;\n",
              "      --hover-fill-color: #174EA6;\n",
              "      --disabled-fill-color: #AAA;\n",
              "      --disabled-bg-color: #DDD;\n",
              "  }\n",
              "\n",
              "  [theme=dark] .colab-df-quickchart {\n",
              "      --bg-color: #3B4455;\n",
              "      --fill-color: #D2E3FC;\n",
              "      --hover-bg-color: #434B5C;\n",
              "      --hover-fill-color: #FFFFFF;\n",
              "      --disabled-bg-color: #3B4455;\n",
              "      --disabled-fill-color: #666;\n",
              "  }\n",
              "\n",
              "  .colab-df-quickchart {\n",
              "    background-color: var(--bg-color);\n",
              "    border: none;\n",
              "    border-radius: 50%;\n",
              "    cursor: pointer;\n",
              "    display: none;\n",
              "    fill: var(--fill-color);\n",
              "    height: 32px;\n",
              "    padding: 0;\n",
              "    width: 32px;\n",
              "  }\n",
              "\n",
              "  .colab-df-quickchart:hover {\n",
              "    background-color: var(--hover-bg-color);\n",
              "    box-shadow: 0 1px 2px rgba(60, 64, 67, 0.3), 0 1px 3px 1px rgba(60, 64, 67, 0.15);\n",
              "    fill: var(--button-hover-fill-color);\n",
              "  }\n",
              "\n",
              "  .colab-df-quickchart-complete:disabled,\n",
              "  .colab-df-quickchart-complete:disabled:hover {\n",
              "    background-color: var(--disabled-bg-color);\n",
              "    fill: var(--disabled-fill-color);\n",
              "    box-shadow: none;\n",
              "  }\n",
              "\n",
              "  .colab-df-spinner {\n",
              "    border: 2px solid var(--fill-color);\n",
              "    border-color: transparent;\n",
              "    border-bottom-color: var(--fill-color);\n",
              "    animation:\n",
              "      spin 1s steps(1) infinite;\n",
              "  }\n",
              "\n",
              "  @keyframes spin {\n",
              "    0% {\n",
              "      border-color: transparent;\n",
              "      border-bottom-color: var(--fill-color);\n",
              "      border-left-color: var(--fill-color);\n",
              "    }\n",
              "    20% {\n",
              "      border-color: transparent;\n",
              "      border-left-color: var(--fill-color);\n",
              "      border-top-color: var(--fill-color);\n",
              "    }\n",
              "    30% {\n",
              "      border-color: transparent;\n",
              "      border-left-color: var(--fill-color);\n",
              "      border-top-color: var(--fill-color);\n",
              "      border-right-color: var(--fill-color);\n",
              "    }\n",
              "    40% {\n",
              "      border-color: transparent;\n",
              "      border-right-color: var(--fill-color);\n",
              "      border-top-color: var(--fill-color);\n",
              "    }\n",
              "    60% {\n",
              "      border-color: transparent;\n",
              "      border-right-color: var(--fill-color);\n",
              "    }\n",
              "    80% {\n",
              "      border-color: transparent;\n",
              "      border-right-color: var(--fill-color);\n",
              "      border-bottom-color: var(--fill-color);\n",
              "    }\n",
              "    90% {\n",
              "      border-color: transparent;\n",
              "      border-bottom-color: var(--fill-color);\n",
              "    }\n",
              "  }\n",
              "</style>\n",
              "\n",
              "  <script>\n",
              "    async function quickchart(key) {\n",
              "      const quickchartButtonEl =\n",
              "        document.querySelector('#' + key + ' button');\n",
              "      quickchartButtonEl.disabled = true;  // To prevent multiple clicks.\n",
              "      quickchartButtonEl.classList.add('colab-df-spinner');\n",
              "      try {\n",
              "        const charts = await google.colab.kernel.invokeFunction(\n",
              "            'suggestCharts', [key], {});\n",
              "      } catch (error) {\n",
              "        console.error('Error during call to suggestCharts:', error);\n",
              "      }\n",
              "      quickchartButtonEl.classList.remove('colab-df-spinner');\n",
              "      quickchartButtonEl.classList.add('colab-df-quickchart-complete');\n",
              "    }\n",
              "    (() => {\n",
              "      let quickchartButtonEl =\n",
              "        document.querySelector('#df-d9a4ac1c-cab3-425a-9718-dcbac0d6b881 button');\n",
              "      quickchartButtonEl.style.display =\n",
              "        google.colab.kernel.accessAllowed ? 'block' : 'none';\n",
              "    })();\n",
              "  </script>\n",
              "</div>\n",
              "    </div>\n",
              "  </div>\n"
            ],
            "text/plain": [
              "  state  name_state  population  average_salary\n",
              "0    AL     Alabama     5074296         44930.0\n",
              "1    AK      Alaska      733583         59290.0\n",
              "2    AZ     Arizona     7359197         50930.0\n",
              "3    AR    Arkansas     3045637         42690.0\n",
              "4    CA  California    39029342         61290.0"
            ]
          },
          "execution_count": 172,
          "metadata": {},
          "output_type": "execute_result"
        },
        {
          "name": "stdout",
          "output_type": "stream",
          "text": [
            "time: 20 ms (started: 2023-12-27 08:38:38 +00:00)\n"
          ]
        }
      ],
      "source": [
        "df_usa.head()"
      ]
    },
    {
      "cell_type": "markdown",
      "metadata": {
        "id": "xAUegJLyunh8"
      },
      "source": [
        "We sum the total hours that a business opens per week and we count the total number of categories that each business belongs to."
      ]
    },
    {
      "cell_type": "code",
      "execution_count": null,
      "metadata": {
        "colab": {
          "base_uri": "https://localhost:8080/"
        },
        "id": "IxW721C1W9um",
        "outputId": "c75c8f94-116b-4b48-aa0d-e4b716eeaf94"
      },
      "outputs": [
        {
          "name": "stdout",
          "output_type": "stream",
          "text": [
            "time: 2.75 s (started: 2023-12-27 08:38:38 +00:00)\n"
          ]
        }
      ],
      "source": [
        "def parse_time(time_str):\n",
        "    \"\"\"\n",
        "    Parse a time string in the format 'H:M' to minutes.\n",
        "    \"\"\"\n",
        "    hours, minutes = map(int, time_str.split(':'))\n",
        "    return hours * 60 + minutes\n",
        "\n",
        "def calculate_business_hours(hours_data):\n",
        "    \"\"\"\n",
        "    Calculate the total weekly business hours from the hours data.\n",
        "    \"\"\"\n",
        "\n",
        "    if hours_data is None:\n",
        "        return 0\n",
        "\n",
        "    total_minutes = 0\n",
        "    for day, hours in hours_data.items():\n",
        "        if '-' in hours:  # Ensure the business is open that day\n",
        "            open_time, close_time = hours.split('-')\n",
        "            total_minutes += parse_time(close_time) - parse_time(open_time)\n",
        "    return total_minutes / 60  # Convert total minutes to hours\n",
        "\n",
        "def count_categories(category_string):\n",
        "    \"\"\"\n",
        "    Count the number of categories in the category string.\n",
        "    \"\"\"\n",
        "    if pd.isna(category_string):\n",
        "        return 0  # Return 0 if the category string is NaN\n",
        "    categories = category_string.split(', ')\n",
        "    return len(categories)\n",
        "\n",
        "# Apply the function to create a new column\n",
        "df_businesses['category_count'] = df_businesses['categories'].apply(count_categories)\n",
        "df_businesses['hours_count'] = df_businesses['hours'].apply(calculate_business_hours)"
      ]
    },
    {
      "cell_type": "markdown",
      "metadata": {
        "id": "QB2uW-dhuy29"
      },
      "source": [
        "We filter our business dataset by businesses that contain at least one of the top 3 most repeated categories"
      ]
    },
    {
      "cell_type": "code",
      "execution_count": null,
      "metadata": {
        "colab": {
          "base_uri": "https://localhost:8080/"
        },
        "id": "eK6iThaNZzNc",
        "outputId": "0208bc59-6528-4c5d-b643-74b161da0d80"
      },
      "outputs": [
        {
          "name": "stdout",
          "output_type": "stream",
          "text": [
            "time: 1.38 s (started: 2023-12-27 08:38:41 +00:00)\n"
          ]
        }
      ],
      "source": [
        "df_businesses['categories'] = df_businesses['categories'].apply(lambda x: x.split(', ') if x else [])\n",
        "\n",
        "# Create a new DataFrame with each category in a separate row\n",
        "df_categories = df_businesses['categories'].explode()\n",
        "\n",
        "# Get the top 3 most common categories\n",
        "top_categories = df_categories.value_counts().head(3).index.tolist()\n",
        "\n",
        "# Filter the original DataFrame based on the top 10 categories\n",
        "df_businesses = df_businesses[df_businesses['categories'].apply(lambda x: any(category in x for category in top_categories))]"
      ]
    },
    {
      "cell_type": "markdown",
      "metadata": {
        "id": "8K0ZYfIAwHCS"
      },
      "source": [
        "Print the Top 3 categories"
      ]
    },
    {
      "cell_type": "code",
      "execution_count": null,
      "metadata": {
        "colab": {
          "base_uri": "https://localhost:8080/"
        },
        "id": "fzPNVCAEv9Y2",
        "outputId": "a8bf7a02-e30c-4eb3-c873-bc77d03f150c"
      },
      "outputs": [
        {
          "name": "stdout",
          "output_type": "stream",
          "text": [
            "Top 3 Categories:\n",
            "['Restaurants', 'Food', 'Shopping']\n",
            "time: 1.2 ms (started: 2023-12-27 08:38:42 +00:00)\n"
          ]
        }
      ],
      "source": [
        "# Display the top 10 categories and the filtered DataFrame\n",
        "print(\"Top 3 Categories:\")\n",
        "print(top_categories)"
      ]
    },
    {
      "cell_type": "markdown",
      "metadata": {
        "id": "vyywQJTBKW9O"
      },
      "source": [
        "We create a new category that will contain the total number of attributes that each business has"
      ]
    },
    {
      "cell_type": "code",
      "execution_count": null,
      "metadata": {
        "colab": {
          "base_uri": "https://localhost:8080/"
        },
        "id": "78Dr1VqzKZO0",
        "outputId": "deb0a901-633f-4081-b171-84321bd81429"
      },
      "outputs": [
        {
          "name": "stdout",
          "output_type": "stream",
          "text": [
            "time: 57.7 ms (started: 2023-12-27 08:38:42 +00:00)\n"
          ]
        },
        {
          "name": "stderr",
          "output_type": "stream",
          "text": [
            "<ipython-input-176-2f50ca30eebf>:1: SettingWithCopyWarning: \n",
            "A value is trying to be set on a copy of a slice from a DataFrame.\n",
            "Try using .loc[row_indexer,col_indexer] = value instead\n",
            "\n",
            "See the caveats in the documentation: https://pandas.pydata.org/pandas-docs/stable/user_guide/indexing.html#returning-a-view-versus-a-copy\n",
            "  df_businesses['attributes_count'] = df_businesses['attributes'].apply(lambda x: len(x) if isinstance(x, dict) else 0)\n"
          ]
        }
      ],
      "source": [
        "df_businesses['attributes_count'] = df_businesses['attributes'].apply(lambda x: len(x) if isinstance(x, dict) else 0)"
      ]
    },
    {
      "cell_type": "markdown",
      "metadata": {
        "id": "XpL877XAURqk"
      },
      "source": [
        "We print the top 2 most common attributes in the dataset"
      ]
    },
    {
      "cell_type": "code",
      "execution_count": null,
      "metadata": {
        "colab": {
          "base_uri": "https://localhost:8080/"
        },
        "id": "G1XmTLwLUjUo",
        "outputId": "6cbae25a-9399-462c-cad2-72910a3ec4e1"
      },
      "outputs": [
        {
          "name": "stdout",
          "output_type": "stream",
          "text": [
            "Top 2 attributes:\n",
            "['BusinessAcceptsCreditCards', 'BusinessParking']\n",
            "time: 785 ms (started: 2023-12-27 08:38:42 +00:00)\n"
          ]
        }
      ],
      "source": [
        "# Handle missing values in 'attributes' column\n",
        "df_businesses['attributes'] = df_businesses['attributes'].apply(lambda x: {} if pd.isna(x) else x)\n",
        "# Identify the top 3 attributes\n",
        "top_attributes = df_businesses['attributes'].apply(lambda x: list(x.keys()) if isinstance(x, dict) else []).explode().value_counts().head(2).index.tolist()\n",
        "print(\"Top 2 attributes:\")\n",
        "print(top_attributes)\n",
        "# Top 3 attributes:\n",
        "# ['BusinessAcceptsCreditCards', 'BusinessParking', 'RestaurantsPriceRange2']"
      ]
    },
    {
      "cell_type": "markdown",
      "metadata": {
        "id": "xpVDfLgrKb9o"
      },
      "source": [
        "We filter the businesses by the top 2 most common attributes in the dataset"
      ]
    },
    {
      "cell_type": "code",
      "execution_count": null,
      "metadata": {
        "colab": {
          "base_uri": "https://localhost:8080/"
        },
        "id": "3-pCMvWBJggV",
        "outputId": "4244affb-c637-4fd6-d620-626a11d9814d"
      },
      "outputs": [
        {
          "name": "stdout",
          "output_type": "stream",
          "text": [
            "time: 496 ms (started: 2023-12-27 08:38:43 +00:00)\n"
          ]
        },
        {
          "name": "stderr",
          "output_type": "stream",
          "text": [
            "<ipython-input-178-561d46b61773>:5: SettingWithCopyWarning: \n",
            "A value is trying to be set on a copy of a slice from a DataFrame.\n",
            "Try using .loc[row_indexer,col_indexer] = value instead\n",
            "\n",
            "See the caveats in the documentation: https://pandas.pydata.org/pandas-docs/stable/user_guide/indexing.html#returning-a-view-versus-a-copy\n",
            "  df_businesses['business_accepts_credit_cards'] = df_businesses['attributes'].apply(lambda x: 1 if top_attributes[0] in x else 0)\n"
          ]
        }
      ],
      "source": [
        "# Filter the DataFrame based on the top 2 attributes\n",
        "df_businesses = df_businesses[df_businesses['attributes'].apply(lambda x: any(attribute in x for attribute in top_attributes))]\n",
        "\n",
        "# Create two new columns with 1 if the row contains one of the top 2 attributes, 0 otherwise\n",
        "df_businesses['business_accepts_credit_cards'] = df_businesses['attributes'].apply(lambda x: 1 if top_attributes[0] in x else 0)\n",
        "df_businesses['business_parking'] = df_businesses['attributes'].apply(lambda x: 1 if top_attributes[1] in x else 0)"
      ]
    },
    {
      "cell_type": "markdown",
      "metadata": {
        "id": "8SpFHMdiN1yk"
      },
      "source": [
        "We merge the usa.csv dataset with the business data set to get the population and average salary and we drop the business that are not in USA"
      ]
    },
    {
      "cell_type": "code",
      "execution_count": null,
      "metadata": {
        "colab": {
          "base_uri": "https://localhost:8080/"
        },
        "id": "gMZYaeY2NvrH",
        "outputId": "84579fb8-7a08-40dd-fa2d-8f9606f5c1c6"
      },
      "outputs": [
        {
          "name": "stdout",
          "output_type": "stream",
          "text": [
            "time: 358 ms (started: 2023-12-27 08:38:44 +00:00)\n"
          ]
        }
      ],
      "source": [
        "df_businesses = pd.merge(df_businesses, df_usa, on='state', how='left')\n",
        "df_businesses = df_businesses.dropna(subset=['population', 'average_salary'], how='all')"
      ]
    },
    {
      "cell_type": "markdown",
      "metadata": {
        "id": "LPgiRcYAJoCi"
      },
      "source": [
        "We select the columns from the DataFrame df_businesses where the data type is \"object\" and \"number\""
      ]
    },
    {
      "cell_type": "code",
      "execution_count": null,
      "metadata": {
        "colab": {
          "base_uri": "https://localhost:8080/"
        },
        "id": "jtTxbqDRTIuM",
        "outputId": "3474a23a-cea7-4603-d4b3-63604f56b23b"
      },
      "outputs": [
        {
          "name": "stdout",
          "output_type": "stream",
          "text": [
            "time: 33.5 ms (started: 2023-12-27 08:38:44 +00:00)\n"
          ]
        }
      ],
      "source": [
        "categorical = df_businesses.select_dtypes(include = \"object\")\n",
        "continuous = df_businesses.select_dtypes(include = \"number\")"
      ]
    },
    {
      "cell_type": "markdown",
      "metadata": {
        "id": "MxIVCyKKKEqK"
      },
      "source": [
        "We print a concise summary of the \"categorical\" DataFrame"
      ]
    },
    {
      "cell_type": "code",
      "execution_count": null,
      "metadata": {
        "colab": {
          "base_uri": "https://localhost:8080/"
        },
        "id": "vvmmJZGKTctd",
        "outputId": "40af8d39-939d-4212-d004-f44a8ffcee59"
      },
      "outputs": [
        {
          "name": "stdout",
          "output_type": "stream",
          "text": [
            "<class 'pandas.core.frame.DataFrame'>\n",
            "Int64Index: 77338 entries, 0 to 80663\n",
            "Data columns (total 10 columns):\n",
            " #   Column       Non-Null Count  Dtype \n",
            "---  ------       --------------  ----- \n",
            " 0   business_id  77338 non-null  object\n",
            " 1   name         77338 non-null  object\n",
            " 2   address      77338 non-null  object\n",
            " 3   city         77338 non-null  object\n",
            " 4   state        77338 non-null  object\n",
            " 5   postal_code  77338 non-null  object\n",
            " 6   attributes   77338 non-null  object\n",
            " 7   categories   77338 non-null  object\n",
            " 8   hours        67529 non-null  object\n",
            " 9   name_state   77338 non-null  object\n",
            "dtypes: object(10)\n",
            "memory usage: 6.5+ MB\n",
            "time: 254 ms (started: 2023-12-27 08:38:44 +00:00)\n"
          ]
        }
      ],
      "source": [
        "categorical.info()"
      ]
    },
    {
      "cell_type": "code",
      "execution_count": null,
      "metadata": {
        "colab": {
          "base_uri": "https://localhost:8080/",
          "height": 719
        },
        "id": "2hb20jKSTess",
        "outputId": "f51f1555-32e7-432f-def4-ec6fde5e1bb2"
      },
      "outputs": [
        {
          "data": {
            "text/html": [
              "\n",
              "  <div id=\"df-a9226952-8cc7-4d27-8f0e-2adf8cf3e1ed\" class=\"colab-df-container\">\n",
              "    <div>\n",
              "<style scoped>\n",
              "    .dataframe tbody tr th:only-of-type {\n",
              "        vertical-align: middle;\n",
              "    }\n",
              "\n",
              "    .dataframe tbody tr th {\n",
              "        vertical-align: top;\n",
              "    }\n",
              "\n",
              "    .dataframe thead th {\n",
              "        text-align: right;\n",
              "    }\n",
              "</style>\n",
              "<table border=\"1\" class=\"dataframe\">\n",
              "  <thead>\n",
              "    <tr style=\"text-align: right;\">\n",
              "      <th></th>\n",
              "      <th>business_id</th>\n",
              "      <th>name</th>\n",
              "      <th>address</th>\n",
              "      <th>city</th>\n",
              "      <th>state</th>\n",
              "      <th>postal_code</th>\n",
              "      <th>attributes</th>\n",
              "      <th>categories</th>\n",
              "      <th>hours</th>\n",
              "      <th>name_state</th>\n",
              "    </tr>\n",
              "  </thead>\n",
              "  <tbody>\n",
              "    <tr>\n",
              "      <th>0</th>\n",
              "      <td>tUFrWirKiKi_TAnsVWINQQ</td>\n",
              "      <td>Target</td>\n",
              "      <td>5255 E Broadway Blvd</td>\n",
              "      <td>Tucson</td>\n",
              "      <td>AZ</td>\n",
              "      <td>85711</td>\n",
              "      <td>{'BikeParking': 'True', 'BusinessAcceptsCredit...</td>\n",
              "      <td>[Department Stores, Shopping, Fashion, Home &amp; ...</td>\n",
              "      <td>{'Monday': '8:0-22:0', 'Tuesday': '8:0-22:0', ...</td>\n",
              "      <td>Arizona</td>\n",
              "    </tr>\n",
              "    <tr>\n",
              "      <th>1</th>\n",
              "      <td>MTSW4McQd7CbVtyjqoe9mw</td>\n",
              "      <td>St Honore Pastries</td>\n",
              "      <td>935 Race St</td>\n",
              "      <td>Philadelphia</td>\n",
              "      <td>PA</td>\n",
              "      <td>19107</td>\n",
              "      <td>{'RestaurantsDelivery': 'False', 'OutdoorSeati...</td>\n",
              "      <td>[Restaurants, Food, Bubble Tea, Coffee &amp; Tea, ...</td>\n",
              "      <td>{'Monday': '7:0-20:0', 'Tuesday': '7:0-20:0', ...</td>\n",
              "      <td>Pennsylvania</td>\n",
              "    </tr>\n",
              "    <tr>\n",
              "      <th>2</th>\n",
              "      <td>mWMc6_wTdE0EUBKIGXDVfA</td>\n",
              "      <td>Perkiomen Valley Brewery</td>\n",
              "      <td>101 Walnut St</td>\n",
              "      <td>Green Lane</td>\n",
              "      <td>PA</td>\n",
              "      <td>18054</td>\n",
              "      <td>{'BusinessAcceptsCreditCards': 'True', 'Wheelc...</td>\n",
              "      <td>[Brewpubs, Breweries, Food]</td>\n",
              "      <td>{'Wednesday': '14:0-22:0', 'Thursday': '16:0-2...</td>\n",
              "      <td>Pennsylvania</td>\n",
              "    </tr>\n",
              "    <tr>\n",
              "      <th>3</th>\n",
              "      <td>CF33F8-E6oudUQ46HnavjQ</td>\n",
              "      <td>Sonic Drive-In</td>\n",
              "      <td>615 S Main St</td>\n",
              "      <td>Ashland City</td>\n",
              "      <td>TN</td>\n",
              "      <td>37015</td>\n",
              "      <td>{'BusinessParking': 'None', 'BusinessAcceptsCr...</td>\n",
              "      <td>[Burgers, Fast Food, Sandwiches, Food, Ice Cre...</td>\n",
              "      <td>{'Monday': '0:0-0:0', 'Tuesday': '6:0-22:0', '...</td>\n",
              "      <td>Tennessee</td>\n",
              "    </tr>\n",
              "    <tr>\n",
              "      <th>4</th>\n",
              "      <td>n_0UpQx1hsNbnPUSlodU8w</td>\n",
              "      <td>Famous Footwear</td>\n",
              "      <td>8522 Eager Road, Dierbergs Brentwood Point</td>\n",
              "      <td>Brentwood</td>\n",
              "      <td>MO</td>\n",
              "      <td>63144</td>\n",
              "      <td>{'BusinessAcceptsCreditCards': 'True', 'Restau...</td>\n",
              "      <td>[Sporting Goods, Fashion, Shoe Stores, Shoppin...</td>\n",
              "      <td>{'Monday': '0:0-0:0', 'Tuesday': '10:0-18:0', ...</td>\n",
              "      <td>Missouri</td>\n",
              "    </tr>\n",
              "    <tr>\n",
              "      <th>...</th>\n",
              "      <td>...</td>\n",
              "      <td>...</td>\n",
              "      <td>...</td>\n",
              "      <td>...</td>\n",
              "      <td>...</td>\n",
              "      <td>...</td>\n",
              "      <td>...</td>\n",
              "      <td>...</td>\n",
              "      <td>...</td>\n",
              "      <td>...</td>\n",
              "    </tr>\n",
              "    <tr>\n",
              "      <th>80658</th>\n",
              "      <td>WnT9NIzQgLlILjPT0kEcsQ</td>\n",
              "      <td>Adelita Taqueria &amp; Restaurant</td>\n",
              "      <td>1108 S 9th St</td>\n",
              "      <td>Philadelphia</td>\n",
              "      <td>PA</td>\n",
              "      <td>19147</td>\n",
              "      <td>{'WheelchairAccessible': 'False', 'Restaurants...</td>\n",
              "      <td>[Restaurants, Mexican]</td>\n",
              "      <td>{'Monday': '11:0-22:0', 'Tuesday': '11:0-22:0'...</td>\n",
              "      <td>Pennsylvania</td>\n",
              "    </tr>\n",
              "    <tr>\n",
              "      <th>80659</th>\n",
              "      <td>2O2K6SXPWv56amqxCECd4w</td>\n",
              "      <td>The Plum Pit</td>\n",
              "      <td>4405 Pennell Rd</td>\n",
              "      <td>Aston</td>\n",
              "      <td>DE</td>\n",
              "      <td>19014</td>\n",
              "      <td>{'RestaurantsDelivery': 'False', 'BusinessAcce...</td>\n",
              "      <td>[Restaurants, Comfort Food, Food, Food Trucks,...</td>\n",
              "      <td>{'Monday': '0:0-0:0', 'Tuesday': '0:0-0:0', 'W...</td>\n",
              "      <td>Delaware</td>\n",
              "    </tr>\n",
              "    <tr>\n",
              "      <th>80661</th>\n",
              "      <td>c8GjPIOTGVmIemT7j5_SyQ</td>\n",
              "      <td>Wild Birds Unlimited</td>\n",
              "      <td>2813 Bransford Ave</td>\n",
              "      <td>Nashville</td>\n",
              "      <td>TN</td>\n",
              "      <td>37204</td>\n",
              "      <td>{'BusinessAcceptsCreditCards': 'True', 'Restau...</td>\n",
              "      <td>[Pets, Nurseries &amp; Gardening, Pet Stores, Hobb...</td>\n",
              "      <td>{'Monday': '9:30-17:30', 'Tuesday': '9:30-17:3...</td>\n",
              "      <td>Tennessee</td>\n",
              "    </tr>\n",
              "    <tr>\n",
              "      <th>80662</th>\n",
              "      <td>_QAMST-NrQobXduilWEqSw</td>\n",
              "      <td>Claire's Boutique</td>\n",
              "      <td>6020 E 82nd St, Ste 46</td>\n",
              "      <td>Indianapolis</td>\n",
              "      <td>IN</td>\n",
              "      <td>46250</td>\n",
              "      <td>{'RestaurantsPriceRange2': '1', 'BusinessAccep...</td>\n",
              "      <td>[Shopping, Jewelry, Piercing, Toy Stores, Beau...</td>\n",
              "      <td>None</td>\n",
              "      <td>Indiana</td>\n",
              "    </tr>\n",
              "    <tr>\n",
              "      <th>80663</th>\n",
              "      <td>mtGm22y5c2UHNXDFAjaPNw</td>\n",
              "      <td>Cyclery &amp; Fitness Center</td>\n",
              "      <td>2472 Troy Rd</td>\n",
              "      <td>Edwardsville</td>\n",
              "      <td>IL</td>\n",
              "      <td>62025</td>\n",
              "      <td>{'BusinessParking': '{'garage': False, 'street...</td>\n",
              "      <td>[Fitness/Exercise Equipment, Eyewear &amp; Opticia...</td>\n",
              "      <td>{'Monday': '9:0-20:0', 'Tuesday': '9:0-20:0', ...</td>\n",
              "      <td>Illinois</td>\n",
              "    </tr>\n",
              "  </tbody>\n",
              "</table>\n",
              "<p>77338 rows × 10 columns</p>\n",
              "</div>\n",
              "    <div class=\"colab-df-buttons\">\n",
              "\n",
              "  <div class=\"colab-df-container\">\n",
              "    <button class=\"colab-df-convert\" onclick=\"convertToInteractive('df-a9226952-8cc7-4d27-8f0e-2adf8cf3e1ed')\"\n",
              "            title=\"Convert this dataframe to an interactive table.\"\n",
              "            style=\"display:none;\">\n",
              "\n",
              "  <svg xmlns=\"http://www.w3.org/2000/svg\" height=\"24px\" viewBox=\"0 -960 960 960\">\n",
              "    <path d=\"M120-120v-720h720v720H120Zm60-500h600v-160H180v160Zm220 220h160v-160H400v160Zm0 220h160v-160H400v160ZM180-400h160v-160H180v160Zm440 0h160v-160H620v160ZM180-180h160v-160H180v160Zm440 0h160v-160H620v160Z\"/>\n",
              "  </svg>\n",
              "    </button>\n",
              "\n",
              "  <style>\n",
              "    .colab-df-container {\n",
              "      display:flex;\n",
              "      gap: 12px;\n",
              "    }\n",
              "\n",
              "    .colab-df-convert {\n",
              "      background-color: #E8F0FE;\n",
              "      border: none;\n",
              "      border-radius: 50%;\n",
              "      cursor: pointer;\n",
              "      display: none;\n",
              "      fill: #1967D2;\n",
              "      height: 32px;\n",
              "      padding: 0 0 0 0;\n",
              "      width: 32px;\n",
              "    }\n",
              "\n",
              "    .colab-df-convert:hover {\n",
              "      background-color: #E2EBFA;\n",
              "      box-shadow: 0px 1px 2px rgba(60, 64, 67, 0.3), 0px 1px 3px 1px rgba(60, 64, 67, 0.15);\n",
              "      fill: #174EA6;\n",
              "    }\n",
              "\n",
              "    .colab-df-buttons div {\n",
              "      margin-bottom: 4px;\n",
              "    }\n",
              "\n",
              "    [theme=dark] .colab-df-convert {\n",
              "      background-color: #3B4455;\n",
              "      fill: #D2E3FC;\n",
              "    }\n",
              "\n",
              "    [theme=dark] .colab-df-convert:hover {\n",
              "      background-color: #434B5C;\n",
              "      box-shadow: 0px 1px 3px 1px rgba(0, 0, 0, 0.15);\n",
              "      filter: drop-shadow(0px 1px 2px rgba(0, 0, 0, 0.3));\n",
              "      fill: #FFFFFF;\n",
              "    }\n",
              "  </style>\n",
              "\n",
              "    <script>\n",
              "      const buttonEl =\n",
              "        document.querySelector('#df-a9226952-8cc7-4d27-8f0e-2adf8cf3e1ed button.colab-df-convert');\n",
              "      buttonEl.style.display =\n",
              "        google.colab.kernel.accessAllowed ? 'block' : 'none';\n",
              "\n",
              "      async function convertToInteractive(key) {\n",
              "        const element = document.querySelector('#df-a9226952-8cc7-4d27-8f0e-2adf8cf3e1ed');\n",
              "        const dataTable =\n",
              "          await google.colab.kernel.invokeFunction('convertToInteractive',\n",
              "                                                    [key], {});\n",
              "        if (!dataTable) return;\n",
              "\n",
              "        const docLinkHtml = 'Like what you see? Visit the ' +\n",
              "          '<a target=\"_blank\" href=https://colab.research.google.com/notebooks/data_table.ipynb>data table notebook</a>'\n",
              "          + ' to learn more about interactive tables.';\n",
              "        element.innerHTML = '';\n",
              "        dataTable['output_type'] = 'display_data';\n",
              "        await google.colab.output.renderOutput(dataTable, element);\n",
              "        const docLink = document.createElement('div');\n",
              "        docLink.innerHTML = docLinkHtml;\n",
              "        element.appendChild(docLink);\n",
              "      }\n",
              "    </script>\n",
              "  </div>\n",
              "\n",
              "\n",
              "<div id=\"df-566ed809-537b-4eb2-b465-c7fc3714cf08\">\n",
              "  <button class=\"colab-df-quickchart\" onclick=\"quickchart('df-566ed809-537b-4eb2-b465-c7fc3714cf08')\"\n",
              "            title=\"Suggest charts\"\n",
              "            style=\"display:none;\">\n",
              "\n",
              "<svg xmlns=\"http://www.w3.org/2000/svg\" height=\"24px\"viewBox=\"0 0 24 24\"\n",
              "     width=\"24px\">\n",
              "    <g>\n",
              "        <path d=\"M19 3H5c-1.1 0-2 .9-2 2v14c0 1.1.9 2 2 2h14c1.1 0 2-.9 2-2V5c0-1.1-.9-2-2-2zM9 17H7v-7h2v7zm4 0h-2V7h2v10zm4 0h-2v-4h2v4z\"/>\n",
              "    </g>\n",
              "</svg>\n",
              "  </button>\n",
              "\n",
              "<style>\n",
              "  .colab-df-quickchart {\n",
              "      --bg-color: #E8F0FE;\n",
              "      --fill-color: #1967D2;\n",
              "      --hover-bg-color: #E2EBFA;\n",
              "      --hover-fill-color: #174EA6;\n",
              "      --disabled-fill-color: #AAA;\n",
              "      --disabled-bg-color: #DDD;\n",
              "  }\n",
              "\n",
              "  [theme=dark] .colab-df-quickchart {\n",
              "      --bg-color: #3B4455;\n",
              "      --fill-color: #D2E3FC;\n",
              "      --hover-bg-color: #434B5C;\n",
              "      --hover-fill-color: #FFFFFF;\n",
              "      --disabled-bg-color: #3B4455;\n",
              "      --disabled-fill-color: #666;\n",
              "  }\n",
              "\n",
              "  .colab-df-quickchart {\n",
              "    background-color: var(--bg-color);\n",
              "    border: none;\n",
              "    border-radius: 50%;\n",
              "    cursor: pointer;\n",
              "    display: none;\n",
              "    fill: var(--fill-color);\n",
              "    height: 32px;\n",
              "    padding: 0;\n",
              "    width: 32px;\n",
              "  }\n",
              "\n",
              "  .colab-df-quickchart:hover {\n",
              "    background-color: var(--hover-bg-color);\n",
              "    box-shadow: 0 1px 2px rgba(60, 64, 67, 0.3), 0 1px 3px 1px rgba(60, 64, 67, 0.15);\n",
              "    fill: var(--button-hover-fill-color);\n",
              "  }\n",
              "\n",
              "  .colab-df-quickchart-complete:disabled,\n",
              "  .colab-df-quickchart-complete:disabled:hover {\n",
              "    background-color: var(--disabled-bg-color);\n",
              "    fill: var(--disabled-fill-color);\n",
              "    box-shadow: none;\n",
              "  }\n",
              "\n",
              "  .colab-df-spinner {\n",
              "    border: 2px solid var(--fill-color);\n",
              "    border-color: transparent;\n",
              "    border-bottom-color: var(--fill-color);\n",
              "    animation:\n",
              "      spin 1s steps(1) infinite;\n",
              "  }\n",
              "\n",
              "  @keyframes spin {\n",
              "    0% {\n",
              "      border-color: transparent;\n",
              "      border-bottom-color: var(--fill-color);\n",
              "      border-left-color: var(--fill-color);\n",
              "    }\n",
              "    20% {\n",
              "      border-color: transparent;\n",
              "      border-left-color: var(--fill-color);\n",
              "      border-top-color: var(--fill-color);\n",
              "    }\n",
              "    30% {\n",
              "      border-color: transparent;\n",
              "      border-left-color: var(--fill-color);\n",
              "      border-top-color: var(--fill-color);\n",
              "      border-right-color: var(--fill-color);\n",
              "    }\n",
              "    40% {\n",
              "      border-color: transparent;\n",
              "      border-right-color: var(--fill-color);\n",
              "      border-top-color: var(--fill-color);\n",
              "    }\n",
              "    60% {\n",
              "      border-color: transparent;\n",
              "      border-right-color: var(--fill-color);\n",
              "    }\n",
              "    80% {\n",
              "      border-color: transparent;\n",
              "      border-right-color: var(--fill-color);\n",
              "      border-bottom-color: var(--fill-color);\n",
              "    }\n",
              "    90% {\n",
              "      border-color: transparent;\n",
              "      border-bottom-color: var(--fill-color);\n",
              "    }\n",
              "  }\n",
              "</style>\n",
              "\n",
              "  <script>\n",
              "    async function quickchart(key) {\n",
              "      const quickchartButtonEl =\n",
              "        document.querySelector('#' + key + ' button');\n",
              "      quickchartButtonEl.disabled = true;  // To prevent multiple clicks.\n",
              "      quickchartButtonEl.classList.add('colab-df-spinner');\n",
              "      try {\n",
              "        const charts = await google.colab.kernel.invokeFunction(\n",
              "            'suggestCharts', [key], {});\n",
              "      } catch (error) {\n",
              "        console.error('Error during call to suggestCharts:', error);\n",
              "      }\n",
              "      quickchartButtonEl.classList.remove('colab-df-spinner');\n",
              "      quickchartButtonEl.classList.add('colab-df-quickchart-complete');\n",
              "    }\n",
              "    (() => {\n",
              "      let quickchartButtonEl =\n",
              "        document.querySelector('#df-566ed809-537b-4eb2-b465-c7fc3714cf08 button');\n",
              "      quickchartButtonEl.style.display =\n",
              "        google.colab.kernel.accessAllowed ? 'block' : 'none';\n",
              "    })();\n",
              "  </script>\n",
              "</div>\n",
              "    </div>\n",
              "  </div>\n"
            ],
            "text/plain": [
              "                  business_id                           name  \\\n",
              "0      tUFrWirKiKi_TAnsVWINQQ                         Target   \n",
              "1      MTSW4McQd7CbVtyjqoe9mw             St Honore Pastries   \n",
              "2      mWMc6_wTdE0EUBKIGXDVfA       Perkiomen Valley Brewery   \n",
              "3      CF33F8-E6oudUQ46HnavjQ                 Sonic Drive-In   \n",
              "4      n_0UpQx1hsNbnPUSlodU8w                Famous Footwear   \n",
              "...                       ...                            ...   \n",
              "80658  WnT9NIzQgLlILjPT0kEcsQ  Adelita Taqueria & Restaurant   \n",
              "80659  2O2K6SXPWv56amqxCECd4w                   The Plum Pit   \n",
              "80661  c8GjPIOTGVmIemT7j5_SyQ           Wild Birds Unlimited   \n",
              "80662  _QAMST-NrQobXduilWEqSw              Claire's Boutique   \n",
              "80663  mtGm22y5c2UHNXDFAjaPNw       Cyclery & Fitness Center   \n",
              "\n",
              "                                          address          city state  \\\n",
              "0                            5255 E Broadway Blvd        Tucson    AZ   \n",
              "1                                     935 Race St  Philadelphia    PA   \n",
              "2                                   101 Walnut St    Green Lane    PA   \n",
              "3                                   615 S Main St  Ashland City    TN   \n",
              "4      8522 Eager Road, Dierbergs Brentwood Point     Brentwood    MO   \n",
              "...                                           ...           ...   ...   \n",
              "80658                               1108 S 9th St  Philadelphia    PA   \n",
              "80659                             4405 Pennell Rd         Aston    DE   \n",
              "80661                          2813 Bransford Ave     Nashville    TN   \n",
              "80662                      6020 E 82nd St, Ste 46  Indianapolis    IN   \n",
              "80663                                2472 Troy Rd  Edwardsville    IL   \n",
              "\n",
              "      postal_code                                         attributes  \\\n",
              "0           85711  {'BikeParking': 'True', 'BusinessAcceptsCredit...   \n",
              "1           19107  {'RestaurantsDelivery': 'False', 'OutdoorSeati...   \n",
              "2           18054  {'BusinessAcceptsCreditCards': 'True', 'Wheelc...   \n",
              "3           37015  {'BusinessParking': 'None', 'BusinessAcceptsCr...   \n",
              "4           63144  {'BusinessAcceptsCreditCards': 'True', 'Restau...   \n",
              "...           ...                                                ...   \n",
              "80658       19147  {'WheelchairAccessible': 'False', 'Restaurants...   \n",
              "80659       19014  {'RestaurantsDelivery': 'False', 'BusinessAcce...   \n",
              "80661       37204  {'BusinessAcceptsCreditCards': 'True', 'Restau...   \n",
              "80662       46250  {'RestaurantsPriceRange2': '1', 'BusinessAccep...   \n",
              "80663       62025  {'BusinessParking': '{'garage': False, 'street...   \n",
              "\n",
              "                                              categories  \\\n",
              "0      [Department Stores, Shopping, Fashion, Home & ...   \n",
              "1      [Restaurants, Food, Bubble Tea, Coffee & Tea, ...   \n",
              "2                            [Brewpubs, Breweries, Food]   \n",
              "3      [Burgers, Fast Food, Sandwiches, Food, Ice Cre...   \n",
              "4      [Sporting Goods, Fashion, Shoe Stores, Shoppin...   \n",
              "...                                                  ...   \n",
              "80658                             [Restaurants, Mexican]   \n",
              "80659  [Restaurants, Comfort Food, Food, Food Trucks,...   \n",
              "80661  [Pets, Nurseries & Gardening, Pet Stores, Hobb...   \n",
              "80662  [Shopping, Jewelry, Piercing, Toy Stores, Beau...   \n",
              "80663  [Fitness/Exercise Equipment, Eyewear & Opticia...   \n",
              "\n",
              "                                                   hours    name_state  \n",
              "0      {'Monday': '8:0-22:0', 'Tuesday': '8:0-22:0', ...       Arizona  \n",
              "1      {'Monday': '7:0-20:0', 'Tuesday': '7:0-20:0', ...  Pennsylvania  \n",
              "2      {'Wednesday': '14:0-22:0', 'Thursday': '16:0-2...  Pennsylvania  \n",
              "3      {'Monday': '0:0-0:0', 'Tuesday': '6:0-22:0', '...     Tennessee  \n",
              "4      {'Monday': '0:0-0:0', 'Tuesday': '10:0-18:0', ...      Missouri  \n",
              "...                                                  ...           ...  \n",
              "80658  {'Monday': '11:0-22:0', 'Tuesday': '11:0-22:0'...  Pennsylvania  \n",
              "80659  {'Monday': '0:0-0:0', 'Tuesday': '0:0-0:0', 'W...      Delaware  \n",
              "80661  {'Monday': '9:30-17:30', 'Tuesday': '9:30-17:3...     Tennessee  \n",
              "80662                                               None       Indiana  \n",
              "80663  {'Monday': '9:0-20:0', 'Tuesday': '9:0-20:0', ...      Illinois  \n",
              "\n",
              "[77338 rows x 10 columns]"
            ]
          },
          "execution_count": 182,
          "metadata": {},
          "output_type": "execute_result"
        },
        {
          "name": "stdout",
          "output_type": "stream",
          "text": [
            "time: 27.5 ms (started: 2023-12-27 08:38:44 +00:00)\n"
          ]
        }
      ],
      "source": [
        "categorical"
      ]
    },
    {
      "cell_type": "markdown",
      "metadata": {
        "id": "-9tBA6-zKPzT"
      },
      "source": [
        "We print a concise summary of the \"continuous\" DataFrame"
      ]
    },
    {
      "cell_type": "code",
      "execution_count": null,
      "metadata": {
        "colab": {
          "base_uri": "https://localhost:8080/"
        },
        "id": "Hw6ALI4gTdI5",
        "outputId": "56692f8d-47d4-4dd8-a5c1-bf22b7353edb"
      },
      "outputs": [
        {
          "name": "stdout",
          "output_type": "stream",
          "text": [
            "<class 'pandas.core.frame.DataFrame'>\n",
            "Int64Index: 77338 entries, 0 to 80663\n",
            "Data columns (total 12 columns):\n",
            " #   Column                         Non-Null Count  Dtype  \n",
            "---  ------                         --------------  -----  \n",
            " 0   latitude                       77338 non-null  float64\n",
            " 1   longitude                      77338 non-null  float64\n",
            " 2   stars                          77338 non-null  float64\n",
            " 3   review_count                   77338 non-null  int64  \n",
            " 4   is_open                        77338 non-null  int64  \n",
            " 5   category_count                 77338 non-null  int64  \n",
            " 6   hours_count                    77338 non-null  float64\n",
            " 7   attributes_count               77338 non-null  int64  \n",
            " 8   business_accepts_credit_cards  77338 non-null  int64  \n",
            " 9   business_parking               77338 non-null  int64  \n",
            " 10  population                     77338 non-null  float64\n",
            " 11  average_salary                 77338 non-null  float64\n",
            "dtypes: float64(6), int64(6)\n",
            "memory usage: 7.7 MB\n",
            "time: 17.3 ms (started: 2023-12-27 08:38:44 +00:00)\n"
          ]
        }
      ],
      "source": [
        "continuous.info()"
      ]
    },
    {
      "cell_type": "code",
      "execution_count": null,
      "metadata": {
        "colab": {
          "base_uri": "https://localhost:8080/",
          "height": 441
        },
        "id": "u047vVIz3flG",
        "outputId": "efb41c6f-9742-4882-af1f-3e37ef8a9d7a"
      },
      "outputs": [
        {
          "data": {
            "text/html": [
              "\n",
              "  <div id=\"df-88f9e8d1-c84f-40b3-a3d9-1866a942bd01\" class=\"colab-df-container\">\n",
              "    <div>\n",
              "<style scoped>\n",
              "    .dataframe tbody tr th:only-of-type {\n",
              "        vertical-align: middle;\n",
              "    }\n",
              "\n",
              "    .dataframe tbody tr th {\n",
              "        vertical-align: top;\n",
              "    }\n",
              "\n",
              "    .dataframe thead th {\n",
              "        text-align: right;\n",
              "    }\n",
              "</style>\n",
              "<table border=\"1\" class=\"dataframe\">\n",
              "  <thead>\n",
              "    <tr style=\"text-align: right;\">\n",
              "      <th></th>\n",
              "      <th>latitude</th>\n",
              "      <th>longitude</th>\n",
              "      <th>stars</th>\n",
              "      <th>review_count</th>\n",
              "      <th>is_open</th>\n",
              "      <th>category_count</th>\n",
              "      <th>hours_count</th>\n",
              "      <th>attributes_count</th>\n",
              "      <th>business_accepts_credit_cards</th>\n",
              "      <th>business_parking</th>\n",
              "      <th>population</th>\n",
              "      <th>average_salary</th>\n",
              "    </tr>\n",
              "  </thead>\n",
              "  <tbody>\n",
              "    <tr>\n",
              "      <th>0</th>\n",
              "      <td>32.223236</td>\n",
              "      <td>-110.880452</td>\n",
              "      <td>3.5</td>\n",
              "      <td>22</td>\n",
              "      <td>0</td>\n",
              "      <td>6</td>\n",
              "      <td>100.0</td>\n",
              "      <td>16</td>\n",
              "      <td>1</td>\n",
              "      <td>1</td>\n",
              "      <td>7359197.0</td>\n",
              "      <td>50930.0</td>\n",
              "    </tr>\n",
              "    <tr>\n",
              "      <th>1</th>\n",
              "      <td>39.955505</td>\n",
              "      <td>-75.155564</td>\n",
              "      <td>4.0</td>\n",
              "      <td>80</td>\n",
              "      <td>1</td>\n",
              "      <td>5</td>\n",
              "      <td>94.0</td>\n",
              "      <td>11</td>\n",
              "      <td>1</td>\n",
              "      <td>1</td>\n",
              "      <td>12972008.0</td>\n",
              "      <td>51340.0</td>\n",
              "    </tr>\n",
              "    <tr>\n",
              "      <th>2</th>\n",
              "      <td>40.338183</td>\n",
              "      <td>-75.471659</td>\n",
              "      <td>4.5</td>\n",
              "      <td>13</td>\n",
              "      <td>1</td>\n",
              "      <td>3</td>\n",
              "      <td>40.0</td>\n",
              "      <td>7</td>\n",
              "      <td>1</td>\n",
              "      <td>1</td>\n",
              "      <td>12972008.0</td>\n",
              "      <td>51340.0</td>\n",
              "    </tr>\n",
              "    <tr>\n",
              "      <th>3</th>\n",
              "      <td>36.269593</td>\n",
              "      <td>-87.058943</td>\n",
              "      <td>2.0</td>\n",
              "      <td>6</td>\n",
              "      <td>1</td>\n",
              "      <td>6</td>\n",
              "      <td>66.0</td>\n",
              "      <td>23</td>\n",
              "      <td>1</td>\n",
              "      <td>1</td>\n",
              "      <td>7051339.0</td>\n",
              "      <td>45650.0</td>\n",
              "    </tr>\n",
              "    <tr>\n",
              "      <th>4</th>\n",
              "      <td>38.627695</td>\n",
              "      <td>-90.340465</td>\n",
              "      <td>2.5</td>\n",
              "      <td>13</td>\n",
              "      <td>1</td>\n",
              "      <td>6</td>\n",
              "      <td>46.0</td>\n",
              "      <td>4</td>\n",
              "      <td>1</td>\n",
              "      <td>1</td>\n",
              "      <td>6177957.0</td>\n",
              "      <td>47820.0</td>\n",
              "    </tr>\n",
              "    <tr>\n",
              "      <th>...</th>\n",
              "      <td>...</td>\n",
              "      <td>...</td>\n",
              "      <td>...</td>\n",
              "      <td>...</td>\n",
              "      <td>...</td>\n",
              "      <td>...</td>\n",
              "      <td>...</td>\n",
              "      <td>...</td>\n",
              "      <td>...</td>\n",
              "      <td>...</td>\n",
              "      <td>...</td>\n",
              "      <td>...</td>\n",
              "    </tr>\n",
              "    <tr>\n",
              "      <th>80658</th>\n",
              "      <td>39.935982</td>\n",
              "      <td>-75.158665</td>\n",
              "      <td>4.5</td>\n",
              "      <td>35</td>\n",
              "      <td>1</td>\n",
              "      <td>2</td>\n",
              "      <td>26.0</td>\n",
              "      <td>20</td>\n",
              "      <td>1</td>\n",
              "      <td>1</td>\n",
              "      <td>12972008.0</td>\n",
              "      <td>51340.0</td>\n",
              "    </tr>\n",
              "    <tr>\n",
              "      <th>80659</th>\n",
              "      <td>39.856185</td>\n",
              "      <td>-75.427725</td>\n",
              "      <td>4.5</td>\n",
              "      <td>14</td>\n",
              "      <td>1</td>\n",
              "      <td>6</td>\n",
              "      <td>0.0</td>\n",
              "      <td>10</td>\n",
              "      <td>1</td>\n",
              "      <td>1</td>\n",
              "      <td>1018396.0</td>\n",
              "      <td>54370.0</td>\n",
              "    </tr>\n",
              "    <tr>\n",
              "      <th>80661</th>\n",
              "      <td>36.115118</td>\n",
              "      <td>-86.766925</td>\n",
              "      <td>4.0</td>\n",
              "      <td>5</td>\n",
              "      <td>1</td>\n",
              "      <td>7</td>\n",
              "      <td>64.0</td>\n",
              "      <td>5</td>\n",
              "      <td>1</td>\n",
              "      <td>1</td>\n",
              "      <td>7051339.0</td>\n",
              "      <td>45650.0</td>\n",
              "    </tr>\n",
              "    <tr>\n",
              "      <th>80662</th>\n",
              "      <td>39.908707</td>\n",
              "      <td>-86.065088</td>\n",
              "      <td>3.5</td>\n",
              "      <td>8</td>\n",
              "      <td>1</td>\n",
              "      <td>7</td>\n",
              "      <td>0.0</td>\n",
              "      <td>2</td>\n",
              "      <td>1</td>\n",
              "      <td>0</td>\n",
              "      <td>6833037.0</td>\n",
              "      <td>46770.0</td>\n",
              "    </tr>\n",
              "    <tr>\n",
              "      <th>80663</th>\n",
              "      <td>38.782351</td>\n",
              "      <td>-89.950558</td>\n",
              "      <td>4.0</td>\n",
              "      <td>24</td>\n",
              "      <td>1</td>\n",
              "      <td>5</td>\n",
              "      <td>70.0</td>\n",
              "      <td>6</td>\n",
              "      <td>1</td>\n",
              "      <td>1</td>\n",
              "      <td>12582032.0</td>\n",
              "      <td>55130.0</td>\n",
              "    </tr>\n",
              "  </tbody>\n",
              "</table>\n",
              "<p>77338 rows × 12 columns</p>\n",
              "</div>\n",
              "    <div class=\"colab-df-buttons\">\n",
              "\n",
              "  <div class=\"colab-df-container\">\n",
              "    <button class=\"colab-df-convert\" onclick=\"convertToInteractive('df-88f9e8d1-c84f-40b3-a3d9-1866a942bd01')\"\n",
              "            title=\"Convert this dataframe to an interactive table.\"\n",
              "            style=\"display:none;\">\n",
              "\n",
              "  <svg xmlns=\"http://www.w3.org/2000/svg\" height=\"24px\" viewBox=\"0 -960 960 960\">\n",
              "    <path d=\"M120-120v-720h720v720H120Zm60-500h600v-160H180v160Zm220 220h160v-160H400v160Zm0 220h160v-160H400v160ZM180-400h160v-160H180v160Zm440 0h160v-160H620v160ZM180-180h160v-160H180v160Zm440 0h160v-160H620v160Z\"/>\n",
              "  </svg>\n",
              "    </button>\n",
              "\n",
              "  <style>\n",
              "    .colab-df-container {\n",
              "      display:flex;\n",
              "      gap: 12px;\n",
              "    }\n",
              "\n",
              "    .colab-df-convert {\n",
              "      background-color: #E8F0FE;\n",
              "      border: none;\n",
              "      border-radius: 50%;\n",
              "      cursor: pointer;\n",
              "      display: none;\n",
              "      fill: #1967D2;\n",
              "      height: 32px;\n",
              "      padding: 0 0 0 0;\n",
              "      width: 32px;\n",
              "    }\n",
              "\n",
              "    .colab-df-convert:hover {\n",
              "      background-color: #E2EBFA;\n",
              "      box-shadow: 0px 1px 2px rgba(60, 64, 67, 0.3), 0px 1px 3px 1px rgba(60, 64, 67, 0.15);\n",
              "      fill: #174EA6;\n",
              "    }\n",
              "\n",
              "    .colab-df-buttons div {\n",
              "      margin-bottom: 4px;\n",
              "    }\n",
              "\n",
              "    [theme=dark] .colab-df-convert {\n",
              "      background-color: #3B4455;\n",
              "      fill: #D2E3FC;\n",
              "    }\n",
              "\n",
              "    [theme=dark] .colab-df-convert:hover {\n",
              "      background-color: #434B5C;\n",
              "      box-shadow: 0px 1px 3px 1px rgba(0, 0, 0, 0.15);\n",
              "      filter: drop-shadow(0px 1px 2px rgba(0, 0, 0, 0.3));\n",
              "      fill: #FFFFFF;\n",
              "    }\n",
              "  </style>\n",
              "\n",
              "    <script>\n",
              "      const buttonEl =\n",
              "        document.querySelector('#df-88f9e8d1-c84f-40b3-a3d9-1866a942bd01 button.colab-df-convert');\n",
              "      buttonEl.style.display =\n",
              "        google.colab.kernel.accessAllowed ? 'block' : 'none';\n",
              "\n",
              "      async function convertToInteractive(key) {\n",
              "        const element = document.querySelector('#df-88f9e8d1-c84f-40b3-a3d9-1866a942bd01');\n",
              "        const dataTable =\n",
              "          await google.colab.kernel.invokeFunction('convertToInteractive',\n",
              "                                                    [key], {});\n",
              "        if (!dataTable) return;\n",
              "\n",
              "        const docLinkHtml = 'Like what you see? Visit the ' +\n",
              "          '<a target=\"_blank\" href=https://colab.research.google.com/notebooks/data_table.ipynb>data table notebook</a>'\n",
              "          + ' to learn more about interactive tables.';\n",
              "        element.innerHTML = '';\n",
              "        dataTable['output_type'] = 'display_data';\n",
              "        await google.colab.output.renderOutput(dataTable, element);\n",
              "        const docLink = document.createElement('div');\n",
              "        docLink.innerHTML = docLinkHtml;\n",
              "        element.appendChild(docLink);\n",
              "      }\n",
              "    </script>\n",
              "  </div>\n",
              "\n",
              "\n",
              "<div id=\"df-e18b34ea-5fc4-421b-862c-df7ce05676c0\">\n",
              "  <button class=\"colab-df-quickchart\" onclick=\"quickchart('df-e18b34ea-5fc4-421b-862c-df7ce05676c0')\"\n",
              "            title=\"Suggest charts\"\n",
              "            style=\"display:none;\">\n",
              "\n",
              "<svg xmlns=\"http://www.w3.org/2000/svg\" height=\"24px\"viewBox=\"0 0 24 24\"\n",
              "     width=\"24px\">\n",
              "    <g>\n",
              "        <path d=\"M19 3H5c-1.1 0-2 .9-2 2v14c0 1.1.9 2 2 2h14c1.1 0 2-.9 2-2V5c0-1.1-.9-2-2-2zM9 17H7v-7h2v7zm4 0h-2V7h2v10zm4 0h-2v-4h2v4z\"/>\n",
              "    </g>\n",
              "</svg>\n",
              "  </button>\n",
              "\n",
              "<style>\n",
              "  .colab-df-quickchart {\n",
              "      --bg-color: #E8F0FE;\n",
              "      --fill-color: #1967D2;\n",
              "      --hover-bg-color: #E2EBFA;\n",
              "      --hover-fill-color: #174EA6;\n",
              "      --disabled-fill-color: #AAA;\n",
              "      --disabled-bg-color: #DDD;\n",
              "  }\n",
              "\n",
              "  [theme=dark] .colab-df-quickchart {\n",
              "      --bg-color: #3B4455;\n",
              "      --fill-color: #D2E3FC;\n",
              "      --hover-bg-color: #434B5C;\n",
              "      --hover-fill-color: #FFFFFF;\n",
              "      --disabled-bg-color: #3B4455;\n",
              "      --disabled-fill-color: #666;\n",
              "  }\n",
              "\n",
              "  .colab-df-quickchart {\n",
              "    background-color: var(--bg-color);\n",
              "    border: none;\n",
              "    border-radius: 50%;\n",
              "    cursor: pointer;\n",
              "    display: none;\n",
              "    fill: var(--fill-color);\n",
              "    height: 32px;\n",
              "    padding: 0;\n",
              "    width: 32px;\n",
              "  }\n",
              "\n",
              "  .colab-df-quickchart:hover {\n",
              "    background-color: var(--hover-bg-color);\n",
              "    box-shadow: 0 1px 2px rgba(60, 64, 67, 0.3), 0 1px 3px 1px rgba(60, 64, 67, 0.15);\n",
              "    fill: var(--button-hover-fill-color);\n",
              "  }\n",
              "\n",
              "  .colab-df-quickchart-complete:disabled,\n",
              "  .colab-df-quickchart-complete:disabled:hover {\n",
              "    background-color: var(--disabled-bg-color);\n",
              "    fill: var(--disabled-fill-color);\n",
              "    box-shadow: none;\n",
              "  }\n",
              "\n",
              "  .colab-df-spinner {\n",
              "    border: 2px solid var(--fill-color);\n",
              "    border-color: transparent;\n",
              "    border-bottom-color: var(--fill-color);\n",
              "    animation:\n",
              "      spin 1s steps(1) infinite;\n",
              "  }\n",
              "\n",
              "  @keyframes spin {\n",
              "    0% {\n",
              "      border-color: transparent;\n",
              "      border-bottom-color: var(--fill-color);\n",
              "      border-left-color: var(--fill-color);\n",
              "    }\n",
              "    20% {\n",
              "      border-color: transparent;\n",
              "      border-left-color: var(--fill-color);\n",
              "      border-top-color: var(--fill-color);\n",
              "    }\n",
              "    30% {\n",
              "      border-color: transparent;\n",
              "      border-left-color: var(--fill-color);\n",
              "      border-top-color: var(--fill-color);\n",
              "      border-right-color: var(--fill-color);\n",
              "    }\n",
              "    40% {\n",
              "      border-color: transparent;\n",
              "      border-right-color: var(--fill-color);\n",
              "      border-top-color: var(--fill-color);\n",
              "    }\n",
              "    60% {\n",
              "      border-color: transparent;\n",
              "      border-right-color: var(--fill-color);\n",
              "    }\n",
              "    80% {\n",
              "      border-color: transparent;\n",
              "      border-right-color: var(--fill-color);\n",
              "      border-bottom-color: var(--fill-color);\n",
              "    }\n",
              "    90% {\n",
              "      border-color: transparent;\n",
              "      border-bottom-color: var(--fill-color);\n",
              "    }\n",
              "  }\n",
              "</style>\n",
              "\n",
              "  <script>\n",
              "    async function quickchart(key) {\n",
              "      const quickchartButtonEl =\n",
              "        document.querySelector('#' + key + ' button');\n",
              "      quickchartButtonEl.disabled = true;  // To prevent multiple clicks.\n",
              "      quickchartButtonEl.classList.add('colab-df-spinner');\n",
              "      try {\n",
              "        const charts = await google.colab.kernel.invokeFunction(\n",
              "            'suggestCharts', [key], {});\n",
              "      } catch (error) {\n",
              "        console.error('Error during call to suggestCharts:', error);\n",
              "      }\n",
              "      quickchartButtonEl.classList.remove('colab-df-spinner');\n",
              "      quickchartButtonEl.classList.add('colab-df-quickchart-complete');\n",
              "    }\n",
              "    (() => {\n",
              "      let quickchartButtonEl =\n",
              "        document.querySelector('#df-e18b34ea-5fc4-421b-862c-df7ce05676c0 button');\n",
              "      quickchartButtonEl.style.display =\n",
              "        google.colab.kernel.accessAllowed ? 'block' : 'none';\n",
              "    })();\n",
              "  </script>\n",
              "</div>\n",
              "    </div>\n",
              "  </div>\n"
            ],
            "text/plain": [
              "        latitude   longitude  stars  review_count  is_open  category_count  \\\n",
              "0      32.223236 -110.880452    3.5            22        0               6   \n",
              "1      39.955505  -75.155564    4.0            80        1               5   \n",
              "2      40.338183  -75.471659    4.5            13        1               3   \n",
              "3      36.269593  -87.058943    2.0             6        1               6   \n",
              "4      38.627695  -90.340465    2.5            13        1               6   \n",
              "...          ...         ...    ...           ...      ...             ...   \n",
              "80658  39.935982  -75.158665    4.5            35        1               2   \n",
              "80659  39.856185  -75.427725    4.5            14        1               6   \n",
              "80661  36.115118  -86.766925    4.0             5        1               7   \n",
              "80662  39.908707  -86.065088    3.5             8        1               7   \n",
              "80663  38.782351  -89.950558    4.0            24        1               5   \n",
              "\n",
              "       hours_count  attributes_count  business_accepts_credit_cards  \\\n",
              "0            100.0                16                              1   \n",
              "1             94.0                11                              1   \n",
              "2             40.0                 7                              1   \n",
              "3             66.0                23                              1   \n",
              "4             46.0                 4                              1   \n",
              "...            ...               ...                            ...   \n",
              "80658         26.0                20                              1   \n",
              "80659          0.0                10                              1   \n",
              "80661         64.0                 5                              1   \n",
              "80662          0.0                 2                              1   \n",
              "80663         70.0                 6                              1   \n",
              "\n",
              "       business_parking  population  average_salary  \n",
              "0                     1   7359197.0         50930.0  \n",
              "1                     1  12972008.0         51340.0  \n",
              "2                     1  12972008.0         51340.0  \n",
              "3                     1   7051339.0         45650.0  \n",
              "4                     1   6177957.0         47820.0  \n",
              "...                 ...         ...             ...  \n",
              "80658                 1  12972008.0         51340.0  \n",
              "80659                 1   1018396.0         54370.0  \n",
              "80661                 1   7051339.0         45650.0  \n",
              "80662                 0   6833037.0         46770.0  \n",
              "80663                 1  12582032.0         55130.0  \n",
              "\n",
              "[77338 rows x 12 columns]"
            ]
          },
          "execution_count": 184,
          "metadata": {},
          "output_type": "execute_result"
        },
        {
          "name": "stdout",
          "output_type": "stream",
          "text": [
            "time: 24.4 ms (started: 2023-12-27 08:38:44 +00:00)\n"
          ]
        }
      ],
      "source": [
        "continuous"
      ]
    },
    {
      "cell_type": "markdown",
      "metadata": {
        "id": "nPkvF0KBC0qS"
      },
      "source": [
        "\n",
        "We calculate the total number of records that contain \"hours_count\" == 0 and replace them with the average of the hours that the businesses are open"
      ]
    },
    {
      "cell_type": "code",
      "execution_count": null,
      "metadata": {
        "colab": {
          "base_uri": "https://localhost:8080/"
        },
        "id": "Fy4ViEMd933n",
        "outputId": "90f89d5e-74e2-4b62-b787-9e0b6484b6cb"
      },
      "outputs": [
        {
          "name": "stdout",
          "output_type": "stream",
          "text": [
            "Total number of records with 0 hours: 12027\n",
            "Mean hours that businesses are open during the week: 40.72813968122613\n",
            "time: 19.8 ms (started: 2023-12-27 08:38:45 +00:00)\n"
          ]
        }
      ],
      "source": [
        "zero_hours_count = df_businesses[df_businesses['hours_count'] == 0]\n",
        "mean_hours_count = df_businesses['hours_count'].mean()\n",
        "\n",
        "total_businesses_with_zero_hours = (zero_hours_count['hours_count'] == 0).sum()\n",
        "\n",
        "print(f'Total number of records with 0 hours: {total_businesses_with_zero_hours}')\n",
        "print(f'Mean hours that businesses are open during the week: {mean_hours_count}')\n",
        "\n",
        "df_businesses['hours_count'] = df_businesses['hours_count'].replace(0, mean_hours_count)\n"
      ]
    },
    {
      "cell_type": "markdown",
      "metadata": {
        "id": "DXwwHDNK5MxI"
      },
      "source": [
        "<a name=\"data-analysis\"></a>\n",
        "## Data analysis"
      ]
    },
    {
      "cell_type": "code",
      "execution_count": null,
      "metadata": {
        "colab": {
          "base_uri": "https://localhost:8080/",
          "height": 489
        },
        "id": "8oAoeZiw5Ea_",
        "outputId": "6455f0ef-559c-4a8a-9fec-d2c31a144764"
      },
      "outputs": [
        {
          "data": {
            "image/png": "[encoded data removed]",
            "text/plain": [
              "<Figure size 640x480 with 1 Axes>"
            ]
          },
          "metadata": {},
          "output_type": "display_data"
        },
        {
          "name": "stdout",
          "output_type": "stream",
          "text": [
            "time: 438 ms (started: 2023-12-27 08:38:45 +00:00)\n"
          ]
        }
      ],
      "source": [
        "sns.countplot(x='stars', data=df_businesses)\n",
        "plt.title('Distribution of Business Ratings')\n",
        "plt.show()"
      ]
    },
    {
      "cell_type": "code",
      "execution_count": null,
      "metadata": {
        "colab": {
          "base_uri": "https://localhost:8080/",
          "height": 423
        },
        "id": "udzrdA4hE6IV",
        "outputId": "809494b0-2987-4c5c-d870-00b9051af5e6"
      },
      "outputs": [
        {
          "data": {
            "image/png": "[encoded data removed]",
            "text/plain": [
              "<Figure size 640x480 with 1 Axes>"
            ]
          },
          "metadata": {},
          "output_type": "display_data"
        },
        {
          "name": "stdout",
          "output_type": "stream",
          "text": [
            "time: 93 ms (started: 2023-12-27 08:38:45 +00:00)\n"
          ]
        }
      ],
      "source": [
        "fig, ax = plt.subplots()\n",
        "mean_stars = round(df_businesses['stars'].mean(), 2)\n",
        "star_emoji = '\\u2605'\n",
        "ax.text(0.5, 0.5, f'Average stars: {mean_stars} {star_emoji}{star_emoji}{star_emoji}', ha='center', va='center', fontsize=16)\n",
        "ax.axis('off')\n",
        "plt.show()"
      ]
    },
    {
      "cell_type": "code",
      "execution_count": null,
      "metadata": {
        "colab": {
          "base_uri": "https://localhost:8080/",
          "height": 599
        },
        "id": "9fHy0i_sBw8Z",
        "outputId": "41bef636-5c73-4f7e-a832-ea3b299e891c"
      },
      "outputs": [
        {
          "data": {
            "text/plain": [
              "Text(0, 0.5, 'Number of Businesses')"
            ]
          },
          "execution_count": 188,
          "metadata": {},
          "output_type": "execute_result"
        },
        {
          "data": {
            "image/png": "[encoded data removed]",
            "text/plain": [
              "<Figure size 800x600 with 1 Axes>"
            ]
          },
          "metadata": {},
          "output_type": "display_data"
        },
        {
          "name": "stdout",
          "output_type": "stream",
          "text": [
            "time: 1.04 s (started: 2023-12-27 08:38:45 +00:00)\n"
          ]
        }
      ],
      "source": [
        "business_per_state = df_businesses['state'].value_counts()\n",
        "plt.figure(figsize=(8, 6))\n",
        "sns.barplot(x=business_per_state.index[:10], y=business_per_state.values[:10], palette='viridis')\n",
        "plt.title('Top 10 States by Business Count')\n",
        "plt.xlabel('State')\n",
        "plt.ylabel('Number of Businesses')"
      ]
    },
    {
      "cell_type": "code",
      "execution_count": null,
      "metadata": {
        "colab": {
          "base_uri": "https://localhost:8080/",
          "height": 423
        },
        "id": "ZzEmYlBXHqVz",
        "outputId": "95eb5147-8319-4377-d735-593a0979f74b"
      },
      "outputs": [
        {
          "data": {
            "image/png": "[encoded data removed]",
            "text/plain": [
              "<Figure size 640x480 with 1 Axes>"
            ]
          },
          "metadata": {},
          "output_type": "display_data"
        },
        {
          "name": "stdout",
          "output_type": "stream",
          "text": [
            "time: 181 ms (started: 2023-12-27 08:38:46 +00:00)\n"
          ]
        }
      ],
      "source": [
        "fig, ax = plt.subplots()\n",
        "mean_stars = round(df_businesses['review_count'].mean(), 2)\n",
        "ax.text(0.5, 0.5, f'Average review_count: {mean_stars}', ha='center', va='center', fontsize=16)\n",
        "ax.axis('off')\n",
        "plt.show()"
      ]
    },
    {
      "cell_type": "code",
      "execution_count": null,
      "metadata": {
        "colab": {
          "base_uri": "https://localhost:8080/",
          "height": 581
        },
        "id": "u4TWG59MFiMS",
        "outputId": "d0426fd1-8c30-4a34-b362-0c3f8586cc04"
      },
      "outputs": [
        {
          "data": {
            "image/png": "[encoded data removed]",
            "text/plain": [
              "<Figure size 1000x600 with 1 Axes>"
            ]
          },
          "metadata": {},
          "output_type": "display_data"
        },
        {
          "name": "stdout",
          "output_type": "stream",
          "text": [
            "time: 1.7 s (started: 2023-12-27 08:38:46 +00:00)\n"
          ]
        }
      ],
      "source": [
        "flat_categories = [category for sublist in df_businesses['categories'] for category in sublist]\n",
        "\n",
        "# Create a pandas Series from the flattened list\n",
        "categories_series = pd.Series(flat_categories)\n",
        "\n",
        "# Get the top 10 categories\n",
        "top_categories = categories_series.value_counts().head(10)\n",
        "\n",
        "# Plot the top categories\n",
        "plt.figure(figsize=(10, 6))\n",
        "sns.barplot(x=top_categories.values, y=top_categories.index, palette='viridis')\n",
        "plt.title('Top 10 Categories')\n",
        "plt.xlabel('Count')\n",
        "plt.ylabel('Category')\n",
        "plt.show()"
      ]
    },
    {
      "cell_type": "code",
      "execution_count": null,
      "metadata": {
        "colab": {
          "base_uri": "https://localhost:8080/",
          "height": 458
        },
        "id": "OTBloX8VLPrR",
        "outputId": "94fc3c18-f61c-4ac1-bace-f2212e6c65eb"
      },
      "outputs": [
        {
          "name": "stdout",
          "output_type": "stream",
          "text": [
            "8713\n"
          ]
        },
        {
          "data": {
            "text/plain": [
              "<Figure size 1500x600 with 0 Axes>"
            ]
          },
          "metadata": {},
          "output_type": "display_data"
        },
        {
          "data": {
            "image/png": "[encoded data removed]",
            "text/plain": [
              "<Figure size 640x480 with 1 Axes>"
            ]
          },
          "metadata": {},
          "output_type": "display_data"
        },
        {
          "name": "stdout",
          "output_type": "stream",
          "text": [
            "time: 1.33 s (started: 2023-12-27 08:38:48 +00:00)\n"
          ]
        }
      ],
      "source": [
        "# Function to detect outliers using IQR\n",
        "def detect_outliers(df, column):\n",
        "    Q1 = df[column].quantile(0.25)\n",
        "    Q3 = df[column].quantile(0.75)\n",
        "    IQR = Q3 - Q1\n",
        "    outliers = ((df[column] < (Q1 - 1.5 * IQR)) | (df[column] > (Q3 + 1.5 * IQR))).sum()\n",
        "    return outliers\n",
        "df_new = df_businesses\n",
        "# Detecting outliers in 'review_count'\n",
        "outliers_reviews = detect_outliers(df_new, 'review_count')\n",
        "print(outliers_reviews)\n",
        "\n",
        "# Data Quality Assessment: Checking for missing values\n",
        "missing_values = df_new.isnull().mean().sort_values(ascending=False).head(10)\n",
        "\n",
        "# Creating the dashboard\n",
        "plt.figure(figsize=(15, 6))\n",
        "\n",
        "# Plot for Outliers\n",
        "fig, ax = plt.subplots()\n",
        "ax.text(0.5, 0.5, f'Number of outliers in review_count: {outliers_reviews}', ha='center', va='center', fontsize=16)\n",
        "ax.axis('off')\n",
        "plt.show()"
      ]
    },
    {
      "cell_type": "code",
      "execution_count": null,
      "metadata": {
        "colab": {
          "base_uri": "https://localhost:8080/",
          "height": 562
        },
        "id": "CqgHvHFGMqJN",
        "outputId": "722d0ed9-b118-4363-f184-430d0f57f142"
      },
      "outputs": [
        {
          "data": {
            "image/png": "[encoded data removed]",
            "text/plain": [
              "<Figure size 1000x600 with 1 Axes>"
            ]
          },
          "metadata": {},
          "output_type": "display_data"
        },
        {
          "name": "stdout",
          "output_type": "stream",
          "text": [
            "time: 727 ms (started: 2023-12-27 08:38:50 +00:00)\n"
          ]
        }
      ],
      "source": [
        "plt.figure(figsize=(10, 6))\n",
        "plt.boxplot( df_businesses['review_count'], labels=[ 'Review Count'])\n",
        "plt.title('Box Plot Review Count')\n",
        "plt.ylabel('Values')\n",
        "plt.show()"
      ]
    },
    {
      "cell_type": "markdown",
      "metadata": {
        "id": "4sy4wtfzY40W"
      },
      "source": [
        "We replace outliers in the specified column with the lower and upper bounds derived from the interquartile range (IQR) method"
      ]
    },
    {
      "cell_type": "code",
      "execution_count": null,
      "metadata": {
        "colab": {
          "base_uri": "https://localhost:8080/"
        },
        "id": "iWO-3bPaFZLd",
        "outputId": "5ee3a13e-154a-48b5-a828-5950bf05d92e"
      },
      "outputs": [
        {
          "name": "stdout",
          "output_type": "stream",
          "text": [
            "time: 233 ms (started: 2023-12-27 08:38:50 +00:00)\n"
          ]
        }
      ],
      "source": [
        "def replace_outliers_with_bounds(df, column):\n",
        "    Q1 = df[column].quantile(0.25)\n",
        "    Q3 = df[column].quantile(0.75)\n",
        "    IQR = Q3 - Q1\n",
        "\n",
        "    lower_bound = Q1 - 1.5 * IQR\n",
        "    upper_bound = Q3 + 1.5 * IQR\n",
        "\n",
        "    # Replace outliers with upper and lower bounds\n",
        "    df[column] = df[column].apply(lambda x: lower_bound if x < lower_bound else (upper_bound if x > upper_bound else x))\n",
        "\n",
        "# Assuming df_businesses is your DataFrame and 'column_name' is the column containing outliers\n",
        "replace_outliers_with_bounds(df_businesses, 'review_count')"
      ]
    },
    {
      "cell_type": "code",
      "execution_count": null,
      "metadata": {
        "colab": {
          "base_uri": "https://localhost:8080/",
          "height": 562
        },
        "id": "L1Q3GhEbFjUP",
        "outputId": "8a95e7ac-a31b-481e-8784-573d2bc01f52"
      },
      "outputs": [
        {
          "data": {
            "image/png": "[encoded data removed]",
            "text/plain": [
              "<Figure size 1000x600 with 1 Axes>"
            ]
          },
          "metadata": {},
          "output_type": "display_data"
        },
        {
          "name": "stdout",
          "output_type": "stream",
          "text": [
            "time: 907 ms (started: 2023-12-27 08:38:51 +00:00)\n"
          ]
        }
      ],
      "source": [
        "plt.figure(figsize=(10, 6))\n",
        "plt.boxplot( df_businesses['review_count'], labels=[ 'Review Count'])\n",
        "plt.title('Box Plot Review Count')\n",
        "plt.ylabel('Values')\n",
        "plt.show()"
      ]
    },
    {
      "cell_type": "markdown",
      "metadata": {
        "id": "U9BNp40pZclX"
      },
      "source": [
        "We iterate through each column in a DataFrame (df_businesses) and check if there are any missing (null or NaN) values in each column. If a column has missing values, we print a message indicating the column name and the number of missing values"
      ]
    },
    {
      "cell_type": "code",
      "execution_count": null,
      "metadata": {
        "colab": {
          "base_uri": "https://localhost:8080/"
        },
        "id": "8gAcgZ7sThfS",
        "outputId": "218adce2-d8d7-46d2-f064-47d21661e629"
      },
      "outputs": [
        {
          "name": "stdout",
          "output_type": "stream",
          "text": [
            "Column hours has 9809 missing values.\n",
            "time: 489 ms (started: 2023-12-27 08:38:51 +00:00)\n"
          ]
        }
      ],
      "source": [
        "for column in df_businesses:\n",
        "  if df_businesses[column].isnull().sum() > 0:\n",
        "    print(\"Column \" + df_businesses[column].name + \" has \" + str(df_businesses[column].isnull().sum()) + \" missing values.\")"
      ]
    },
    {
      "cell_type": "code",
      "execution_count": null,
      "metadata": {
        "colab": {
          "base_uri": "https://localhost:8080/",
          "height": 581
        },
        "id": "v-93IyYaRRBD",
        "outputId": "f79e9d84-4e31-4a23-cf5f-63cf9fc02052"
      },
      "outputs": [
        {
          "data": {
            "image/png": "[encoded data removed]",
            "text/plain": [
              "<Figure size 800x600 with 1 Axes>"
            ]
          },
          "metadata": {},
          "output_type": "display_data"
        },
        {
          "name": "stdout",
          "output_type": "stream",
          "text": [
            "time: 1.05 s (started: 2023-12-27 08:38:52 +00:00)\n"
          ]
        }
      ],
      "source": [
        "df_businesses['high_quality'] = (df_businesses['review_count'] >= 100).astype(int)\n",
        "plt.figure(figsize=(8, 6))\n",
        "sns.boxplot(x=df_businesses['high_quality'], y=df_businesses['stars'])\n",
        "plt.title('Box Plot of Stars by High Quality (Review Count >= 100)')\n",
        "plt.xlabel('High Quality (0 = No, 1 = Yes)')\n",
        "plt.ylabel('Stars')\n",
        "plt.show()"
      ]
    },
    {
      "cell_type": "code",
      "execution_count": null,
      "metadata": {
        "colab": {
          "base_uri": "https://localhost:8080/",
          "height": 581
        },
        "id": "vm45FqXtsh62",
        "outputId": "a84ea735-1183-41ee-9d75-8f974a1e744f"
      },
      "outputs": [
        {
          "data": {
            "image/png": "[encoded data removed]",
            "text/plain": [
              "<Figure size 800x600 with 1 Axes>"
            ]
          },
          "metadata": {},
          "output_type": "display_data"
        },
        {
          "name": "stdout",
          "output_type": "stream",
          "text": [
            "time: 620 ms (started: 2023-12-27 08:38:53 +00:00)\n"
          ]
        }
      ],
      "source": [
        "plt.figure(figsize=(8, 6))\n",
        "sns.boxplot(x=df_businesses['high_quality'], y=df_businesses['hours_count'])\n",
        "plt.title('Box Plot of hours by review_count (Review Count >= 100)')\n",
        "plt.xlabel('High Quality (0 = No, 1 = Yes)')\n",
        "plt.ylabel('Hours')\n",
        "plt.show()"
      ]
    },
    {
      "cell_type": "code",
      "execution_count": null,
      "metadata": {
        "colab": {
          "base_uri": "https://localhost:8080/",
          "height": 581
        },
        "id": "sTYNF3xHtVPQ",
        "outputId": "f8d2e655-35ca-47f3-d71c-a76c862a705f"
      },
      "outputs": [
        {
          "data": {
            "image/png": "[encoded data removed]",
            "text/plain": [
              "<Figure size 800x600 with 1 Axes>"
            ]
          },
          "metadata": {},
          "output_type": "display_data"
        },
        {
          "name": "stdout",
          "output_type": "stream",
          "text": [
            "time: 509 ms (started: 2023-12-27 08:38:54 +00:00)\n"
          ]
        }
      ],
      "source": [
        "df_businesses['high_quality'] = (df_businesses['stars'] >= 4.5).astype(int)\n",
        "plt.figure(figsize=(8, 6))\n",
        "sns.boxplot(x=df_businesses['high_quality'], y=df_businesses['hours_count'])\n",
        "plt.title('Box Plot of Hours by Stars (stars >= 4.5)')\n",
        "plt.xlabel('Stars (0 = No, 1 = Yes)')\n",
        "plt.ylabel('Hours')\n",
        "plt.show()"
      ]
    },
    {
      "cell_type": "code",
      "execution_count": null,
      "metadata": {
        "colab": {
          "base_uri": "https://localhost:8080/",
          "height": 581
        },
        "id": "CoUcGF12s5qC",
        "outputId": "1522e598-0473-458e-95ac-b65d8d1c3248"
      },
      "outputs": [
        {
          "data": {
            "image/png": "[encoded data removed]",
            "text/plain": [
              "<Figure size 800x600 with 1 Axes>"
            ]
          },
          "metadata": {},
          "output_type": "display_data"
        },
        {
          "name": "stdout",
          "output_type": "stream",
          "text": [
            "time: 535 ms (started: 2023-12-27 08:38:54 +00:00)\n"
          ]
        }
      ],
      "source": [
        "df_businesses['high_quality'] = (df_businesses['review_count'] >= 100).astype(int)\n",
        "plt.figure(figsize=(8, 6))\n",
        "sns.boxplot(x=df_businesses['high_quality'], y=df_businesses['category_count'])\n",
        "plt.title('Box Plot of Stars by review_count (Review Count >= 100)')\n",
        "plt.xlabel('High Quality (0 = No, 1 = Yes)')\n",
        "plt.ylabel('category_count')\n",
        "plt.show()"
      ]
    },
    {
      "cell_type": "code",
      "execution_count": null,
      "metadata": {
        "colab": {
          "base_uri": "https://localhost:8080/",
          "height": 581
        },
        "id": "ed44XedStxCp",
        "outputId": "5e90b17c-54cf-4ec7-c684-83a842224ad3"
      },
      "outputs": [
        {
          "data": {
            "image/png": "[encoded data removed]",
            "text/plain": [
              "<Figure size 800x600 with 1 Axes>"
            ]
          },
          "metadata": {},
          "output_type": "display_data"
        },
        {
          "name": "stdout",
          "output_type": "stream",
          "text": [
            "time: 554 ms (started: 2023-12-27 08:38:55 +00:00)\n"
          ]
        }
      ],
      "source": [
        "df_businesses['high_quality'] = (df_businesses['stars'] >= 4.5).astype(int)\n",
        "plt.figure(figsize=(8, 6))\n",
        "sns.boxplot(x=df_businesses['high_quality'], y=df_businesses['category_count'])\n",
        "plt.title('Box Plot of category_count by Stars (stars >= 4.5)')\n",
        "plt.xlabel('Stars (0 = No, 1 = Yes)')\n",
        "plt.ylabel('category_count')\n",
        "plt.show()"
      ]
    },
    {
      "cell_type": "markdown",
      "metadata": {
        "id": "ISSd2ZWVYMVj"
      },
      "source": [
        "<a name=\"data-processing\"></a>\n",
        "## Data processing"
      ]
    },
    {
      "cell_type": "markdown",
      "metadata": {
        "id": "TkYDIMLCaIBF"
      },
      "source": [
        "Create sparkSession"
      ]
    },
    {
      "cell_type": "code",
      "execution_count": null,
      "metadata": {
        "colab": {
          "base_uri": "https://localhost:8080/"
        },
        "id": "ZufTWfAds20p",
        "outputId": "4f24f21b-bcea-4b5c-c2f1-50f422596e4c"
      },
      "outputs": [
        {
          "name": "stdout",
          "output_type": "stream",
          "text": [
            "time: 47.5 ms (started: 2023-12-27 08:38:55 +00:00)\n"
          ]
        }
      ],
      "source": [
        "spark = SparkSession.builder \\\n",
        "    .appName(\"Large JSON Processing\") \\\n",
        "    .config(\"spark.executor.heartbeatInterval\", \"200000\")\\\n",
        "    .config(\"spark.network.timeout\", \"300000\")\\\n",
        "    .config(\"spark.executor.memory\", \"47185920000\") \\\n",
        "    .getOrCreate()"
      ]
    },
    {
      "cell_type": "markdown",
      "metadata": {
        "id": "56SNrUeybEOI"
      },
      "source": [
        "Original data set (5GB)\n",
        "\n",
        "<p align=\"center\">\n",
        "<img src=\"https://drive.google.com/uc?export=view&id=1jZgWRkcoEyMar7q9k2zFQGRCgMVONSMw\" alt=\"drawing\" width=\"1800\" height=\"120\"/>\n",
        "</p>"
      ]
    },
    {
      "cell_type": "markdown",
      "metadata": {
        "id": "dVVUCKp2aMFh"
      },
      "source": [
        "Upload new dataset"
      ]
    },
    {
      "cell_type": "code",
      "execution_count": null,
      "metadata": {
        "colab": {
          "base_uri": "https://localhost:8080/"
        },
        "id": "6sLW1jcZshcP",
        "outputId": "91983177-0889-46fa-eaf6-d1abaa7d7365"
      },
      "outputs": [
        {
          "name": "stdout",
          "output_type": "stream",
          "text": [
            "time: 5.6 s (started: 2023-12-27 08:38:55 +00:00)\n"
          ]
        }
      ],
      "source": [
        "json_file_path = '/content/drive/MyDrive/colab/yelp_academic_dataset_business_add.json'\n",
        "df_add = spark.read.json(json_file_path)"
      ]
    },
    {
      "cell_type": "code",
      "execution_count": null,
      "metadata": {
        "colab": {
          "base_uri": "https://localhost:8080/"
        },
        "id": "j2bOSzrtuczB",
        "outputId": "f8779437-65b8-460e-cee9-e6900d3b9cad"
      },
      "outputs": [
        {
          "name": "stdout",
          "output_type": "stream",
          "text": [
            "+--------------------+--------------------+--------------------+--------------------+--------------------+-------------+--------------------+-------+-------------+---------------+--------------------+----------------+----------------+-----------+------------+--------------------+-----+-----+\n",
            "|             address|          attributes|         business_id|     business_id_rev|          categories|         city|               hours|is_open|     latitude|      longitude|                name|negative_reviews|positive_reviews|postal_code|review_count|review_count_reviews|stars|state|\n",
            "+--------------------+--------------------+--------------------+--------------------+--------------------+-------------+--------------------+-------+-------------+---------------+--------------------+----------------+----------------+-----------+------------+--------------------+-----+-----+\n",
            "| 10359 104 Street NW|[NULL, NULL, u'be...|WKMJwqnfZKsAae75R...|WKMJwqnfZKsAae75R...|Coffee & Tea, Foo...|     Edmonton|[8:0-18:0, 8:0-18...|      0|   53.5460453|   -113.4991693|Roast Coffeehouse...|               8|              32|    T5J 1B9|          40|                  40|  4.0|   AB|\n",
            "|5191 Meadowood Ma...|[NULL, NULL, u'no...|knQ4vIgx-r85kjlWV...|knQ4vIgx-r85kjlWV...|Sporting Goods, S...|         Reno|[10:0-21:0, 0:0-0...|      1|    39.476518|   -119.7840369|Silver and Blue O...|               4|               1|      89502|           5|                   5|  4.5|   NV|\n",
            "|    4611 Alabama Ave|[NULL, NULL, u'no...|1dSKEitDDgIkaApe6...|1dSKEitDDgIkaApe6...|Caribbean, Food, ...|    Nashville|[11:0-18:0, 0:0-0...|      1|   36.1530043|    -86.8433279|     The Pepper Pott|              18|               0|      37209|          18|                  18|  5.0|   TN|\n",
            "|                    |[NULL, NULL, u'no...|adATTqggIQX5xxLDI...|adATTqggIQX5xxLDI...|Food Trucks, Rest...|       Tucson|[15:0-21:0, 0:0-0...|      1|32.2712313189|-110.9920754497|        Just Churros|              23|               2|      85705|          25|                  25|  5.0|   AZ|\n",
            "| 8150 Bryan Dairy Rd|[NULL, NULL, NULL...|vxrGNnuEef7YCfB7m...|vxrGNnuEef7YCfB7m...|Coffee & Tea, Don...|Pinellas Park|[5:0-22:0, 5:0-22...|      1|   27.8718285|    -82.7502853|             Dunkin'|               1|               7|      33777|           8|                   8|  2.0|   FL|\n",
            "|      800 Kietzke Ln|[NULL, NULL, NULL...|NQhyMw8SOU1HB-V9X...|NQhyMw8SOU1HB-V9X...|Automotive, Auto ...|         Reno|[8:30-18:0, 8:30-...|      1| 39.518222529|-119.7877136963|Champion Chevrole...|              19|              31|      89502|          45|                  50|  3.0|   NV|\n",
            "|2041 Coral St, Ste 2|[NULL, NULL, u'no...|nBr6NgqcZz1GhtAng...|nBr6NgqcZz1GhtAng...|Shopping, Restaur...| Philadelphia|[7:0-15:0, 0:0-0:...|      1|39.9813471541| -75.1322471288|          Forin Cafe|               9|               3|      19125|          10|                  12|  4.5|   PA|\n",
            "|    1337 W Olney Ave|[NULL, NULL, u'no...|dE_MaaYrXBAEebtH2...|dE_MaaYrXBAEebtH2...|Specialty Food, M...| Philadelphia|[7:0-22:30, 7:0-2...|      1|   40.0390528|    -75.1438169|     Wilson's Market|               5|               8|      19141|          13|                  13|  3.5|   PA|\n",
            "|       533 Kings Hwy|[NULL, NULL, u'fu...|2y_CdkxEOJEJGyJAp...|2y_CdkxEOJEJGyJAp...|Restaurants, Amer...| Woolwich Twp|[16:0-22:30, NULL...|      1|   39.7532524|    -75.3024859|Rode's Fireside R...|              31|              80|      08085|         104|                 111|  3.5|   NJ|\n",
            "|  1100 E New York St|[NULL, NULL, NULL...|sUW-t3CiE8qBRZ1sH...|sUW-t3CiE8qBRZ1sH...|Playgrounds, Park...| Indianapolis|                NULL|      1| 39.770854468| -86.1380184844|       Highland Park|              14|              10|      46202|          23|                  24|  4.5|   IN|\n",
            "|  3600 Lancaster Ave|[NULL, NULL, 'ful...|Ryt1Fhgz7sixMQSJi...|Ryt1Fhgz7sixMQSJi...|Restaurants, Mexican| Philadelphia|[12:0-0:0, 12:0-0...|      0|   39.9584222|    -75.1938661|              Zocalo|               4|              58|      19104|          59|                  62|  2.5|   PA|\n",
            "|2201 E River Rd, ...|[NULL, NULL, NULL...|4grfwtBDji5tZ7AxY...|4grfwtBDji5tZ7AxY...|Local Flavor, Sho...|       Tucson|[15:0-21:0, NULL,...|      1|   32.2870182|   -110.9384158|Diamond Lil's Vin...|               6|               2|      85718|           8|                   8|  5.0|   AZ|\n",
            "|     138 Sunset Blvd|[NULL, NULL, NULL...|AaRe9p02qoeAcSFLI...|AaRe9p02qoeAcSFLI...|Appliances, Nurse...|   New Castle|[9:0-20:0, 0:0-0:...|      1|   39.6701002|    -75.5965244|      The Home Depot|               2|               9|      19720|          10|                  11|  2.5|   DE|\n",
            "| 443 S Evergreen Ave|[NULL, NULL, NULL...|V0vhc0cmXq8vNJPUj...|V0vhc0cmXq8vNJPUj...|Day Spas, Nail Sa...|     Woodbury|[9:0-20:0, 9:0-20...|      1|    39.828969|      -75.15032|A Cut Above The Rest|               0|               8|      08096|           8|                   8|  1.5|   NJ|\n",
            "|       359 N West St|[NULL, NULL, NULL...|V85fGg0cb0B4gWEWW...|V85fGg0cb0B4gWEWW...|Apartments, Home ...| Indianapolis|[9:0-18:0, 9:0-18...|      1|39.7723457921| -86.1665288035|        Canal Square|               4|              12|      46202|          16|                  16|  2.5|   IN|\n",
            "|  141 Bridgeton Pike|[False, NULL, NUL...|EmXpEvdFPQxdKn5sC...|EmXpEvdFPQxdKn5sC...|Massage, Beauty &...| Mullica Hill|[9:0-22:0, 9:0-22...|      1|   39.7242454|    -75.2185522|Hand & Stone Mass...|               2|               6|      08062|           8|                   8|  2.5|   NJ|\n",
            "|        637 W Hwy 50|                NULL|iipnazeY9eoANJ37l...|iipnazeY9eoANJ37l...|Packing Services,...|     O'Fallon|                NULL|      0|    38.588157|     -89.923034|    Post Pack & Ship|              11|               0|      62269|           9|                  11|  5.0|   IL|\n",
            "|7755 E Golf Links Rd|[NULL, NULL, NULL...|v-2lHvgUBB9RAqiMi...|v-2lHvgUBB9RAqiMi...|Hair Salons, Beau...|       Tucson|[8:30-19:0, 8:30-...|      1|   32.1925638|    -110.827128|Amy & Barber Beau...|               1|               5|      85730|           6|                   6|  2.5|   AZ|\n",
            "|   927 N Emerson Ave|[NULL, NULL, NULL...|t-FX1LpBX6J4wcDLi...|t-FX1LpBX6J4wcDLi...|Donation Center, ...|    Greenwood|[9:0-19:0, 9:0-19...|      1|   39.6301772|    -86.0789237|Goodwill Outlet S...|               3|              11|      46143|          14|                  14|  2.5|   IN|\n",
            "|     6950 S McCarran|[NULL, NULL, 'ful...|neL2xrin-uMJl5ABK...|neL2xrin-uMJl5ABK...| Fondue, Restaurants|         Reno|                NULL|      0|    39.476506|    -119.806804|     The Melting Pot|               4|              14|      89509|          15|                  18|  3.5|   NV|\n",
            "+--------------------+--------------------+--------------------+--------------------+--------------------+-------------+--------------------+-------+-------------+---------------+--------------------+----------------+----------------+-----------+------------+--------------------+-----+-----+\n",
            "only showing top 20 rows\n",
            "\n",
            "time: 708 ms (started: 2023-12-27 08:39:01 +00:00)\n"
          ]
        }
      ],
      "source": [
        "df_add.show()"
      ]
    },
    {
      "cell_type": "markdown",
      "metadata": {
        "id": "hGTlQXyhAad1"
      },
      "source": [
        "We drop the column review_count, as we saw that it has incorrect values and we replace it for our review count."
      ]
    },
    {
      "cell_type": "code",
      "execution_count": null,
      "metadata": {
        "colab": {
          "base_uri": "https://localhost:8080/"
        },
        "id": "YxNGLSR_xqnn",
        "outputId": "898c7283-6b87-4211-961c-e435f1355113"
      },
      "outputs": [
        {
          "data": {
            "text/plain": [
              "DataFrame[address: string, attributes: array<string>, business_id: string, business_id_rev: string, categories: string, city: string, hours: array<string>, is_open: bigint, latitude: double, longitude: double, name: string, negative_reviews: bigint, positive_reviews: bigint, postal_code: string, review_count_reviews: bigint, stars: double, state: string]"
            ]
          },
          "execution_count": 204,
          "metadata": {},
          "output_type": "execute_result"
        },
        {
          "name": "stdout",
          "output_type": "stream",
          "text": [
            "time: 50.6 ms (started: 2023-12-27 08:39:02 +00:00)\n"
          ]
        }
      ],
      "source": [
        "df_add.drop(\"review_count\")"
      ]
    },
    {
      "cell_type": "code",
      "execution_count": null,
      "metadata": {
        "colab": {
          "base_uri": "https://localhost:8080/"
        },
        "id": "XhAxhSu5xzXG",
        "outputId": "a74d4db8-8788-482a-fe6d-42ac0f4b70f5"
      },
      "outputs": [
        {
          "data": {
            "text/plain": [
              "DataFrame[address: string, attributes: array<string>, business_id: string, business_id_rev: string, categories: string, city: string, hours: array<string>, is_open: bigint, latitude: double, longitude: double, name: string, negative_reviews: bigint, positive_reviews: bigint, postal_code: string, review_count: bigint, review_count: bigint, stars: double, state: string]"
            ]
          },
          "execution_count": 205,
          "metadata": {},
          "output_type": "execute_result"
        },
        {
          "name": "stdout",
          "output_type": "stream",
          "text": [
            "time: 59 ms (started: 2023-12-27 08:39:02 +00:00)\n"
          ]
        }
      ],
      "source": [
        "df_add.withColumnRenamed(\"review_count_reviews\", \"review_count\")"
      ]
    },
    {
      "cell_type": "code",
      "execution_count": null,
      "metadata": {
        "colab": {
          "base_uri": "https://localhost:8080/"
        },
        "id": "Md20zmpJu6gC",
        "outputId": "f67fdbe6-32a9-46d1-b30f-9ea44c685be4"
      },
      "outputs": [
        {
          "name": "stdout",
          "output_type": "stream",
          "text": [
            "time: 28.3 ms (started: 2023-12-27 08:39:02 +00:00)\n"
          ]
        }
      ],
      "source": [
        "df_add_drop = df_add[[\"business_id\",\"review_count\", \"positive_reviews\", \"negative_reviews\"]]"
      ]
    },
    {
      "cell_type": "code",
      "execution_count": null,
      "metadata": {
        "colab": {
          "base_uri": "https://localhost:8080/"
        },
        "id": "DjkydLyQ3HEl",
        "outputId": "bd2b4cb3-aded-40ac-87e8-e20bf777d7c4"
      },
      "outputs": [
        {
          "name": "stdout",
          "output_type": "stream",
          "text": [
            "<class 'pandas.core.frame.DataFrame'>\n",
            "Int64Index: 77338 entries, 0 to 80663\n",
            "Data columns (total 23 columns):\n",
            " #   Column                         Non-Null Count  Dtype  \n",
            "---  ------                         --------------  -----  \n",
            " 0   business_id                    77338 non-null  object \n",
            " 1   name                           77338 non-null  object \n",
            " 2   address                        77338 non-null  object \n",
            " 3   city                           77338 non-null  object \n",
            " 4   state                          77338 non-null  object \n",
            " 5   postal_code                    77338 non-null  object \n",
            " 6   latitude                       77338 non-null  float64\n",
            " 7   longitude                      77338 non-null  float64\n",
            " 8   stars                          77338 non-null  float64\n",
            " 9   review_count                   77338 non-null  float64\n",
            " 10  is_open                        77338 non-null  int64  \n",
            " 11  attributes                     77338 non-null  object \n",
            " 12  categories                     77338 non-null  object \n",
            " 13  hours                          67529 non-null  object \n",
            " 14  category_count                 77338 non-null  int64  \n",
            " 15  hours_count                    77338 non-null  float64\n",
            " 16  attributes_count               77338 non-null  int64  \n",
            " 17  business_accepts_credit_cards  77338 non-null  int64  \n",
            " 18  business_parking               77338 non-null  int64  \n",
            " 19  name_state                     77338 non-null  object \n",
            " 20  population                     77338 non-null  float64\n",
            " 21  average_salary                 77338 non-null  float64\n",
            " 22  high_quality                   77338 non-null  int64  \n",
            "dtypes: float64(7), int64(6), object(10)\n",
            "memory usage: 14.2+ MB\n",
            "time: 506 ms (started: 2023-12-27 08:39:02 +00:00)\n"
          ]
        }
      ],
      "source": [
        "df_businesses.info()"
      ]
    },
    {
      "cell_type": "markdown",
      "metadata": {
        "id": "K64JkO05Aq8r"
      },
      "source": [
        "Creating a spark dataframe to do the join between both datasets"
      ]
    },
    {
      "cell_type": "code",
      "execution_count": null,
      "metadata": {
        "colab": {
          "base_uri": "https://localhost:8080/"
        },
        "id": "35wmvCJ03lU3",
        "outputId": "4d3177ee-9cc5-4f85-c460-bcab26761292"
      },
      "outputs": [
        {
          "name": "stdout",
          "output_type": "stream",
          "text": [
            "time: 32.5 s (started: 2023-12-27 08:39:02 +00:00)\n"
          ]
        }
      ],
      "source": [
        "df = spark.createDataFrame(df_businesses)"
      ]
    },
    {
      "cell_type": "code",
      "execution_count": null,
      "metadata": {
        "colab": {
          "base_uri": "https://localhost:8080/"
        },
        "id": "A4ubVeBS48hc",
        "outputId": "adfdf9cb-b7cc-4d46-f1e5-830c3bf383c7"
      },
      "outputs": [
        {
          "name": "stdout",
          "output_type": "stream",
          "text": [
            "+--------------------+--------------------+--------------------+-------------+-----+-----------+-------------+---------------+-----+------------+-------+--------------------+--------------------+--------------------+--------------+-----------------+----------------+-----------------------------+----------------+------------+-----------+--------------+------------+\n",
            "|         business_id|                name|             address|         city|state|postal_code|     latitude|      longitude|stars|review_count|is_open|          attributes|          categories|               hours|category_count|      hours_count|attributes_count|business_accepts_credit_cards|business_parking|  name_state| population|average_salary|high_quality|\n",
            "+--------------------+--------------------+--------------------+-------------+-----+-----------+-------------+---------------+-----+------------+-------+--------------------+--------------------+--------------------+--------------+-----------------+----------------+-----------------------------+----------------+------------+-----------+--------------+------------+\n",
            "|tUFrWirKiKi_TAnsV...|              Target|5255 E Broadway Blvd|       Tucson|   AZ|      85711|    32.223236|    -110.880452|  3.5|        22.0|      0|{BikeParking -> T...|[Department Store...|{Thursday -> 8:0-...|             6|            100.0|              16|                            1|               1|     Arizona|  7359197.0|       50930.0|           0|\n",
            "|MTSW4McQd7CbVtyjq...|  St Honore Pastries|         935 Race St| Philadelphia|   PA|      19107|   39.9555052|    -75.1555641|  4.0|        80.0|      1|{BikeParking -> T...|[Restaurants, Foo...|{Thursday -> 7:0-...|             5|             94.0|              11|                            1|               1|Pennsylvania|1.2972008E7|       51340.0|           0|\n",
            "|mWMc6_wTdE0EUBKIG...|Perkiomen Valley ...|       101 Walnut St|   Green Lane|   PA|      18054|   40.3381827|    -75.4716585|  4.5|        13.0|      1|{BikeParking -> T...|[Brewpubs, Brewer...|{Thursday -> 16:0...|             3|             40.0|               7|                            1|               1|Pennsylvania|1.2972008E7|       51340.0|           1|\n",
            "|CF33F8-E6oudUQ46H...|      Sonic Drive-In|       615 S Main St| Ashland City|   TN|      37015|    36.269593|     -87.058943|  2.0|         6.0|      1|{BikeParking -> F...|[Burgers, Fast Fo...|{Thursday -> 6:0-...|             6|             66.0|              23|                            1|               1|   Tennessee|  7051339.0|       45650.0|           0|\n",
            "|n_0UpQx1hsNbnPUSl...|     Famous Footwear|8522 Eager Road, ...|    Brentwood|   MO|      63144|    38.627695|     -90.340465|  2.5|        13.0|      1|{BikeParking -> T...|[Sporting Goods, ...|{Thursday -> 10:0...|             6|             46.0|               4|                            1|               1|    Missouri|  6177957.0|       47820.0|           0|\n",
            "|k0hlBqXX-Bt0vf1op...|Tsevi's Pub And G...|   8025 Mackenzie Rd|       Affton|   MO|      63123|   38.5651648|    -90.3210868|  3.0|        19.0|      0|{BusinessAcceptsC...|[Pubs, Restaurant...|                NULL|             7|40.72813968122613|              16|                            1|               1|    Missouri|  6177957.0|       47820.0|           0|\n",
            "|bBDDEgkFA1Otx9Lfe...|      Sonic Drive-In| 2312 Dickerson Pike|    Nashville|   TN|      37207|   36.2081024|    -86.7681696|  1.5|        10.0|      1|{RestaurantsDeliv...|[Ice Cream & Froz...|{Thursday -> 6:0-...|             5|             76.0|              21|                            1|               1|   Tennessee|  7051339.0|       45650.0|           0|\n",
            "|UJsufbvfyfONHeWdv...|           Marshalls|21705 Village Lak...|Land O' Lakes|   FL|      34639|28.1904587953| -82.4573802199|  3.5|         6.0|      1|{BikeParking -> T...|[Department Store...|{Thursday -> 9:30...|             3|             82.0|               4|                            1|               1|     Florida|2.2244823E7|       47750.0|           0|\n",
            "|eEOYSgkmpB90uNA7l...|Vietnamese Food T...|                    |    Tampa Bay|   FL|      33602|   27.9552692|    -82.4563199|  4.0|        10.0|      1|{BusinessParking ...|[Vietnamese, Food...|{Thursday -> 11:0...|             4|             23.0|               6|                            0|               1|     Florida|2.2244823E7|       47750.0|           0|\n",
            "|il_Ro8jwPlHresjw9...|             Denny's|        8901 US 31 S| Indianapolis|   IN|      46227|39.6371332838|  -86.127217412|  2.5|        28.0|      1|{BikeParking -> F...|[American (Tradit...|{Thursday -> 6:0-...|             4|            112.0|              16|                            1|               1|     Indiana|  6833037.0|       46770.0|           0|\n",
            "|0bPLkL0QhhPO5kt1_...|Zio's Italian Market|       2575 E Bay Dr|        Largo|   FL|      33771|   27.9161159|    -82.7604608|  4.5|       100.0|      0|{BikeParking -> T...|[Food, Delis, Ita...|{Thursday -> 10:0...|             5|             58.0|              21|                            1|               1|     Florida|2.2244823E7|       47750.0|           1|\n",
            "|MUTTqe8uqyMdBl186...|            Tuna Bar|         205 Race St| Philadelphia|   PA|      19106|    39.953949|    -75.1432262|  4.0|       142.5|      1|{RestaurantsDeliv...|[Sushi Bars, Rest...|{Thursday -> 13:3...|             3|             53.0|              20|                            1|               1|Pennsylvania|1.2972008E7|       51340.0|           0|\n",
            "|M0XSSHqrASOnhgbWD...|      Herb Import Co|        712 Adams St|  New Orleans|   LA|      70118|29.9414679565|  -90.129952757|  4.0|         5.0|      1|{BikeParking -> T...|[Vape Shops, Toba...|{Thursday -> 10:0...|             5|             63.0|               4|                            1|               1|   Louisiana|  4590241.0|       44170.0|           0|\n",
            "|ROeacJQwBeh05Rqg7...|                 BAP|       1224 South St| Philadelphia|   PA|      19147|    39.943223|     -75.162568|  4.5|       142.5|      1|{BikeParking -> T...|[Korean, Restaura...|{Thursday -> 11:3...|             2|             54.0|              19|                            1|               1|Pennsylvania|1.2972008E7|       51340.0|           1|\n",
            "|qhDdDeI3K4jy2Kyzw...|Barnes & Noble Bo...|8675 River Crossi...| Indianapolis|   IN|      46240|     39.91382|     -86.105739|  4.0|        38.0|      1|{BikeParking -> F...|[Shopping, Books,...|{Thursday -> 10:0...|             5|             74.0|               4|                            1|               1|     Indiana|  6833037.0|       46770.0|           0|\n",
            "|9OG5YkX1g2GReZM0A...|Romano's Macaroni...|  5505 S Virginia St|         Reno|   NV|      89502|   39.4761165|   -119.7893392|  2.5|       142.5|      1|{BikeParking -> T...|[Restaurants, Ita...|{Thursday -> 11:0...|             2|             72.0|              21|                            1|               1|      Nevada|  3177772.0|       47210.0|           0|\n",
            "|4iRzR7OaS-QaSXuvY...|           Super Dog|1160 Gallatin Pike S|    Nashville|   TN|      37115|   36.2485696|    -86.7199857|  4.0|         6.0|      0|{BusinessAcceptsC...|[Hot Dogs, Restau...|                NULL|             2|40.72813968122613|              16|                            1|               1|   Tennessee|  7051339.0|       45650.0|           0|\n",
            "|noByYNtDLQAra9ccq...|                 H&M|    827-833 State St|Santa Barbara|   CA|      93101|34.4202089255|-119.7004597389|  3.0|        24.0|      1|{BikeParking -> T...|[Women's Clothing...|{Thursday -> 11:0...|             7|             49.0|               4|                            1|               1|  California|3.9029342E7|       61290.0|           0|\n",
            "|tMkwHmWFUEXrC9Zdu...|  The Green Pheasant|       215 1st Ave S|    Nashville|   TN|      37201|   36.1598858|    -86.7731974|  4.0|       142.5|      0|{BikeParking -> F...|[Restaurants, Jap...|{Thursday -> 16:0...|             3|             26.0|              22|                            1|               1|   Tennessee|  7051339.0|       45650.0|           0|\n",
            "|QdN72BWoyFypdGJhh...|             Bar One|        767 S 9th St| Philadelphia|   PA|      19147|39.9398245705| -75.1574465632|  4.0|        65.0|      0|{BikeParking -> T...|[Cocktail Bars, B...|{Thursday -> 12:0...|             5|            -90.0|              23|                            1|               1|Pennsylvania|1.2972008E7|       51340.0|           0|\n",
            "+--------------------+--------------------+--------------------+-------------+-----+-----------+-------------+---------------+-----+------------+-------+--------------------+--------------------+--------------------+--------------+-----------------+----------------+-----------------------------+----------------+------------+-----------+--------------+------------+\n",
            "only showing top 20 rows\n",
            "\n",
            "time: 4.36 s (started: 2023-12-27 08:39:35 +00:00)\n"
          ]
        }
      ],
      "source": [
        "df.show()"
      ]
    },
    {
      "cell_type": "markdown",
      "metadata": {
        "id": "WOZ_sPdyAx31"
      },
      "source": [
        "We drop again the incorrect column on the business df and we do the join"
      ]
    },
    {
      "cell_type": "code",
      "execution_count": null,
      "metadata": {
        "colab": {
          "base_uri": "https://localhost:8080/"
        },
        "id": "COJ-VCku51dn",
        "outputId": "bb524db9-0362-444a-d46d-d6ce022137dd"
      },
      "outputs": [
        {
          "name": "stdout",
          "output_type": "stream",
          "text": [
            "time: 27.3 ms (started: 2023-12-27 08:39:39 +00:00)\n"
          ]
        }
      ],
      "source": [
        "df = df.drop(\"review_count\")"
      ]
    },
    {
      "cell_type": "code",
      "execution_count": null,
      "metadata": {
        "colab": {
          "base_uri": "https://localhost:8080/"
        },
        "id": "N87EYnAd0El6",
        "outputId": "e1dbd776-25b6-4bdc-de7e-0ebc4dd7f683"
      },
      "outputs": [
        {
          "name": "stdout",
          "output_type": "stream",
          "text": [
            "time: 31.9 ms (started: 2023-12-27 08:39:39 +00:00)\n"
          ]
        }
      ],
      "source": [
        "df_final = df.join(df_add_drop,df.business_id == df_add_drop.business_id)"
      ]
    },
    {
      "cell_type": "code",
      "execution_count": null,
      "metadata": {
        "colab": {
          "base_uri": "https://localhost:8080/"
        },
        "id": "BO4-qGq7BmEG",
        "outputId": "1b566288-6743-4669-80f4-b0621fd59187"
      },
      "outputs": [
        {
          "name": "stdout",
          "output_type": "stream",
          "text": [
            "<class 'pandas.core.frame.DataFrame'>\n",
            "RangeIndex: 77338 entries, 0 to 77337\n",
            "Data columns (total 26 columns):\n",
            " #   Column                         Non-Null Count  Dtype  \n",
            "---  ------                         --------------  -----  \n",
            " 0   business_id                    77338 non-null  object \n",
            " 1   name                           77338 non-null  object \n",
            " 2   address                        77338 non-null  object \n",
            " 3   city                           77338 non-null  object \n",
            " 4   state                          77338 non-null  object \n",
            " 5   postal_code                    77338 non-null  object \n",
            " 6   latitude                       77338 non-null  float64\n",
            " 7   longitude                      77338 non-null  float64\n",
            " 8   stars                          77338 non-null  float64\n",
            " 9   is_open                        77338 non-null  int64  \n",
            " 10  attributes                     77338 non-null  object \n",
            " 11  categories                     77338 non-null  object \n",
            " 12  hours                          67529 non-null  object \n",
            " 13  category_count                 77338 non-null  int64  \n",
            " 14  hours_count                    77338 non-null  float64\n",
            " 15  attributes_count               77338 non-null  int64  \n",
            " 16  business_accepts_credit_cards  77338 non-null  int64  \n",
            " 17  business_parking               77338 non-null  int64  \n",
            " 18  name_state                     77338 non-null  object \n",
            " 19  population                     77338 non-null  float64\n",
            " 20  average_salary                 77338 non-null  float64\n",
            " 21  high_quality                   77338 non-null  int64  \n",
            " 22  business_id                    77338 non-null  object \n",
            " 23  review_count                   77338 non-null  int64  \n",
            " 24  positive_reviews               77338 non-null  int64  \n",
            " 25  negative_reviews               77338 non-null  int64  \n",
            "dtypes: float64(6), int64(9), object(11)\n",
            "memory usage: 15.3+ MB\n",
            "time: 25.6 s (started: 2023-12-27 08:39:39 +00:00)\n"
          ]
        }
      ],
      "source": [
        "df_final.toPandas().info()"
      ]
    },
    {
      "cell_type": "code",
      "execution_count": null,
      "metadata": {
        "colab": {
          "base_uri": "https://localhost:8080/"
        },
        "id": "YrOGNDBA_V_I",
        "outputId": "e70134bf-3fe7-4cb5-f943-96f4c46eedf6"
      },
      "outputs": [
        {
          "name": "stdout",
          "output_type": "stream",
          "text": [
            "+--------------------+--------------------+--------------------+-------------+-----+-----------+-------------+---------------+-----+-------+--------------------+--------------------+--------------------+--------------+-----------------+----------------+-----------------------------+----------------+------------+-----------+--------------+------------+--------------------+------------+----------------+----------------+\n",
            "|         business_id|                name|             address|         city|state|postal_code|     latitude|      longitude|stars|is_open|          attributes|          categories|               hours|category_count|      hours_count|attributes_count|business_accepts_credit_cards|business_parking|  name_state| population|average_salary|high_quality|         business_id|review_count|positive_reviews|negative_reviews|\n",
            "+--------------------+--------------------+--------------------+-------------+-----+-----------+-------------+---------------+-----+-------+--------------------+--------------------+--------------------+--------------+-----------------+----------------+-----------------------------+----------------+------------+-----------+--------------+------------+--------------------+------------+----------------+----------------+\n",
            "|knQ4vIgx-r85kjlWV...|Silver and Blue O...|5191 Meadowood Ma...|         Reno|   NV|      89502|    39.476518|   -119.7840369|  4.5|      1|{BikeParking -> T...|[Sporting Goods, ...|{Thursday -> 10:0...|             7|             62.0|               9|                            1|               1|      Nevada|  3177772.0|       47210.0|           1|knQ4vIgx-r85kjlWV...|           5|               1|               4|\n",
            "|1dSKEitDDgIkaApe6...|     The Pepper Pott|    4611 Alabama Ave|    Nashville|   TN|      37209|   36.1530043|    -86.8433279|  5.0|      1|{BikeParking -> T...|[Caribbean, Food,...|{Monday -> 0:0-0:...|             4|             21.0|              18|                            1|               1|   Tennessee|  7051339.0|       45650.0|           1|1dSKEitDDgIkaApe6...|          18|               0|              18|\n",
            "|adATTqggIQX5xxLDI...|        Just Churros|                    |       Tucson|   AZ|      85705|32.2712313189|-110.9920754497|  5.0|      1|{BikeParking -> T...|[Food Trucks, Res...|{Monday -> 0:0-0:...|             8|             12.0|              10|                            1|               1|     Arizona|  7359197.0|       50930.0|           1|adATTqggIQX5xxLDI...|          25|               2|              23|\n",
            "|vxrGNnuEef7YCfB7m...|             Dunkin'| 8150 Bryan Dairy Rd|Pinellas Park|   FL|      33777|   27.8718285|    -82.7502853|  2.0|      1|{RestaurantsDeliv...|[Coffee & Tea, Do...|{Thursday -> 5:0-...|             3|            119.0|               4|                            0|               1|     Florida|2.2244823E7|       47750.0|           0|vxrGNnuEef7YCfB7m...|           8|               7|               1|\n",
            "|nBr6NgqcZz1GhtAng...|          Forin Cafe|2041 Coral St, Ste 2| Philadelphia|   PA|      19125|39.9813471541| -75.1322471288|  4.5|      1|{BikeParking -> T...|[Shopping, Restau...|{Thursday -> 7:0-...|             4|             48.0|              10|                            1|               0|Pennsylvania|1.2972008E7|       51340.0|           1|nBr6NgqcZz1GhtAng...|          10|               3|               9|\n",
            "|dE_MaaYrXBAEebtH2...|     Wilson's Market|    1337 W Olney Ave| Philadelphia|   PA|      19141|   40.0390528|    -75.1438169|  3.5|      1|{BikeParking -> F...|[Specialty Food, ...|{Thursday -> 7:0-...|             7|             94.0|              17|                            1|               1|Pennsylvania|1.2972008E7|       51340.0|           0|dE_MaaYrXBAEebtH2...|          13|               8|               5|\n",
            "|2y_CdkxEOJEJGyJAp...|Rode's Fireside R...|       533 Kings Hwy| Woolwich Twp|   NJ|      08085|   39.7532524|    -75.3024859|  3.5|      1|{BikeParking -> T...|[Restaurants, Ame...|{Thursday -> 16:0...|             2|             29.0|              20|                            1|               1|  New Jersey|  9261699.0|       59980.0|           0|2y_CdkxEOJEJGyJAp...|         104|              80|              31|\n",
            "|Ryt1Fhgz7sixMQSJi...|              Zocalo|  3600 Lancaster Ave| Philadelphia|   PA|      19104|   39.9584222|    -75.1938661|  2.5|      0|{BusinessAcceptsC...|[Restaurants, Mex...|{Thursday -> 12:0...|             2|            -72.0|              19|                            1|               1|Pennsylvania|1.2972008E7|       51340.0|           0|Ryt1Fhgz7sixMQSJi...|          59|              58|               4|\n",
            "|4grfwtBDji5tZ7AxY...|Diamond Lil's Vin...|2201 E River Rd, ...|       Tucson|   AZ|      85718|   32.2870182|   -110.9384158|  5.0|      1|{BikeParking -> T...|[Local Flavor, Sh...|{Thursday -> 15:0...|             5|             30.0|               4|                            1|               1|     Arizona|  7359197.0|       50930.0|           1|4grfwtBDji5tZ7AxY...|           8|               2|               6|\n",
            "|AaRe9p02qoeAcSFLI...|      The Home Depot|     138 Sunset Blvd|   New Castle|   DE|      19720|   39.6701002|    -75.5965244|  2.5|      1|{BikeParking -> T...|[Appliances, Nurs...|{Thursday -> 6:0-...|             7|             81.0|               5|                            1|               1|    Delaware|  1018396.0|       54370.0|           0|AaRe9p02qoeAcSFLI...|          10|               9|               2|\n",
            "|t-FX1LpBX6J4wcDLi...|Goodwill Outlet S...|   927 N Emerson Ave|    Greenwood|   IN|      46143|   39.6301772|    -86.0789237|  2.5|      1|{BikeParking -> T...|[Donation Center,...|{Thursday -> 9:0-...|             7|             67.0|               5|                            1|               1|     Indiana|  6833037.0|       46770.0|           0|t-FX1LpBX6J4wcDLi...|          14|              11|               3|\n",
            "|neL2xrin-uMJl5ABK...|     The Melting Pot|     6950 S McCarran|         Reno|   NV|      89509|    39.476506|    -119.806804|  3.5|      0|{RestaurantsDeliv...|[Fondue, Restaura...|                NULL|             2|40.72813968122613|              12|                            1|               1|      Nevada|  3177772.0|       47210.0|           0|neL2xrin-uMJl5ABK...|          15|              14|               4|\n",
            "|q6661I3CGW0UB740E...|         India House|        418 State St|Santa Barbara|   CA|      93101|   34.4165402|   -119.6945773|  2.0|      0|{BikeParking -> T...|[Home & Garden, H...|{Thursday -> 11:3...|             5|             66.5|              17|                            1|               1|  California|3.9029342E7|       61290.0|           0|q6661I3CGW0UB740E...|         136|             119|              19|\n",
            "|U8upRgW2JG6a6Lo-S...| Sticky's Smoke Shop|    6447 N Oracle Rd|       Tucson|   AZ|      85704|   32.3243244|   -110.9758648|  2.0|      1|{BikeParking -> T...|[Vape Shops, Shop...|{Thursday -> 10:0...|             3|             79.0|               5|                            1|               1|     Arizona|  7359197.0|       50930.0|           0|U8upRgW2JG6a6Lo-S...|           9|               7|               2|\n",
            "|skW4boArIApRw9DXK...|Champps Penn's La...|2100 S Christophe...| Philadelphia|   PA|      19176|39.9206642975| -75.1416778564|  2.5|      0|{RestaurantsDeliv...|[American (Tradit...|{Thursday -> 11:0...|             3|            -50.0|              15|                            1|               1|Pennsylvania|1.2972008E7|       51340.0|           0|skW4boArIApRw9DXK...|          38|              36|               2|\n",
            "|wIHee6-l_ODAkkFEy...|      Bouffant Daddy|  7276 Manchester Rd|    Maplewood|   MO|      63143|   38.6133468|    -90.3162857|  4.0|      1|{BikeParking -> T...|[Beauty & Spas, F...|{Tuesday -> 11:0-...|             5|             40.0|               6|                            1|               1|    Missouri|  6177957.0|       47820.0|           0|wIHee6-l_ODAkkFEy...|          34|              14|              21|\n",
            "|KBvdN8Apn4DIxuNW3...|  NJ Weedman's Joint|      322 E State St|      Trenton|   NJ|      08608|40.2208764427| -74.7588232612|  4.0|      1|{BikeParking -> F...|[Chicken Wings, M...|{Thursday -> 10:0...|            12|             78.0|              22|                            1|               1|  New Jersey|  9261699.0|       59980.0|           0|KBvdN8Apn4DIxuNW3...|          42|              17|              26|\n",
            "|sEBL8OtHzw2ctY69D...|     Mission Tuxedos|    135 W Mission St|Santa Barbara|   CA|      93101|   34.4288596|   -119.7166165|  5.0|      1|{BikeParking -> T...|[Wedding Planning...|{Thursday -> 10:0...|             9|             30.0|               6|                            1|               1|  California|3.9029342E7|       61290.0|           1|sEBL8OtHzw2ctY69D...|          28|               1|              27|\n",
            "|djuNT4gKDYbqh9mfo...|RJM Computers and...|  4524 W Overland Rd|        Boise|   ID|      83705|    43.590815|   -116.2375246|  4.5|      1|{BikeParking -> T...|[IT Services & Co...|{Thursday -> 8:0-...|             4|             56.0|               7|                            1|               1|       Idaho|  1939033.0|       44890.0|           1|djuNT4gKDYbqh9mfo...|          15|               2|              13|\n",
            "|TuRy46Cyb7MWjV7VM...|        Kosmos Pizza|          5 Egypt Rd|   Norristown|   PA|      19403|    40.132814|     -75.379524|  3.0|      1|{BikeParking -> F...|[Pizza, Restauran...|{Thursday -> 11:0...|             4|             79.0|              25|                            1|               1|Pennsylvania|1.2972008E7|       51340.0|           0|TuRy46Cyb7MWjV7VM...|          71|              59|              18|\n",
            "+--------------------+--------------------+--------------------+-------------+-----+-----------+-------------+---------------+-----+-------+--------------------+--------------------+--------------------+--------------+-----------------+----------------+-----------------------------+----------------+------------+-----------+--------------+------------+--------------------+------------+----------------+----------------+\n",
            "only showing top 20 rows\n",
            "\n",
            "time: 7.8 s (started: 2023-12-27 08:40:05 +00:00)\n"
          ]
        }
      ],
      "source": [
        "df_final.show()"
      ]
    },
    {
      "cell_type": "markdown",
      "metadata": {
        "id": "YOzmCLe6A6Dt"
      },
      "source": [
        "For every numerical columnn we replace the outliers to the quartile below or above depending on the outlier. This could help us to not have outliers that make our model predict incorrectly."
      ]
    },
    {
      "cell_type": "code",
      "execution_count": null,
      "metadata": {
        "colab": {
          "base_uri": "https://localhost:8080/"
        },
        "id": "yIKNyL2B1rtt",
        "outputId": "42e99593-90cb-4bc4-aee6-d3616c8cdabc"
      },
      "outputs": [
        {
          "name": "stdout",
          "output_type": "stream",
          "text": [
            "time: 3min 14s (started: 2023-12-27 08:40:13 +00:00)\n"
          ]
        }
      ],
      "source": [
        "for column in df_final.toPandas().select_dtypes(include = \"number\"):\n",
        "    # Calculate the quartiles and IQR\n",
        "    Q1 = df_final.stat.approxQuantile(column, [0.25], 0.05)[0]\n",
        "    Q3 = df_final.stat.approxQuantile(column, [0.75], 0.05)[0]\n",
        "    IQR = Q3 - Q1\n",
        "\n",
        "    # Only apply outlier treatment if IQR is non-zero\n",
        "    if IQR != 0:\n",
        "        lower_bound = Q1 - 1.5 * IQR\n",
        "        upper_bound = Q3 + 1.5 * IQR\n",
        "\n",
        "        # Replace outliers in the DataFrame using Spark SQL expressions\n",
        "        df_final = df_final.withColumn(column,\n",
        "                          when(col(column) < lower_bound, lower_bound)\n",
        "                          .when(col(column) > upper_bound, upper_bound)\n",
        "                          .otherwise(col(column)))"
      ]
    },
    {
      "cell_type": "markdown",
      "metadata": {
        "id": "WF-aeiI1B4uc"
      },
      "source": [
        "After this, we are left with only the numerical columns."
      ]
    },
    {
      "cell_type": "code",
      "execution_count": null,
      "metadata": {
        "colab": {
          "base_uri": "https://localhost:8080/"
        },
        "id": "pJJfCSANLfMY",
        "outputId": "2614c0fe-cb86-4a91-aa59-90a7b139e624"
      },
      "outputs": [
        {
          "name": "stdout",
          "output_type": "stream",
          "text": [
            "time: 18.4 s (started: 2023-12-27 08:43:28 +00:00)\n"
          ]
        }
      ],
      "source": [
        "df_continuous = df_final.select(\"*\").toPandas().select_dtypes(include = \"number\")"
      ]
    },
    {
      "cell_type": "code",
      "execution_count": null,
      "metadata": {
        "colab": {
          "base_uri": "https://localhost:8080/"
        },
        "id": "2BABvgPA9D-Q",
        "outputId": "86565240-c4fd-4b40-aa65-e311d75dfda3"
      },
      "outputs": [
        {
          "name": "stdout",
          "output_type": "stream",
          "text": [
            "<class 'pandas.core.frame.DataFrame'>\n",
            "RangeIndex: 77338 entries, 0 to 77337\n",
            "Data columns (total 15 columns):\n",
            " #   Column                         Non-Null Count  Dtype  \n",
            "---  ------                         --------------  -----  \n",
            " 0   latitude                       77338 non-null  float64\n",
            " 1   longitude                      77338 non-null  float64\n",
            " 2   stars                          77338 non-null  float64\n",
            " 3   is_open                        77338 non-null  float64\n",
            " 4   category_count                 77338 non-null  float64\n",
            " 5   hours_count                    77338 non-null  float64\n",
            " 6   attributes_count               77338 non-null  float64\n",
            " 7   business_accepts_credit_cards  77338 non-null  int64  \n",
            " 8   business_parking               77338 non-null  int64  \n",
            " 9   population                     77338 non-null  float64\n",
            " 10  average_salary                 77338 non-null  float64\n",
            " 11  high_quality                   77338 non-null  int64  \n",
            " 12  review_count                   77338 non-null  float64\n",
            " 13  positive_reviews               77338 non-null  float64\n",
            " 14  negative_reviews               77338 non-null  float64\n",
            "dtypes: float64(12), int64(3)\n",
            "memory usage: 8.9 MB\n",
            "time: 16.7 ms (started: 2023-12-27 08:43:46 +00:00)\n"
          ]
        }
      ],
      "source": [
        "df_continuous.info()"
      ]
    },
    {
      "cell_type": "markdown",
      "metadata": {
        "id": "XxHs9z8JCAlY"
      },
      "source": [
        "We normalize the data to consider all columns equally and reduce redundancies and errors."
      ]
    },
    {
      "cell_type": "code",
      "execution_count": null,
      "metadata": {
        "colab": {
          "base_uri": "https://localhost:8080/"
        },
        "id": "817IKh68C0sn",
        "outputId": "91c94a26-abb6-4b45-b319-333b3f015761"
      },
      "outputs": [
        {
          "name": "stdout",
          "output_type": "stream",
          "text": [
            "time: 24.9 ms (started: 2023-12-27 08:43:46 +00:00)\n"
          ]
        }
      ],
      "source": [
        "normalized_df = (df_continuous-df_continuous.min())/(df_continuous.max()-df_continuous.min())"
      ]
    },
    {
      "cell_type": "code",
      "execution_count": null,
      "metadata": {
        "colab": {
          "base_uri": "https://localhost:8080/",
          "height": 461
        },
        "id": "aPW61kxHnRQH",
        "outputId": "2a4bbc32-a7c5-41f4-c3c3-17875e85fa76"
      },
      "outputs": [
        {
          "data": {
            "text/html": [
              "\n",
              "  <div id=\"df-218d51e9-7196-4947-915e-6c019809ce04\" class=\"colab-df-container\">\n",
              "    <div>\n",
              "<style scoped>\n",
              "    .dataframe tbody tr th:only-of-type {\n",
              "        vertical-align: middle;\n",
              "    }\n",
              "\n",
              "    .dataframe tbody tr th {\n",
              "        vertical-align: top;\n",
              "    }\n",
              "\n",
              "    .dataframe thead th {\n",
              "        text-align: right;\n",
              "    }\n",
              "</style>\n",
              "<table border=\"1\" class=\"dataframe\">\n",
              "  <thead>\n",
              "    <tr style=\"text-align: right;\">\n",
              "      <th></th>\n",
              "      <th>latitude</th>\n",
              "      <th>longitude</th>\n",
              "      <th>stars</th>\n",
              "      <th>is_open</th>\n",
              "      <th>category_count</th>\n",
              "      <th>hours_count</th>\n",
              "      <th>attributes_count</th>\n",
              "      <th>business_accepts_credit_cards</th>\n",
              "      <th>business_parking</th>\n",
              "      <th>population</th>\n",
              "      <th>average_salary</th>\n",
              "      <th>high_quality</th>\n",
              "      <th>review_count</th>\n",
              "      <th>positive_reviews</th>\n",
              "      <th>negative_reviews</th>\n",
              "    </tr>\n",
              "  </thead>\n",
              "  <tbody>\n",
              "    <tr>\n",
              "      <th>0</th>\n",
              "      <td>39.476518</td>\n",
              "      <td>-112.125374</td>\n",
              "      <td>4.5</td>\n",
              "      <td>1.0</td>\n",
              "      <td>7.0</td>\n",
              "      <td>62.00000</td>\n",
              "      <td>9.0</td>\n",
              "      <td>1</td>\n",
              "      <td>1</td>\n",
              "      <td>3177772.0</td>\n",
              "      <td>47210.0</td>\n",
              "      <td>1</td>\n",
              "      <td>5.0</td>\n",
              "      <td>1.0</td>\n",
              "      <td>4.0</td>\n",
              "    </tr>\n",
              "    <tr>\n",
              "      <th>1</th>\n",
              "      <td>36.153004</td>\n",
              "      <td>-86.843328</td>\n",
              "      <td>5.0</td>\n",
              "      <td>1.0</td>\n",
              "      <td>4.0</td>\n",
              "      <td>21.00000</td>\n",
              "      <td>18.0</td>\n",
              "      <td>1</td>\n",
              "      <td>1</td>\n",
              "      <td>7051339.0</td>\n",
              "      <td>45650.0</td>\n",
              "      <td>1</td>\n",
              "      <td>18.0</td>\n",
              "      <td>0.0</td>\n",
              "      <td>18.0</td>\n",
              "    </tr>\n",
              "    <tr>\n",
              "      <th>2</th>\n",
              "      <td>32.271231</td>\n",
              "      <td>-110.992075</td>\n",
              "      <td>5.0</td>\n",
              "      <td>1.0</td>\n",
              "      <td>8.0</td>\n",
              "      <td>12.00000</td>\n",
              "      <td>10.0</td>\n",
              "      <td>1</td>\n",
              "      <td>1</td>\n",
              "      <td>7359197.0</td>\n",
              "      <td>50930.0</td>\n",
              "      <td>1</td>\n",
              "      <td>25.0</td>\n",
              "      <td>2.0</td>\n",
              "      <td>23.0</td>\n",
              "    </tr>\n",
              "    <tr>\n",
              "      <th>3</th>\n",
              "      <td>27.871828</td>\n",
              "      <td>-82.750285</td>\n",
              "      <td>2.0</td>\n",
              "      <td>1.0</td>\n",
              "      <td>3.0</td>\n",
              "      <td>103.90779</td>\n",
              "      <td>4.0</td>\n",
              "      <td>0</td>\n",
              "      <td>1</td>\n",
              "      <td>22180464.5</td>\n",
              "      <td>47750.0</td>\n",
              "      <td>0</td>\n",
              "      <td>8.0</td>\n",
              "      <td>7.0</td>\n",
              "      <td>1.0</td>\n",
              "    </tr>\n",
              "    <tr>\n",
              "      <th>4</th>\n",
              "      <td>39.981347</td>\n",
              "      <td>-75.132247</td>\n",
              "      <td>4.5</td>\n",
              "      <td>1.0</td>\n",
              "      <td>4.0</td>\n",
              "      <td>48.00000</td>\n",
              "      <td>10.0</td>\n",
              "      <td>1</td>\n",
              "      <td>0</td>\n",
              "      <td>12972008.0</td>\n",
              "      <td>51340.0</td>\n",
              "      <td>1</td>\n",
              "      <td>10.0</td>\n",
              "      <td>3.0</td>\n",
              "      <td>9.0</td>\n",
              "    </tr>\n",
              "    <tr>\n",
              "      <th>...</th>\n",
              "      <td>...</td>\n",
              "      <td>...</td>\n",
              "      <td>...</td>\n",
              "      <td>...</td>\n",
              "      <td>...</td>\n",
              "      <td>...</td>\n",
              "      <td>...</td>\n",
              "      <td>...</td>\n",
              "      <td>...</td>\n",
              "      <td>...</td>\n",
              "      <td>...</td>\n",
              "      <td>...</td>\n",
              "      <td>...</td>\n",
              "      <td>...</td>\n",
              "      <td>...</td>\n",
              "    </tr>\n",
              "    <tr>\n",
              "      <th>77333</th>\n",
              "      <td>43.579898</td>\n",
              "      <td>-112.125374</td>\n",
              "      <td>3.0</td>\n",
              "      <td>0.0</td>\n",
              "      <td>4.0</td>\n",
              "      <td>40.72814</td>\n",
              "      <td>16.0</td>\n",
              "      <td>1</td>\n",
              "      <td>1</td>\n",
              "      <td>1939033.0</td>\n",
              "      <td>44890.0</td>\n",
              "      <td>0</td>\n",
              "      <td>15.0</td>\n",
              "      <td>16.0</td>\n",
              "      <td>0.0</td>\n",
              "    </tr>\n",
              "    <tr>\n",
              "      <th>77334</th>\n",
              "      <td>28.016453</td>\n",
              "      <td>-82.776384</td>\n",
              "      <td>4.0</td>\n",
              "      <td>1.0</td>\n",
              "      <td>3.0</td>\n",
              "      <td>47.00000</td>\n",
              "      <td>18.0</td>\n",
              "      <td>1</td>\n",
              "      <td>1</td>\n",
              "      <td>22180464.5</td>\n",
              "      <td>47750.0</td>\n",
              "      <td>0</td>\n",
              "      <td>117.5</td>\n",
              "      <td>55.0</td>\n",
              "      <td>49.0</td>\n",
              "    </tr>\n",
              "    <tr>\n",
              "      <th>77335</th>\n",
              "      <td>38.767990</td>\n",
              "      <td>-89.956640</td>\n",
              "      <td>2.0</td>\n",
              "      <td>0.0</td>\n",
              "      <td>6.0</td>\n",
              "      <td>66.00000</td>\n",
              "      <td>21.0</td>\n",
              "      <td>1</td>\n",
              "      <td>1</td>\n",
              "      <td>12582032.0</td>\n",
              "      <td>55130.0</td>\n",
              "      <td>0</td>\n",
              "      <td>36.0</td>\n",
              "      <td>34.0</td>\n",
              "      <td>2.0</td>\n",
              "    </tr>\n",
              "    <tr>\n",
              "      <th>77336</th>\n",
              "      <td>28.015361</td>\n",
              "      <td>-82.136109</td>\n",
              "      <td>4.0</td>\n",
              "      <td>1.0</td>\n",
              "      <td>2.0</td>\n",
              "      <td>70.00000</td>\n",
              "      <td>19.0</td>\n",
              "      <td>1</td>\n",
              "      <td>1</td>\n",
              "      <td>22180464.5</td>\n",
              "      <td>47750.0</td>\n",
              "      <td>0</td>\n",
              "      <td>117.5</td>\n",
              "      <td>44.0</td>\n",
              "      <td>49.0</td>\n",
              "    </tr>\n",
              "    <tr>\n",
              "      <th>77337</th>\n",
              "      <td>36.158443</td>\n",
              "      <td>-86.810201</td>\n",
              "      <td>4.5</td>\n",
              "      <td>1.0</td>\n",
              "      <td>3.0</td>\n",
              "      <td>32.00000</td>\n",
              "      <td>9.0</td>\n",
              "      <td>1</td>\n",
              "      <td>1</td>\n",
              "      <td>7051339.0</td>\n",
              "      <td>45650.0</td>\n",
              "      <td>1</td>\n",
              "      <td>36.0</td>\n",
              "      <td>12.0</td>\n",
              "      <td>27.0</td>\n",
              "    </tr>\n",
              "  </tbody>\n",
              "</table>\n",
              "<p>77338 rows × 15 columns</p>\n",
              "</div>\n",
              "    <div class=\"colab-df-buttons\">\n",
              "\n",
              "  <div class=\"colab-df-container\">\n",
              "    <button class=\"colab-df-convert\" onclick=\"convertToInteractive('df-218d51e9-7196-4947-915e-6c019809ce04')\"\n",
              "            title=\"Convert this dataframe to an interactive table.\"\n",
              "            style=\"display:none;\">\n",
              "\n",
              "  <svg xmlns=\"http://www.w3.org/2000/svg\" height=\"24px\" viewBox=\"0 -960 960 960\">\n",
              "    <path d=\"M120-120v-720h720v720H120Zm60-500h600v-160H180v160Zm220 220h160v-160H400v160Zm0 220h160v-160H400v160ZM180-400h160v-160H180v160Zm440 0h160v-160H620v160ZM180-180h160v-160H180v160Zm440 0h160v-160H620v160Z\"/>\n",
              "  </svg>\n",
              "    </button>\n",
              "\n",
              "  <style>\n",
              "    .colab-df-container {\n",
              "      display:flex;\n",
              "      gap: 12px;\n",
              "    }\n",
              "\n",
              "    .colab-df-convert {\n",
              "      background-color: #E8F0FE;\n",
              "      border: none;\n",
              "      border-radius: 50%;\n",
              "      cursor: pointer;\n",
              "      display: none;\n",
              "      fill: #1967D2;\n",
              "      height: 32px;\n",
              "      padding: 0 0 0 0;\n",
              "      width: 32px;\n",
              "    }\n",
              "\n",
              "    .colab-df-convert:hover {\n",
              "      background-color: #E2EBFA;\n",
              "      box-shadow: 0px 1px 2px rgba(60, 64, 67, 0.3), 0px 1px 3px 1px rgba(60, 64, 67, 0.15);\n",
              "      fill: #174EA6;\n",
              "    }\n",
              "\n",
              "    .colab-df-buttons div {\n",
              "      margin-bottom: 4px;\n",
              "    }\n",
              "\n",
              "    [theme=dark] .colab-df-convert {\n",
              "      background-color: #3B4455;\n",
              "      fill: #D2E3FC;\n",
              "    }\n",
              "\n",
              "    [theme=dark] .colab-df-convert:hover {\n",
              "      background-color: #434B5C;\n",
              "      box-shadow: 0px 1px 3px 1px rgba(0, 0, 0, 0.15);\n",
              "      filter: drop-shadow(0px 1px 2px rgba(0, 0, 0, 0.3));\n",
              "      fill: #FFFFFF;\n",
              "    }\n",
              "  </style>\n",
              "\n",
              "    <script>\n",
              "      const buttonEl =\n",
              "        document.querySelector('#df-218d51e9-7196-4947-915e-6c019809ce04 button.colab-df-convert');\n",
              "      buttonEl.style.display =\n",
              "        google.colab.kernel.accessAllowed ? 'block' : 'none';\n",
              "\n",
              "      async function convertToInteractive(key) {\n",
              "        const element = document.querySelector('#df-218d51e9-7196-4947-915e-6c019809ce04');\n",
              "        const dataTable =\n",
              "          await google.colab.kernel.invokeFunction('convertToInteractive',\n",
              "                                                    [key], {});\n",
              "        if (!dataTable) return;\n",
              "\n",
              "        const docLinkHtml = 'Like what you see? Visit the ' +\n",
              "          '<a target=\"_blank\" href=https://colab.research.google.com/notebooks/data_table.ipynb>data table notebook</a>'\n",
              "          + ' to learn more about interactive tables.';\n",
              "        element.innerHTML = '';\n",
              "        dataTable['output_type'] = 'display_data';\n",
              "        await google.colab.output.renderOutput(dataTable, element);\n",
              "        const docLink = document.createElement('div');\n",
              "        docLink.innerHTML = docLinkHtml;\n",
              "        element.appendChild(docLink);\n",
              "      }\n",
              "    </script>\n",
              "  </div>\n",
              "\n",
              "\n",
              "<div id=\"df-e4aaaa58-25a6-4959-950d-ef3a2607d7dc\">\n",
              "  <button class=\"colab-df-quickchart\" onclick=\"quickchart('df-e4aaaa58-25a6-4959-950d-ef3a2607d7dc')\"\n",
              "            title=\"Suggest charts\"\n",
              "            style=\"display:none;\">\n",
              "\n",
              "<svg xmlns=\"http://www.w3.org/2000/svg\" height=\"24px\"viewBox=\"0 0 24 24\"\n",
              "     width=\"24px\">\n",
              "    <g>\n",
              "        <path d=\"M19 3H5c-1.1 0-2 .9-2 2v14c0 1.1.9 2 2 2h14c1.1 0 2-.9 2-2V5c0-1.1-.9-2-2-2zM9 17H7v-7h2v7zm4 0h-2V7h2v10zm4 0h-2v-4h2v4z\"/>\n",
              "    </g>\n",
              "</svg>\n",
              "  </button>\n",
              "\n",
              "<style>\n",
              "  .colab-df-quickchart {\n",
              "      --bg-color: #E8F0FE;\n",
              "      --fill-color: #1967D2;\n",
              "      --hover-bg-color: #E2EBFA;\n",
              "      --hover-fill-color: #174EA6;\n",
              "      --disabled-fill-color: #AAA;\n",
              "      --disabled-bg-color: #DDD;\n",
              "  }\n",
              "\n",
              "  [theme=dark] .colab-df-quickchart {\n",
              "      --bg-color: #3B4455;\n",
              "      --fill-color: #D2E3FC;\n",
              "      --hover-bg-color: #434B5C;\n",
              "      --hover-fill-color: #FFFFFF;\n",
              "      --disabled-bg-color: #3B4455;\n",
              "      --disabled-fill-color: #666;\n",
              "  }\n",
              "\n",
              "  .colab-df-quickchart {\n",
              "    background-color: var(--bg-color);\n",
              "    border: none;\n",
              "    border-radius: 50%;\n",
              "    cursor: pointer;\n",
              "    display: none;\n",
              "    fill: var(--fill-color);\n",
              "    height: 32px;\n",
              "    padding: 0;\n",
              "    width: 32px;\n",
              "  }\n",
              "\n",
              "  .colab-df-quickchart:hover {\n",
              "    background-color: var(--hover-bg-color);\n",
              "    box-shadow: 0 1px 2px rgba(60, 64, 67, 0.3), 0 1px 3px 1px rgba(60, 64, 67, 0.15);\n",
              "    fill: var(--button-hover-fill-color);\n",
              "  }\n",
              "\n",
              "  .colab-df-quickchart-complete:disabled,\n",
              "  .colab-df-quickchart-complete:disabled:hover {\n",
              "    background-color: var(--disabled-bg-color);\n",
              "    fill: var(--disabled-fill-color);\n",
              "    box-shadow: none;\n",
              "  }\n",
              "\n",
              "  .colab-df-spinner {\n",
              "    border: 2px solid var(--fill-color);\n",
              "    border-color: transparent;\n",
              "    border-bottom-color: var(--fill-color);\n",
              "    animation:\n",
              "      spin 1s steps(1) infinite;\n",
              "  }\n",
              "\n",
              "  @keyframes spin {\n",
              "    0% {\n",
              "      border-color: transparent;\n",
              "      border-bottom-color: var(--fill-color);\n",
              "      border-left-color: var(--fill-color);\n",
              "    }\n",
              "    20% {\n",
              "      border-color: transparent;\n",
              "      border-left-color: var(--fill-color);\n",
              "      border-top-color: var(--fill-color);\n",
              "    }\n",
              "    30% {\n",
              "      border-color: transparent;\n",
              "      border-left-color: var(--fill-color);\n",
              "      border-top-color: var(--fill-color);\n",
              "      border-right-color: var(--fill-color);\n",
              "    }\n",
              "    40% {\n",
              "      border-color: transparent;\n",
              "      border-right-color: var(--fill-color);\n",
              "      border-top-color: var(--fill-color);\n",
              "    }\n",
              "    60% {\n",
              "      border-color: transparent;\n",
              "      border-right-color: var(--fill-color);\n",
              "    }\n",
              "    80% {\n",
              "      border-color: transparent;\n",
              "      border-right-color: var(--fill-color);\n",
              "      border-bottom-color: var(--fill-color);\n",
              "    }\n",
              "    90% {\n",
              "      border-color: transparent;\n",
              "      border-bottom-color: var(--fill-color);\n",
              "    }\n",
              "  }\n",
              "</style>\n",
              "\n",
              "  <script>\n",
              "    async function quickchart(key) {\n",
              "      const quickchartButtonEl =\n",
              "        document.querySelector('#' + key + ' button');\n",
              "      quickchartButtonEl.disabled = true;  // To prevent multiple clicks.\n",
              "      quickchartButtonEl.classList.add('colab-df-spinner');\n",
              "      try {\n",
              "        const charts = await google.colab.kernel.invokeFunction(\n",
              "            'suggestCharts', [key], {});\n",
              "      } catch (error) {\n",
              "        console.error('Error during call to suggestCharts:', error);\n",
              "      }\n",
              "      quickchartButtonEl.classList.remove('colab-df-spinner');\n",
              "      quickchartButtonEl.classList.add('colab-df-quickchart-complete');\n",
              "    }\n",
              "    (() => {\n",
              "      let quickchartButtonEl =\n",
              "        document.querySelector('#df-e4aaaa58-25a6-4959-950d-ef3a2607d7dc button');\n",
              "      quickchartButtonEl.style.display =\n",
              "        google.colab.kernel.accessAllowed ? 'block' : 'none';\n",
              "    })();\n",
              "  </script>\n",
              "</div>\n",
              "    </div>\n",
              "  </div>\n"
            ],
            "text/plain": [
              "        latitude   longitude  stars  is_open  category_count  hours_count  \\\n",
              "0      39.476518 -112.125374    4.5      1.0             7.0     62.00000   \n",
              "1      36.153004  -86.843328    5.0      1.0             4.0     21.00000   \n",
              "2      32.271231 -110.992075    5.0      1.0             8.0     12.00000   \n",
              "3      27.871828  -82.750285    2.0      1.0             3.0    103.90779   \n",
              "4      39.981347  -75.132247    4.5      1.0             4.0     48.00000   \n",
              "...          ...         ...    ...      ...             ...          ...   \n",
              "77333  43.579898 -112.125374    3.0      0.0             4.0     40.72814   \n",
              "77334  28.016453  -82.776384    4.0      1.0             3.0     47.00000   \n",
              "77335  38.767990  -89.956640    2.0      0.0             6.0     66.00000   \n",
              "77336  28.015361  -82.136109    4.0      1.0             2.0     70.00000   \n",
              "77337  36.158443  -86.810201    4.5      1.0             3.0     32.00000   \n",
              "\n",
              "       attributes_count  business_accepts_credit_cards  business_parking  \\\n",
              "0                   9.0                              1                 1   \n",
              "1                  18.0                              1                 1   \n",
              "2                  10.0                              1                 1   \n",
              "3                   4.0                              0                 1   \n",
              "4                  10.0                              1                 0   \n",
              "...                 ...                            ...               ...   \n",
              "77333              16.0                              1                 1   \n",
              "77334              18.0                              1                 1   \n",
              "77335              21.0                              1                 1   \n",
              "77336              19.0                              1                 1   \n",
              "77337               9.0                              1                 1   \n",
              "\n",
              "       population  average_salary  high_quality  review_count  \\\n",
              "0       3177772.0         47210.0             1           5.0   \n",
              "1       7051339.0         45650.0             1          18.0   \n",
              "2       7359197.0         50930.0             1          25.0   \n",
              "3      22180464.5         47750.0             0           8.0   \n",
              "4      12972008.0         51340.0             1          10.0   \n",
              "...           ...             ...           ...           ...   \n",
              "77333   1939033.0         44890.0             0          15.0   \n",
              "77334  22180464.5         47750.0             0         117.5   \n",
              "77335  12582032.0         55130.0             0          36.0   \n",
              "77336  22180464.5         47750.0             0         117.5   \n",
              "77337   7051339.0         45650.0             1          36.0   \n",
              "\n",
              "       positive_reviews  negative_reviews  \n",
              "0                   1.0               4.0  \n",
              "1                   0.0              18.0  \n",
              "2                   2.0              23.0  \n",
              "3                   7.0               1.0  \n",
              "4                   3.0               9.0  \n",
              "...                 ...               ...  \n",
              "77333              16.0               0.0  \n",
              "77334              55.0              49.0  \n",
              "77335              34.0               2.0  \n",
              "77336              44.0              49.0  \n",
              "77337              12.0              27.0  \n",
              "\n",
              "[77338 rows x 15 columns]"
            ]
          },
          "execution_count": 219,
          "metadata": {},
          "output_type": "execute_result"
        },
        {
          "name": "stdout",
          "output_type": "stream",
          "text": [
            "time: 32.1 ms (started: 2023-12-27 08:43:46 +00:00)\n"
          ]
        }
      ],
      "source": [
        "df_continuous"
      ]
    },
    {
      "cell_type": "code",
      "execution_count": null,
      "metadata": {
        "colab": {
          "base_uri": "https://localhost:8080/",
          "height": 461
        },
        "id": "s5SEST7VC8Rd",
        "outputId": "48b29926-a49f-43c6-ecbd-322ee54bbfc2"
      },
      "outputs": [
        {
          "data": {
            "text/html": [
              "\n",
              "  <div id=\"df-7c97a687-b8af-4272-a695-e437ed90c1f9\" class=\"colab-df-container\">\n",
              "    <div>\n",
              "<style scoped>\n",
              "    .dataframe tbody tr th:only-of-type {\n",
              "        vertical-align: middle;\n",
              "    }\n",
              "\n",
              "    .dataframe tbody tr th {\n",
              "        vertical-align: top;\n",
              "    }\n",
              "\n",
              "    .dataframe thead th {\n",
              "        text-align: right;\n",
              "    }\n",
              "</style>\n",
              "<table border=\"1\" class=\"dataframe\">\n",
              "  <thead>\n",
              "    <tr style=\"text-align: right;\">\n",
              "      <th></th>\n",
              "      <th>latitude</th>\n",
              "      <th>longitude</th>\n",
              "      <th>stars</th>\n",
              "      <th>is_open</th>\n",
              "      <th>category_count</th>\n",
              "      <th>hours_count</th>\n",
              "      <th>attributes_count</th>\n",
              "      <th>business_accepts_credit_cards</th>\n",
              "      <th>business_parking</th>\n",
              "      <th>population</th>\n",
              "      <th>average_salary</th>\n",
              "      <th>high_quality</th>\n",
              "      <th>review_count</th>\n",
              "      <th>positive_reviews</th>\n",
              "      <th>negative_reviews</th>\n",
              "    </tr>\n",
              "  </thead>\n",
              "  <tbody>\n",
              "    <tr>\n",
              "      <th>0</th>\n",
              "      <td>0.734894</td>\n",
              "      <td>0.000000</td>\n",
              "      <td>0.857143</td>\n",
              "      <td>1.0</td>\n",
              "      <td>0.631579</td>\n",
              "      <td>0.585430</td>\n",
              "      <td>0.25000</td>\n",
              "      <td>1.0</td>\n",
              "      <td>1.0</td>\n",
              "      <td>0.102040</td>\n",
              "      <td>0.216756</td>\n",
              "      <td>1.0</td>\n",
              "      <td>0.000000</td>\n",
              "      <td>0.014599</td>\n",
              "      <td>0.081633</td>\n",
              "    </tr>\n",
              "    <tr>\n",
              "      <th>1</th>\n",
              "      <td>0.529855</td>\n",
              "      <td>0.674835</td>\n",
              "      <td>1.000000</td>\n",
              "      <td>1.0</td>\n",
              "      <td>0.315789</td>\n",
              "      <td>0.179841</td>\n",
              "      <td>0.53125</td>\n",
              "      <td>1.0</td>\n",
              "      <td>1.0</td>\n",
              "      <td>0.285083</td>\n",
              "      <td>0.105526</td>\n",
              "      <td>1.0</td>\n",
              "      <td>0.115556</td>\n",
              "      <td>0.000000</td>\n",
              "      <td>0.367347</td>\n",
              "    </tr>\n",
              "    <tr>\n",
              "      <th>2</th>\n",
              "      <td>0.290376</td>\n",
              "      <td>0.030250</td>\n",
              "      <td>1.000000</td>\n",
              "      <td>1.0</td>\n",
              "      <td>0.736842</td>\n",
              "      <td>0.090809</td>\n",
              "      <td>0.28125</td>\n",
              "      <td>1.0</td>\n",
              "      <td>1.0</td>\n",
              "      <td>0.299630</td>\n",
              "      <td>0.481996</td>\n",
              "      <td>1.0</td>\n",
              "      <td>0.177778</td>\n",
              "      <td>0.029197</td>\n",
              "      <td>0.469388</td>\n",
              "    </tr>\n",
              "    <tr>\n",
              "      <th>3</th>\n",
              "      <td>0.018963</td>\n",
              "      <td>0.784088</td>\n",
              "      <td>0.142857</td>\n",
              "      <td>1.0</td>\n",
              "      <td>0.210526</td>\n",
              "      <td>1.000000</td>\n",
              "      <td>0.09375</td>\n",
              "      <td>0.0</td>\n",
              "      <td>1.0</td>\n",
              "      <td>1.000000</td>\n",
              "      <td>0.255258</td>\n",
              "      <td>0.0</td>\n",
              "      <td>0.026667</td>\n",
              "      <td>0.102190</td>\n",
              "      <td>0.020408</td>\n",
              "    </tr>\n",
              "    <tr>\n",
              "      <th>4</th>\n",
              "      <td>0.766038</td>\n",
              "      <td>0.987431</td>\n",
              "      <td>0.857143</td>\n",
              "      <td>1.0</td>\n",
              "      <td>0.315789</td>\n",
              "      <td>0.446936</td>\n",
              "      <td>0.28125</td>\n",
              "      <td>1.0</td>\n",
              "      <td>0.0</td>\n",
              "      <td>0.564860</td>\n",
              "      <td>0.511230</td>\n",
              "      <td>1.0</td>\n",
              "      <td>0.044444</td>\n",
              "      <td>0.043796</td>\n",
              "      <td>0.183673</td>\n",
              "    </tr>\n",
              "    <tr>\n",
              "      <th>...</th>\n",
              "      <td>...</td>\n",
              "      <td>...</td>\n",
              "      <td>...</td>\n",
              "      <td>...</td>\n",
              "      <td>...</td>\n",
              "      <td>...</td>\n",
              "      <td>...</td>\n",
              "      <td>...</td>\n",
              "      <td>...</td>\n",
              "      <td>...</td>\n",
              "      <td>...</td>\n",
              "      <td>...</td>\n",
              "      <td>...</td>\n",
              "      <td>...</td>\n",
              "      <td>...</td>\n",
              "    </tr>\n",
              "    <tr>\n",
              "      <th>77333</th>\n",
              "      <td>0.988045</td>\n",
              "      <td>0.000000</td>\n",
              "      <td>0.428571</td>\n",
              "      <td>0.0</td>\n",
              "      <td>0.315789</td>\n",
              "      <td>0.375000</td>\n",
              "      <td>0.46875</td>\n",
              "      <td>1.0</td>\n",
              "      <td>1.0</td>\n",
              "      <td>0.043504</td>\n",
              "      <td>0.051337</td>\n",
              "      <td>0.0</td>\n",
              "      <td>0.088889</td>\n",
              "      <td>0.233577</td>\n",
              "      <td>0.000000</td>\n",
              "    </tr>\n",
              "    <tr>\n",
              "      <th>77334</th>\n",
              "      <td>0.027885</td>\n",
              "      <td>0.783391</td>\n",
              "      <td>0.714286</td>\n",
              "      <td>1.0</td>\n",
              "      <td>0.210526</td>\n",
              "      <td>0.437044</td>\n",
              "      <td>0.53125</td>\n",
              "      <td>1.0</td>\n",
              "      <td>1.0</td>\n",
              "      <td>1.000000</td>\n",
              "      <td>0.255258</td>\n",
              "      <td>0.0</td>\n",
              "      <td>1.000000</td>\n",
              "      <td>0.802920</td>\n",
              "      <td>1.000000</td>\n",
              "    </tr>\n",
              "    <tr>\n",
              "      <th>77335</th>\n",
              "      <td>0.691182</td>\n",
              "      <td>0.591734</td>\n",
              "      <td>0.142857</td>\n",
              "      <td>0.0</td>\n",
              "      <td>0.526316</td>\n",
              "      <td>0.625000</td>\n",
              "      <td>0.62500</td>\n",
              "      <td>1.0</td>\n",
              "      <td>1.0</td>\n",
              "      <td>0.546432</td>\n",
              "      <td>0.781462</td>\n",
              "      <td>0.0</td>\n",
              "      <td>0.275556</td>\n",
              "      <td>0.496350</td>\n",
              "      <td>0.040816</td>\n",
              "    </tr>\n",
              "    <tr>\n",
              "      <th>77336</th>\n",
              "      <td>0.027818</td>\n",
              "      <td>0.800482</td>\n",
              "      <td>0.714286</td>\n",
              "      <td>1.0</td>\n",
              "      <td>0.105263</td>\n",
              "      <td>0.664570</td>\n",
              "      <td>0.56250</td>\n",
              "      <td>1.0</td>\n",
              "      <td>1.0</td>\n",
              "      <td>1.000000</td>\n",
              "      <td>0.255258</td>\n",
              "      <td>0.0</td>\n",
              "      <td>1.000000</td>\n",
              "      <td>0.642336</td>\n",
              "      <td>1.000000</td>\n",
              "    </tr>\n",
              "    <tr>\n",
              "      <th>77337</th>\n",
              "      <td>0.530191</td>\n",
              "      <td>0.675720</td>\n",
              "      <td>0.857143</td>\n",
              "      <td>1.0</td>\n",
              "      <td>0.210526</td>\n",
              "      <td>0.288658</td>\n",
              "      <td>0.25000</td>\n",
              "      <td>1.0</td>\n",
              "      <td>1.0</td>\n",
              "      <td>0.285083</td>\n",
              "      <td>0.105526</td>\n",
              "      <td>1.0</td>\n",
              "      <td>0.275556</td>\n",
              "      <td>0.175182</td>\n",
              "      <td>0.551020</td>\n",
              "    </tr>\n",
              "  </tbody>\n",
              "</table>\n",
              "<p>77338 rows × 15 columns</p>\n",
              "</div>\n",
              "    <div class=\"colab-df-buttons\">\n",
              "\n",
              "  <div class=\"colab-df-container\">\n",
              "    <button class=\"colab-df-convert\" onclick=\"convertToInteractive('df-7c97a687-b8af-4272-a695-e437ed90c1f9')\"\n",
              "            title=\"Convert this dataframe to an interactive table.\"\n",
              "            style=\"display:none;\">\n",
              "\n",
              "  <svg xmlns=\"http://www.w3.org/2000/svg\" height=\"24px\" viewBox=\"0 -960 960 960\">\n",
              "    <path d=\"M120-120v-720h720v720H120Zm60-500h600v-160H180v160Zm220 220h160v-160H400v160Zm0 220h160v-160H400v160ZM180-400h160v-160H180v160Zm440 0h160v-160H620v160ZM180-180h160v-160H180v160Zm440 0h160v-160H620v160Z\"/>\n",
              "  </svg>\n",
              "    </button>\n",
              "\n",
              "  <style>\n",
              "    .colab-df-container {\n",
              "      display:flex;\n",
              "      gap: 12px;\n",
              "    }\n",
              "\n",
              "    .colab-df-convert {\n",
              "      background-color: #E8F0FE;\n",
              "      border: none;\n",
              "      border-radius: 50%;\n",
              "      cursor: pointer;\n",
              "      display: none;\n",
              "      fill: #1967D2;\n",
              "      height: 32px;\n",
              "      padding: 0 0 0 0;\n",
              "      width: 32px;\n",
              "    }\n",
              "\n",
              "    .colab-df-convert:hover {\n",
              "      background-color: #E2EBFA;\n",
              "      box-shadow: 0px 1px 2px rgba(60, 64, 67, 0.3), 0px 1px 3px 1px rgba(60, 64, 67, 0.15);\n",
              "      fill: #174EA6;\n",
              "    }\n",
              "\n",
              "    .colab-df-buttons div {\n",
              "      margin-bottom: 4px;\n",
              "    }\n",
              "\n",
              "    [theme=dark] .colab-df-convert {\n",
              "      background-color: #3B4455;\n",
              "      fill: #D2E3FC;\n",
              "    }\n",
              "\n",
              "    [theme=dark] .colab-df-convert:hover {\n",
              "      background-color: #434B5C;\n",
              "      box-shadow: 0px 1px 3px 1px rgba(0, 0, 0, 0.15);\n",
              "      filter: drop-shadow(0px 1px 2px rgba(0, 0, 0, 0.3));\n",
              "      fill: #FFFFFF;\n",
              "    }\n",
              "  </style>\n",
              "\n",
              "    <script>\n",
              "      const buttonEl =\n",
              "        document.querySelector('#df-7c97a687-b8af-4272-a695-e437ed90c1f9 button.colab-df-convert');\n",
              "      buttonEl.style.display =\n",
              "        google.colab.kernel.accessAllowed ? 'block' : 'none';\n",
              "\n",
              "      async function convertToInteractive(key) {\n",
              "        const element = document.querySelector('#df-7c97a687-b8af-4272-a695-e437ed90c1f9');\n",
              "        const dataTable =\n",
              "          await google.colab.kernel.invokeFunction('convertToInteractive',\n",
              "                                                    [key], {});\n",
              "        if (!dataTable) return;\n",
              "\n",
              "        const docLinkHtml = 'Like what you see? Visit the ' +\n",
              "          '<a target=\"_blank\" href=https://colab.research.google.com/notebooks/data_table.ipynb>data table notebook</a>'\n",
              "          + ' to learn more about interactive tables.';\n",
              "        element.innerHTML = '';\n",
              "        dataTable['output_type'] = 'display_data';\n",
              "        await google.colab.output.renderOutput(dataTable, element);\n",
              "        const docLink = document.createElement('div');\n",
              "        docLink.innerHTML = docLinkHtml;\n",
              "        element.appendChild(docLink);\n",
              "      }\n",
              "    </script>\n",
              "  </div>\n",
              "\n",
              "\n",
              "<div id=\"df-d31d661d-1a0d-4028-8578-8335ab45b2c9\">\n",
              "  <button class=\"colab-df-quickchart\" onclick=\"quickchart('df-d31d661d-1a0d-4028-8578-8335ab45b2c9')\"\n",
              "            title=\"Suggest charts\"\n",
              "            style=\"display:none;\">\n",
              "\n",
              "<svg xmlns=\"http://www.w3.org/2000/svg\" height=\"24px\"viewBox=\"0 0 24 24\"\n",
              "     width=\"24px\">\n",
              "    <g>\n",
              "        <path d=\"M19 3H5c-1.1 0-2 .9-2 2v14c0 1.1.9 2 2 2h14c1.1 0 2-.9 2-2V5c0-1.1-.9-2-2-2zM9 17H7v-7h2v7zm4 0h-2V7h2v10zm4 0h-2v-4h2v4z\"/>\n",
              "    </g>\n",
              "</svg>\n",
              "  </button>\n",
              "\n",
              "<style>\n",
              "  .colab-df-quickchart {\n",
              "      --bg-color: #E8F0FE;\n",
              "      --fill-color: #1967D2;\n",
              "      --hover-bg-color: #E2EBFA;\n",
              "      --hover-fill-color: #174EA6;\n",
              "      --disabled-fill-color: #AAA;\n",
              "      --disabled-bg-color: #DDD;\n",
              "  }\n",
              "\n",
              "  [theme=dark] .colab-df-quickchart {\n",
              "      --bg-color: #3B4455;\n",
              "      --fill-color: #D2E3FC;\n",
              "      --hover-bg-color: #434B5C;\n",
              "      --hover-fill-color: #FFFFFF;\n",
              "      --disabled-bg-color: #3B4455;\n",
              "      --disabled-fill-color: #666;\n",
              "  }\n",
              "\n",
              "  .colab-df-quickchart {\n",
              "    background-color: var(--bg-color);\n",
              "    border: none;\n",
              "    border-radius: 50%;\n",
              "    cursor: pointer;\n",
              "    display: none;\n",
              "    fill: var(--fill-color);\n",
              "    height: 32px;\n",
              "    padding: 0;\n",
              "    width: 32px;\n",
              "  }\n",
              "\n",
              "  .colab-df-quickchart:hover {\n",
              "    background-color: var(--hover-bg-color);\n",
              "    box-shadow: 0 1px 2px rgba(60, 64, 67, 0.3), 0 1px 3px 1px rgba(60, 64, 67, 0.15);\n",
              "    fill: var(--button-hover-fill-color);\n",
              "  }\n",
              "\n",
              "  .colab-df-quickchart-complete:disabled,\n",
              "  .colab-df-quickchart-complete:disabled:hover {\n",
              "    background-color: var(--disabled-bg-color);\n",
              "    fill: var(--disabled-fill-color);\n",
              "    box-shadow: none;\n",
              "  }\n",
              "\n",
              "  .colab-df-spinner {\n",
              "    border: 2px solid var(--fill-color);\n",
              "    border-color: transparent;\n",
              "    border-bottom-color: var(--fill-color);\n",
              "    animation:\n",
              "      spin 1s steps(1) infinite;\n",
              "  }\n",
              "\n",
              "  @keyframes spin {\n",
              "    0% {\n",
              "      border-color: transparent;\n",
              "      border-bottom-color: var(--fill-color);\n",
              "      border-left-color: var(--fill-color);\n",
              "    }\n",
              "    20% {\n",
              "      border-color: transparent;\n",
              "      border-left-color: var(--fill-color);\n",
              "      border-top-color: var(--fill-color);\n",
              "    }\n",
              "    30% {\n",
              "      border-color: transparent;\n",
              "      border-left-color: var(--fill-color);\n",
              "      border-top-color: var(--fill-color);\n",
              "      border-right-color: var(--fill-color);\n",
              "    }\n",
              "    40% {\n",
              "      border-color: transparent;\n",
              "      border-right-color: var(--fill-color);\n",
              "      border-top-color: var(--fill-color);\n",
              "    }\n",
              "    60% {\n",
              "      border-color: transparent;\n",
              "      border-right-color: var(--fill-color);\n",
              "    }\n",
              "    80% {\n",
              "      border-color: transparent;\n",
              "      border-right-color: var(--fill-color);\n",
              "      border-bottom-color: var(--fill-color);\n",
              "    }\n",
              "    90% {\n",
              "      border-color: transparent;\n",
              "      border-bottom-color: var(--fill-color);\n",
              "    }\n",
              "  }\n",
              "</style>\n",
              "\n",
              "  <script>\n",
              "    async function quickchart(key) {\n",
              "      const quickchartButtonEl =\n",
              "        document.querySelector('#' + key + ' button');\n",
              "      quickchartButtonEl.disabled = true;  // To prevent multiple clicks.\n",
              "      quickchartButtonEl.classList.add('colab-df-spinner');\n",
              "      try {\n",
              "        const charts = await google.colab.kernel.invokeFunction(\n",
              "            'suggestCharts', [key], {});\n",
              "      } catch (error) {\n",
              "        console.error('Error during call to suggestCharts:', error);\n",
              "      }\n",
              "      quickchartButtonEl.classList.remove('colab-df-spinner');\n",
              "      quickchartButtonEl.classList.add('colab-df-quickchart-complete');\n",
              "    }\n",
              "    (() => {\n",
              "      let quickchartButtonEl =\n",
              "        document.querySelector('#df-d31d661d-1a0d-4028-8578-8335ab45b2c9 button');\n",
              "      quickchartButtonEl.style.display =\n",
              "        google.colab.kernel.accessAllowed ? 'block' : 'none';\n",
              "    })();\n",
              "  </script>\n",
              "</div>\n",
              "    </div>\n",
              "  </div>\n"
            ],
            "text/plain": [
              "       latitude  longitude     stars  is_open  category_count  hours_count  \\\n",
              "0      0.734894   0.000000  0.857143      1.0        0.631579     0.585430   \n",
              "1      0.529855   0.674835  1.000000      1.0        0.315789     0.179841   \n",
              "2      0.290376   0.030250  1.000000      1.0        0.736842     0.090809   \n",
              "3      0.018963   0.784088  0.142857      1.0        0.210526     1.000000   \n",
              "4      0.766038   0.987431  0.857143      1.0        0.315789     0.446936   \n",
              "...         ...        ...       ...      ...             ...          ...   \n",
              "77333  0.988045   0.000000  0.428571      0.0        0.315789     0.375000   \n",
              "77334  0.027885   0.783391  0.714286      1.0        0.210526     0.437044   \n",
              "77335  0.691182   0.591734  0.142857      0.0        0.526316     0.625000   \n",
              "77336  0.027818   0.800482  0.714286      1.0        0.105263     0.664570   \n",
              "77337  0.530191   0.675720  0.857143      1.0        0.210526     0.288658   \n",
              "\n",
              "       attributes_count  business_accepts_credit_cards  business_parking  \\\n",
              "0               0.25000                            1.0               1.0   \n",
              "1               0.53125                            1.0               1.0   \n",
              "2               0.28125                            1.0               1.0   \n",
              "3               0.09375                            0.0               1.0   \n",
              "4               0.28125                            1.0               0.0   \n",
              "...                 ...                            ...               ...   \n",
              "77333           0.46875                            1.0               1.0   \n",
              "77334           0.53125                            1.0               1.0   \n",
              "77335           0.62500                            1.0               1.0   \n",
              "77336           0.56250                            1.0               1.0   \n",
              "77337           0.25000                            1.0               1.0   \n",
              "\n",
              "       population  average_salary  high_quality  review_count  \\\n",
              "0        0.102040        0.216756           1.0      0.000000   \n",
              "1        0.285083        0.105526           1.0      0.115556   \n",
              "2        0.299630        0.481996           1.0      0.177778   \n",
              "3        1.000000        0.255258           0.0      0.026667   \n",
              "4        0.564860        0.511230           1.0      0.044444   \n",
              "...           ...             ...           ...           ...   \n",
              "77333    0.043504        0.051337           0.0      0.088889   \n",
              "77334    1.000000        0.255258           0.0      1.000000   \n",
              "77335    0.546432        0.781462           0.0      0.275556   \n",
              "77336    1.000000        0.255258           0.0      1.000000   \n",
              "77337    0.285083        0.105526           1.0      0.275556   \n",
              "\n",
              "       positive_reviews  negative_reviews  \n",
              "0              0.014599          0.081633  \n",
              "1              0.000000          0.367347  \n",
              "2              0.029197          0.469388  \n",
              "3              0.102190          0.020408  \n",
              "4              0.043796          0.183673  \n",
              "...                 ...               ...  \n",
              "77333          0.233577          0.000000  \n",
              "77334          0.802920          1.000000  \n",
              "77335          0.496350          0.040816  \n",
              "77336          0.642336          1.000000  \n",
              "77337          0.175182          0.551020  \n",
              "\n",
              "[77338 rows x 15 columns]"
            ]
          },
          "execution_count": 220,
          "metadata": {},
          "output_type": "execute_result"
        },
        {
          "name": "stdout",
          "output_type": "stream",
          "text": [
            "time: 30.6 ms (started: 2023-12-27 08:43:46 +00:00)\n"
          ]
        }
      ],
      "source": [
        "normalized_df"
      ]
    },
    {
      "cell_type": "markdown",
      "metadata": {
        "id": "-RFdYBm6Cb61"
      },
      "source": [
        "We create a json here to use Grid Search, that is a method that helps us find the best combination of hyperparameters for machine learning models. Instead of having to test it manually, we can use this model to find them.\n",
        "\n",
        "\"/content/drive/MyDrive/colab/GridSearch_RFR.json\"\n",
        "\n",
        "https://drive.google.com/file/d/1MpeTP-mBSN2MFZgpSzOs83i4o1M15Rha/view?usp=drive_link"
      ]
    },
    {
      "cell_type": "code",
      "execution_count": null,
      "metadata": {
        "colab": {
          "base_uri": "https://localhost:8080/"
        },
        "id": "iAcjXW8FYTXk",
        "outputId": "6854402d-3923-4119-f2ac-ef073c4978fb"
      },
      "outputs": [
        {
          "name": "stdout",
          "output_type": "stream",
          "text": [
            "time: 520 ms (started: 2023-12-27 08:43:46 +00:00)\n"
          ]
        }
      ],
      "source": [
        "normalized_df.to_json(\"/content/drive/MyDrive/colab/yelp_academic_dataset_business_normalized.json\", orient='records', lines=True)"
      ]
    },
    {
      "cell_type": "markdown",
      "metadata": {
        "id": "7Sx1v2CxCq8D"
      },
      "source": [
        "Here we have the covariance matrix that shows us how they different features are correlated."
      ]
    },
    {
      "cell_type": "code",
      "execution_count": null,
      "metadata": {
        "colab": {
          "base_uri": "https://localhost:8080/",
          "height": 557
        },
        "id": "-JJKw_GWCFZa",
        "outputId": "8473bb9a-bc28-45c6-edce-10d49d246bf5"
      },
      "outputs": [
        {
          "data": {
            "text/html": [
              "\n",
              "  <div id=\"df-eaf241ab-ae65-4cdc-b4ae-199a7a1cbf82\" class=\"colab-df-container\">\n",
              "    <div>\n",
              "<style scoped>\n",
              "    .dataframe tbody tr th:only-of-type {\n",
              "        vertical-align: middle;\n",
              "    }\n",
              "\n",
              "    .dataframe tbody tr th {\n",
              "        vertical-align: top;\n",
              "    }\n",
              "\n",
              "    .dataframe thead th {\n",
              "        text-align: right;\n",
              "    }\n",
              "</style>\n",
              "<table border=\"1\" class=\"dataframe\">\n",
              "  <thead>\n",
              "    <tr style=\"text-align: right;\">\n",
              "      <th></th>\n",
              "      <th>latitude</th>\n",
              "      <th>longitude</th>\n",
              "      <th>stars</th>\n",
              "      <th>is_open</th>\n",
              "      <th>category_count</th>\n",
              "      <th>hours_count</th>\n",
              "      <th>attributes_count</th>\n",
              "      <th>business_accepts_credit_cards</th>\n",
              "      <th>business_parking</th>\n",
              "      <th>population</th>\n",
              "      <th>average_salary</th>\n",
              "      <th>high_quality</th>\n",
              "      <th>review_count</th>\n",
              "      <th>positive_reviews</th>\n",
              "      <th>negative_reviews</th>\n",
              "    </tr>\n",
              "  </thead>\n",
              "  <tbody>\n",
              "    <tr>\n",
              "      <th>latitude</th>\n",
              "      <td>2.401524e+01</td>\n",
              "      <td>7.243678e+00</td>\n",
              "      <td>-0.132802</td>\n",
              "      <td>-0.020227</td>\n",
              "      <td>-0.367210</td>\n",
              "      <td>1.306860</td>\n",
              "      <td>-0.382080</td>\n",
              "      <td>0.000637</td>\n",
              "      <td>0.020566</td>\n",
              "      <td>-1.702614e+07</td>\n",
              "      <td>5.964801e+03</td>\n",
              "      <td>-0.050893</td>\n",
              "      <td>-6.716412e+00</td>\n",
              "      <td>-1.797652e+00</td>\n",
              "      <td>-4.338056e+00</td>\n",
              "    </tr>\n",
              "    <tr>\n",
              "      <th>longitude</th>\n",
              "      <td>7.243678e+00</td>\n",
              "      <td>1.496272e+02</td>\n",
              "      <td>-0.474732</td>\n",
              "      <td>-0.058762</td>\n",
              "      <td>-1.180796</td>\n",
              "      <td>-0.406943</td>\n",
              "      <td>2.766776</td>\n",
              "      <td>-0.038105</td>\n",
              "      <td>0.042535</td>\n",
              "      <td>2.503277e+07</td>\n",
              "      <td>9.728074e+03</td>\n",
              "      <td>-0.220851</td>\n",
              "      <td>-2.488218e+01</td>\n",
              "      <td>-9.325812e+00</td>\n",
              "      <td>-1.425472e+01</td>\n",
              "    </tr>\n",
              "    <tr>\n",
              "      <th>stars</th>\n",
              "      <td>-1.328020e-01</td>\n",
              "      <td>-4.747324e-01</td>\n",
              "      <td>0.755471</td>\n",
              "      <td>0.008396</td>\n",
              "      <td>0.160743</td>\n",
              "      <td>-1.873103</td>\n",
              "      <td>-0.038966</td>\n",
              "      <td>-0.002588</td>\n",
              "      <td>0.012930</td>\n",
              "      <td>1.247535e+05</td>\n",
              "      <td>-6.268651e+01</td>\n",
              "      <td>0.255029</td>\n",
              "      <td>4.474630e+00</td>\n",
              "      <td>-1.985124e+00</td>\n",
              "      <td>6.028063e+00</td>\n",
              "    </tr>\n",
              "    <tr>\n",
              "      <th>is_open</th>\n",
              "      <td>-2.022734e-02</td>\n",
              "      <td>-5.876240e-02</td>\n",
              "      <td>0.008396</td>\n",
              "      <td>0.204076</td>\n",
              "      <td>0.136872</td>\n",
              "      <td>0.772323</td>\n",
              "      <td>-0.192724</td>\n",
              "      <td>-0.004309</td>\n",
              "      <td>-0.006279</td>\n",
              "      <td>-2.305485e+04</td>\n",
              "      <td>-2.551694e+00</td>\n",
              "      <td>0.013736</td>\n",
              "      <td>1.728106e+00</td>\n",
              "      <td>6.070338e-01</td>\n",
              "      <td>1.036598e+00</td>\n",
              "    </tr>\n",
              "    <tr>\n",
              "      <th>category_count</th>\n",
              "      <td>-3.672099e-01</td>\n",
              "      <td>-1.180796e+00</td>\n",
              "      <td>0.160743</td>\n",
              "      <td>0.136872</td>\n",
              "      <td>5.165917</td>\n",
              "      <td>-4.430995</td>\n",
              "      <td>1.045578</td>\n",
              "      <td>0.028598</td>\n",
              "      <td>-0.020528</td>\n",
              "      <td>1.380410e+05</td>\n",
              "      <td>-3.304587e+02</td>\n",
              "      <td>0.086247</td>\n",
              "      <td>9.298744e+00</td>\n",
              "      <td>3.745402e+00</td>\n",
              "      <td>4.987153e+00</td>\n",
              "    </tr>\n",
              "    <tr>\n",
              "      <th>hours_count</th>\n",
              "      <td>1.306860e+00</td>\n",
              "      <td>-4.069428e-01</td>\n",
              "      <td>-1.873103</td>\n",
              "      <td>0.772323</td>\n",
              "      <td>-4.430995</td>\n",
              "      <td>595.071220</td>\n",
              "      <td>-17.276426</td>\n",
              "      <td>-0.051980</td>\n",
              "      <td>0.153945</td>\n",
              "      <td>-7.344597e+05</td>\n",
              "      <td>2.539477e+03</td>\n",
              "      <td>-1.031739</td>\n",
              "      <td>-2.037500e+01</td>\n",
              "      <td>5.569131e+00</td>\n",
              "      <td>-1.981317e+01</td>\n",
              "    </tr>\n",
              "    <tr>\n",
              "      <th>attributes_count</th>\n",
              "      <td>-3.820804e-01</td>\n",
              "      <td>2.766776e+00</td>\n",
              "      <td>-0.038966</td>\n",
              "      <td>-0.192724</td>\n",
              "      <td>1.045578</td>\n",
              "      <td>-17.276426</td>\n",
              "      <td>53.165555</td>\n",
              "      <td>0.278768</td>\n",
              "      <td>0.573742</td>\n",
              "      <td>2.442464e+05</td>\n",
              "      <td>-6.728254e+02</td>\n",
              "      <td>-0.402262</td>\n",
              "      <td>1.830420e+02</td>\n",
              "      <td>1.105242e+02</td>\n",
              "      <td>6.717806e+01</td>\n",
              "    </tr>\n",
              "    <tr>\n",
              "      <th>business_accepts_credit_cards</th>\n",
              "      <td>6.372510e-04</td>\n",
              "      <td>-3.810456e-02</td>\n",
              "      <td>-0.002588</td>\n",
              "      <td>-0.004309</td>\n",
              "      <td>0.028598</td>\n",
              "      <td>-0.051980</td>\n",
              "      <td>0.278768</td>\n",
              "      <td>0.034654</td>\n",
              "      <td>-0.003513</td>\n",
              "      <td>-6.697695e+03</td>\n",
              "      <td>-1.547283e+00</td>\n",
              "      <td>-0.002879</td>\n",
              "      <td>6.880990e-01</td>\n",
              "      <td>4.629764e-01</td>\n",
              "      <td>2.060055e-01</td>\n",
              "    </tr>\n",
              "    <tr>\n",
              "      <th>business_parking</th>\n",
              "      <td>2.056572e-02</td>\n",
              "      <td>4.253477e-02</td>\n",
              "      <td>0.012930</td>\n",
              "      <td>-0.006279</td>\n",
              "      <td>-0.020528</td>\n",
              "      <td>0.153945</td>\n",
              "      <td>0.573742</td>\n",
              "      <td>-0.003513</td>\n",
              "      <td>0.088188</td>\n",
              "      <td>-2.201920e+04</td>\n",
              "      <td>-7.573493e+00</td>\n",
              "      <td>-0.004067</td>\n",
              "      <td>2.591760e+00</td>\n",
              "      <td>1.541478e+00</td>\n",
              "      <td>9.859089e-01</td>\n",
              "    </tr>\n",
              "    <tr>\n",
              "      <th>population</th>\n",
              "      <td>-1.702614e+07</td>\n",
              "      <td>2.503277e+07</td>\n",
              "      <td>124753.547353</td>\n",
              "      <td>-23054.852636</td>\n",
              "      <td>138040.979578</td>\n",
              "      <td>-734459.667242</td>\n",
              "      <td>244246.362497</td>\n",
              "      <td>-6697.694920</td>\n",
              "      <td>-22019.199198</td>\n",
              "      <td>4.181162e+13</td>\n",
              "      <td>5.862248e+09</td>\n",
              "      <td>31053.034946</td>\n",
              "      <td>2.111465e+06</td>\n",
              "      <td>-1.059699e+06</td>\n",
              "      <td>2.469381e+06</td>\n",
              "    </tr>\n",
              "    <tr>\n",
              "      <th>average_salary</th>\n",
              "      <td>5.964801e+03</td>\n",
              "      <td>9.728074e+03</td>\n",
              "      <td>-62.686506</td>\n",
              "      <td>-2.551694</td>\n",
              "      <td>-330.458687</td>\n",
              "      <td>2539.477103</td>\n",
              "      <td>-672.825379</td>\n",
              "      <td>-1.547283</td>\n",
              "      <td>-7.573493</td>\n",
              "      <td>5.862248e+09</td>\n",
              "      <td>1.447012e+07</td>\n",
              "      <td>-41.293929</td>\n",
              "      <td>-6.076635e+03</td>\n",
              "      <td>-3.109409e+03</td>\n",
              "      <td>-2.619876e+03</td>\n",
              "    </tr>\n",
              "    <tr>\n",
              "      <th>high_quality</th>\n",
              "      <td>-5.089317e-02</td>\n",
              "      <td>-2.208511e-01</td>\n",
              "      <td>0.255029</td>\n",
              "      <td>0.013736</td>\n",
              "      <td>0.086247</td>\n",
              "      <td>-1.031739</td>\n",
              "      <td>-0.402262</td>\n",
              "      <td>-0.002879</td>\n",
              "      <td>-0.004067</td>\n",
              "      <td>3.105303e+04</td>\n",
              "      <td>-4.129393e+01</td>\n",
              "      <td>0.184470</td>\n",
              "      <td>-4.198788e-01</td>\n",
              "      <td>-2.324334e+00</td>\n",
              "      <td>1.467348e+00</td>\n",
              "    </tr>\n",
              "    <tr>\n",
              "      <th>review_count</th>\n",
              "      <td>-6.716412e+00</td>\n",
              "      <td>-2.488218e+01</td>\n",
              "      <td>4.474630</td>\n",
              "      <td>1.728106</td>\n",
              "      <td>9.298744</td>\n",
              "      <td>-20.375004</td>\n",
              "      <td>183.042005</td>\n",
              "      <td>0.688099</td>\n",
              "      <td>2.591760</td>\n",
              "      <td>2.111465e+06</td>\n",
              "      <td>-6.076635e+03</td>\n",
              "      <td>-0.419879</td>\n",
              "      <td>1.553373e+03</td>\n",
              "      <td>8.589828e+02</td>\n",
              "      <td>6.103600e+02</td>\n",
              "    </tr>\n",
              "    <tr>\n",
              "      <th>positive_reviews</th>\n",
              "      <td>-1.797652e+00</td>\n",
              "      <td>-9.325812e+00</td>\n",
              "      <td>-1.985124</td>\n",
              "      <td>0.607034</td>\n",
              "      <td>3.745402</td>\n",
              "      <td>5.569131</td>\n",
              "      <td>110.524153</td>\n",
              "      <td>0.462976</td>\n",
              "      <td>1.541478</td>\n",
              "      <td>-1.059699e+06</td>\n",
              "      <td>-3.109409e+03</td>\n",
              "      <td>-2.324334</td>\n",
              "      <td>8.589828e+02</td>\n",
              "      <td>5.457522e+02</td>\n",
              "      <td>2.887539e+02</td>\n",
              "    </tr>\n",
              "    <tr>\n",
              "      <th>negative_reviews</th>\n",
              "      <td>-4.338056e+00</td>\n",
              "      <td>-1.425472e+01</td>\n",
              "      <td>6.028063</td>\n",
              "      <td>1.036598</td>\n",
              "      <td>4.987153</td>\n",
              "      <td>-19.813173</td>\n",
              "      <td>67.178057</td>\n",
              "      <td>0.206006</td>\n",
              "      <td>0.985909</td>\n",
              "      <td>2.469381e+06</td>\n",
              "      <td>-2.619876e+03</td>\n",
              "      <td>1.467348</td>\n",
              "      <td>6.103600e+02</td>\n",
              "      <td>2.887539e+02</td>\n",
              "      <td>2.950892e+02</td>\n",
              "    </tr>\n",
              "  </tbody>\n",
              "</table>\n",
              "</div>\n",
              "    <div class=\"colab-df-buttons\">\n",
              "\n",
              "  <div class=\"colab-df-container\">\n",
              "    <button class=\"colab-df-convert\" onclick=\"convertToInteractive('df-eaf241ab-ae65-4cdc-b4ae-199a7a1cbf82')\"\n",
              "            title=\"Convert this dataframe to an interactive table.\"\n",
              "            style=\"display:none;\">\n",
              "\n",
              "  <svg xmlns=\"http://www.w3.org/2000/svg\" height=\"24px\" viewBox=\"0 -960 960 960\">\n",
              "    <path d=\"M120-120v-720h720v720H120Zm60-500h600v-160H180v160Zm220 220h160v-160H400v160Zm0 220h160v-160H400v160ZM180-400h160v-160H180v160Zm440 0h160v-160H620v160ZM180-180h160v-160H180v160Zm440 0h160v-160H620v160Z\"/>\n",
              "  </svg>\n",
              "    </button>\n",
              "\n",
              "  <style>\n",
              "    .colab-df-container {\n",
              "      display:flex;\n",
              "      gap: 12px;\n",
              "    }\n",
              "\n",
              "    .colab-df-convert {\n",
              "      background-color: #E8F0FE;\n",
              "      border: none;\n",
              "      border-radius: 50%;\n",
              "      cursor: pointer;\n",
              "      display: none;\n",
              "      fill: #1967D2;\n",
              "      height: 32px;\n",
              "      padding: 0 0 0 0;\n",
              "      width: 32px;\n",
              "    }\n",
              "\n",
              "    .colab-df-convert:hover {\n",
              "      background-color: #E2EBFA;\n",
              "      box-shadow: 0px 1px 2px rgba(60, 64, 67, 0.3), 0px 1px 3px 1px rgba(60, 64, 67, 0.15);\n",
              "      fill: #174EA6;\n",
              "    }\n",
              "\n",
              "    .colab-df-buttons div {\n",
              "      margin-bottom: 4px;\n",
              "    }\n",
              "\n",
              "    [theme=dark] .colab-df-convert {\n",
              "      background-color: #3B4455;\n",
              "      fill: #D2E3FC;\n",
              "    }\n",
              "\n",
              "    [theme=dark] .colab-df-convert:hover {\n",
              "      background-color: #434B5C;\n",
              "      box-shadow: 0px 1px 3px 1px rgba(0, 0, 0, 0.15);\n",
              "      filter: drop-shadow(0px 1px 2px rgba(0, 0, 0, 0.3));\n",
              "      fill: #FFFFFF;\n",
              "    }\n",
              "  </style>\n",
              "\n",
              "    <script>\n",
              "      const buttonEl =\n",
              "        document.querySelector('#df-eaf241ab-ae65-4cdc-b4ae-199a7a1cbf82 button.colab-df-convert');\n",
              "      buttonEl.style.display =\n",
              "        google.colab.kernel.accessAllowed ? 'block' : 'none';\n",
              "\n",
              "      async function convertToInteractive(key) {\n",
              "        const element = document.querySelector('#df-eaf241ab-ae65-4cdc-b4ae-199a7a1cbf82');\n",
              "        const dataTable =\n",
              "          await google.colab.kernel.invokeFunction('convertToInteractive',\n",
              "                                                    [key], {});\n",
              "        if (!dataTable) return;\n",
              "\n",
              "        const docLinkHtml = 'Like what you see? Visit the ' +\n",
              "          '<a target=\"_blank\" href=https://colab.research.google.com/notebooks/data_table.ipynb>data table notebook</a>'\n",
              "          + ' to learn more about interactive tables.';\n",
              "        element.innerHTML = '';\n",
              "        dataTable['output_type'] = 'display_data';\n",
              "        await google.colab.output.renderOutput(dataTable, element);\n",
              "        const docLink = document.createElement('div');\n",
              "        docLink.innerHTML = docLinkHtml;\n",
              "        element.appendChild(docLink);\n",
              "      }\n",
              "    </script>\n",
              "  </div>\n",
              "\n",
              "\n",
              "<div id=\"df-54c9d2e9-3b45-4365-ba15-93142b2253f0\">\n",
              "  <button class=\"colab-df-quickchart\" onclick=\"quickchart('df-54c9d2e9-3b45-4365-ba15-93142b2253f0')\"\n",
              "            title=\"Suggest charts\"\n",
              "            style=\"display:none;\">\n",
              "\n",
              "<svg xmlns=\"http://www.w3.org/2000/svg\" height=\"24px\"viewBox=\"0 0 24 24\"\n",
              "     width=\"24px\">\n",
              "    <g>\n",
              "        <path d=\"M19 3H5c-1.1 0-2 .9-2 2v14c0 1.1.9 2 2 2h14c1.1 0 2-.9 2-2V5c0-1.1-.9-2-2-2zM9 17H7v-7h2v7zm4 0h-2V7h2v10zm4 0h-2v-4h2v4z\"/>\n",
              "    </g>\n",
              "</svg>\n",
              "  </button>\n",
              "\n",
              "<style>\n",
              "  .colab-df-quickchart {\n",
              "      --bg-color: #E8F0FE;\n",
              "      --fill-color: #1967D2;\n",
              "      --hover-bg-color: #E2EBFA;\n",
              "      --hover-fill-color: #174EA6;\n",
              "      --disabled-fill-color: #AAA;\n",
              "      --disabled-bg-color: #DDD;\n",
              "  }\n",
              "\n",
              "  [theme=dark] .colab-df-quickchart {\n",
              "      --bg-color: #3B4455;\n",
              "      --fill-color: #D2E3FC;\n",
              "      --hover-bg-color: #434B5C;\n",
              "      --hover-fill-color: #FFFFFF;\n",
              "      --disabled-bg-color: #3B4455;\n",
              "      --disabled-fill-color: #666;\n",
              "  }\n",
              "\n",
              "  .colab-df-quickchart {\n",
              "    background-color: var(--bg-color);\n",
              "    border: none;\n",
              "    border-radius: 50%;\n",
              "    cursor: pointer;\n",
              "    display: none;\n",
              "    fill: var(--fill-color);\n",
              "    height: 32px;\n",
              "    padding: 0;\n",
              "    width: 32px;\n",
              "  }\n",
              "\n",
              "  .colab-df-quickchart:hover {\n",
              "    background-color: var(--hover-bg-color);\n",
              "    box-shadow: 0 1px 2px rgba(60, 64, 67, 0.3), 0 1px 3px 1px rgba(60, 64, 67, 0.15);\n",
              "    fill: var(--button-hover-fill-color);\n",
              "  }\n",
              "\n",
              "  .colab-df-quickchart-complete:disabled,\n",
              "  .colab-df-quickchart-complete:disabled:hover {\n",
              "    background-color: var(--disabled-bg-color);\n",
              "    fill: var(--disabled-fill-color);\n",
              "    box-shadow: none;\n",
              "  }\n",
              "\n",
              "  .colab-df-spinner {\n",
              "    border: 2px solid var(--fill-color);\n",
              "    border-color: transparent;\n",
              "    border-bottom-color: var(--fill-color);\n",
              "    animation:\n",
              "      spin 1s steps(1) infinite;\n",
              "  }\n",
              "\n",
              "  @keyframes spin {\n",
              "    0% {\n",
              "      border-color: transparent;\n",
              "      border-bottom-color: var(--fill-color);\n",
              "      border-left-color: var(--fill-color);\n",
              "    }\n",
              "    20% {\n",
              "      border-color: transparent;\n",
              "      border-left-color: var(--fill-color);\n",
              "      border-top-color: var(--fill-color);\n",
              "    }\n",
              "    30% {\n",
              "      border-color: transparent;\n",
              "      border-left-color: var(--fill-color);\n",
              "      border-top-color: var(--fill-color);\n",
              "      border-right-color: var(--fill-color);\n",
              "    }\n",
              "    40% {\n",
              "      border-color: transparent;\n",
              "      border-right-color: var(--fill-color);\n",
              "      border-top-color: var(--fill-color);\n",
              "    }\n",
              "    60% {\n",
              "      border-color: transparent;\n",
              "      border-right-color: var(--fill-color);\n",
              "    }\n",
              "    80% {\n",
              "      border-color: transparent;\n",
              "      border-right-color: var(--fill-color);\n",
              "      border-bottom-color: var(--fill-color);\n",
              "    }\n",
              "    90% {\n",
              "      border-color: transparent;\n",
              "      border-bottom-color: var(--fill-color);\n",
              "    }\n",
              "  }\n",
              "</style>\n",
              "\n",
              "  <script>\n",
              "    async function quickchart(key) {\n",
              "      const quickchartButtonEl =\n",
              "        document.querySelector('#' + key + ' button');\n",
              "      quickchartButtonEl.disabled = true;  // To prevent multiple clicks.\n",
              "      quickchartButtonEl.classList.add('colab-df-spinner');\n",
              "      try {\n",
              "        const charts = await google.colab.kernel.invokeFunction(\n",
              "            'suggestCharts', [key], {});\n",
              "      } catch (error) {\n",
              "        console.error('Error during call to suggestCharts:', error);\n",
              "      }\n",
              "      quickchartButtonEl.classList.remove('colab-df-spinner');\n",
              "      quickchartButtonEl.classList.add('colab-df-quickchart-complete');\n",
              "    }\n",
              "    (() => {\n",
              "      let quickchartButtonEl =\n",
              "        document.querySelector('#df-54c9d2e9-3b45-4365-ba15-93142b2253f0 button');\n",
              "      quickchartButtonEl.style.display =\n",
              "        google.colab.kernel.accessAllowed ? 'block' : 'none';\n",
              "    })();\n",
              "  </script>\n",
              "</div>\n",
              "    </div>\n",
              "  </div>\n"
            ],
            "text/plain": [
              "                                   latitude     longitude          stars  \\\n",
              "latitude                       2.401524e+01  7.243678e+00      -0.132802   \n",
              "longitude                      7.243678e+00  1.496272e+02      -0.474732   \n",
              "stars                         -1.328020e-01 -4.747324e-01       0.755471   \n",
              "is_open                       -2.022734e-02 -5.876240e-02       0.008396   \n",
              "category_count                -3.672099e-01 -1.180796e+00       0.160743   \n",
              "hours_count                    1.306860e+00 -4.069428e-01      -1.873103   \n",
              "attributes_count              -3.820804e-01  2.766776e+00      -0.038966   \n",
              "business_accepts_credit_cards  6.372510e-04 -3.810456e-02      -0.002588   \n",
              "business_parking               2.056572e-02  4.253477e-02       0.012930   \n",
              "population                    -1.702614e+07  2.503277e+07  124753.547353   \n",
              "average_salary                 5.964801e+03  9.728074e+03     -62.686506   \n",
              "high_quality                  -5.089317e-02 -2.208511e-01       0.255029   \n",
              "review_count                  -6.716412e+00 -2.488218e+01       4.474630   \n",
              "positive_reviews              -1.797652e+00 -9.325812e+00      -1.985124   \n",
              "negative_reviews              -4.338056e+00 -1.425472e+01       6.028063   \n",
              "\n",
              "                                    is_open  category_count    hours_count  \\\n",
              "latitude                          -0.020227       -0.367210       1.306860   \n",
              "longitude                         -0.058762       -1.180796      -0.406943   \n",
              "stars                              0.008396        0.160743      -1.873103   \n",
              "is_open                            0.204076        0.136872       0.772323   \n",
              "category_count                     0.136872        5.165917      -4.430995   \n",
              "hours_count                        0.772323       -4.430995     595.071220   \n",
              "attributes_count                  -0.192724        1.045578     -17.276426   \n",
              "business_accepts_credit_cards     -0.004309        0.028598      -0.051980   \n",
              "business_parking                  -0.006279       -0.020528       0.153945   \n",
              "population                    -23054.852636   138040.979578 -734459.667242   \n",
              "average_salary                    -2.551694     -330.458687    2539.477103   \n",
              "high_quality                       0.013736        0.086247      -1.031739   \n",
              "review_count                       1.728106        9.298744     -20.375004   \n",
              "positive_reviews                   0.607034        3.745402       5.569131   \n",
              "negative_reviews                   1.036598        4.987153     -19.813173   \n",
              "\n",
              "                               attributes_count  \\\n",
              "latitude                              -0.382080   \n",
              "longitude                              2.766776   \n",
              "stars                                 -0.038966   \n",
              "is_open                               -0.192724   \n",
              "category_count                         1.045578   \n",
              "hours_count                          -17.276426   \n",
              "attributes_count                      53.165555   \n",
              "business_accepts_credit_cards          0.278768   \n",
              "business_parking                       0.573742   \n",
              "population                        244246.362497   \n",
              "average_salary                      -672.825379   \n",
              "high_quality                          -0.402262   \n",
              "review_count                         183.042005   \n",
              "positive_reviews                     110.524153   \n",
              "negative_reviews                      67.178057   \n",
              "\n",
              "                               business_accepts_credit_cards  \\\n",
              "latitude                                            0.000637   \n",
              "longitude                                          -0.038105   \n",
              "stars                                              -0.002588   \n",
              "is_open                                            -0.004309   \n",
              "category_count                                      0.028598   \n",
              "hours_count                                        -0.051980   \n",
              "attributes_count                                    0.278768   \n",
              "business_accepts_credit_cards                       0.034654   \n",
              "business_parking                                   -0.003513   \n",
              "population                                      -6697.694920   \n",
              "average_salary                                     -1.547283   \n",
              "high_quality                                       -0.002879   \n",
              "review_count                                        0.688099   \n",
              "positive_reviews                                    0.462976   \n",
              "negative_reviews                                    0.206006   \n",
              "\n",
              "                               business_parking    population  average_salary  \\\n",
              "latitude                               0.020566 -1.702614e+07    5.964801e+03   \n",
              "longitude                              0.042535  2.503277e+07    9.728074e+03   \n",
              "stars                                  0.012930  1.247535e+05   -6.268651e+01   \n",
              "is_open                               -0.006279 -2.305485e+04   -2.551694e+00   \n",
              "category_count                        -0.020528  1.380410e+05   -3.304587e+02   \n",
              "hours_count                            0.153945 -7.344597e+05    2.539477e+03   \n",
              "attributes_count                       0.573742  2.442464e+05   -6.728254e+02   \n",
              "business_accepts_credit_cards         -0.003513 -6.697695e+03   -1.547283e+00   \n",
              "business_parking                       0.088188 -2.201920e+04   -7.573493e+00   \n",
              "population                        -22019.199198  4.181162e+13    5.862248e+09   \n",
              "average_salary                        -7.573493  5.862248e+09    1.447012e+07   \n",
              "high_quality                          -0.004067  3.105303e+04   -4.129393e+01   \n",
              "review_count                           2.591760  2.111465e+06   -6.076635e+03   \n",
              "positive_reviews                       1.541478 -1.059699e+06   -3.109409e+03   \n",
              "negative_reviews                       0.985909  2.469381e+06   -2.619876e+03   \n",
              "\n",
              "                               high_quality  review_count  positive_reviews  \\\n",
              "latitude                          -0.050893 -6.716412e+00     -1.797652e+00   \n",
              "longitude                         -0.220851 -2.488218e+01     -9.325812e+00   \n",
              "stars                              0.255029  4.474630e+00     -1.985124e+00   \n",
              "is_open                            0.013736  1.728106e+00      6.070338e-01   \n",
              "category_count                     0.086247  9.298744e+00      3.745402e+00   \n",
              "hours_count                       -1.031739 -2.037500e+01      5.569131e+00   \n",
              "attributes_count                  -0.402262  1.830420e+02      1.105242e+02   \n",
              "business_accepts_credit_cards     -0.002879  6.880990e-01      4.629764e-01   \n",
              "business_parking                  -0.004067  2.591760e+00      1.541478e+00   \n",
              "population                     31053.034946  2.111465e+06     -1.059699e+06   \n",
              "average_salary                   -41.293929 -6.076635e+03     -3.109409e+03   \n",
              "high_quality                       0.184470 -4.198788e-01     -2.324334e+00   \n",
              "review_count                      -0.419879  1.553373e+03      8.589828e+02   \n",
              "positive_reviews                  -2.324334  8.589828e+02      5.457522e+02   \n",
              "negative_reviews                   1.467348  6.103600e+02      2.887539e+02   \n",
              "\n",
              "                               negative_reviews  \n",
              "latitude                          -4.338056e+00  \n",
              "longitude                         -1.425472e+01  \n",
              "stars                              6.028063e+00  \n",
              "is_open                            1.036598e+00  \n",
              "category_count                     4.987153e+00  \n",
              "hours_count                       -1.981317e+01  \n",
              "attributes_count                   6.717806e+01  \n",
              "business_accepts_credit_cards      2.060055e-01  \n",
              "business_parking                   9.859089e-01  \n",
              "population                         2.469381e+06  \n",
              "average_salary                    -2.619876e+03  \n",
              "high_quality                       1.467348e+00  \n",
              "review_count                       6.103600e+02  \n",
              "positive_reviews                   2.887539e+02  \n",
              "negative_reviews                   2.950892e+02  "
            ]
          },
          "execution_count": 222,
          "metadata": {},
          "output_type": "execute_result"
        },
        {
          "name": "stdout",
          "output_type": "stream",
          "text": [
            "time: 52.8 ms (started: 2023-12-27 08:43:47 +00:00)\n"
          ]
        }
      ],
      "source": [
        "df_continuous.cov(numeric_only=True)"
      ]
    },
    {
      "cell_type": "markdown",
      "metadata": {
        "id": "-YXLOFhLjZXG"
      },
      "source": [
        "<a name=\"ml\"></a>\n",
        "## Machine Learning Model"
      ]
    },
    {
      "cell_type": "markdown",
      "metadata": {
        "id": "bWe4kOhOC4i2"
      },
      "source": [
        "In order to avoid overfitting, we decided to delete some columns that we think that are not important for our model."
      ]
    },
    {
      "cell_type": "code",
      "execution_count": null,
      "metadata": {
        "colab": {
          "base_uri": "https://localhost:8080/"
        },
        "id": "Bun9l_JE6BCP",
        "outputId": "dfc54634-42ff-417a-eb14-6320532b41db"
      },
      "outputs": [
        {
          "name": "stdout",
          "output_type": "stream",
          "text": [
            "time: 5.13 ms (started: 2023-12-27 08:43:47 +00:00)\n"
          ]
        }
      ],
      "source": [
        "df_testing = normalized_df.drop([\"longitude\",\"latitude\",\"high_quality\"], axis=1)"
      ]
    },
    {
      "cell_type": "markdown",
      "metadata": {
        "id": "eMfvq3RGDG65"
      },
      "source": [
        "We split the data, to perform our model. We want to predict the stars, so X will be the data without this column and the y the stars column."
      ]
    },
    {
      "cell_type": "code",
      "execution_count": null,
      "metadata": {
        "colab": {
          "base_uri": "https://localhost:8080/"
        },
        "id": "2B9BquWsXIAb",
        "outputId": "34d9a507-fd2d-458d-ffd4-e6fa3d14a158"
      },
      "outputs": [
        {
          "name": "stdout",
          "output_type": "stream",
          "text": [
            "time: 29.7 ms (started: 2023-12-27 08:43:47 +00:00)\n"
          ]
        }
      ],
      "source": [
        "X = df_testing.drop([\"stars\"], axis=1)\n",
        "y =  df_testing[\"stars\"]\n",
        "\n",
        "X_train, X_test, y_train, y_test = train_test_split(\n",
        "    X, y, test_size=0.3, random_state=101)"
      ]
    },
    {
      "cell_type": "markdown",
      "metadata": {
        "id": "l4vGKqmfDZL7"
      },
      "source": [
        "We saw the type of every training split, because there are specific models that we can use for them."
      ]
    },
    {
      "cell_type": "code",
      "execution_count": null,
      "metadata": {
        "colab": {
          "base_uri": "https://localhost:8080/",
          "height": 53
        },
        "id": "ayr3EWvn2BAb",
        "outputId": "3fc5d337-620d-41ee-9198-6c687ab00276"
      },
      "outputs": [
        {
          "data": {
            "application/vnd.google.colaboratory.intrinsic+json": {
              "type": "string"
            },
            "text/plain": [
              "'continuous-multioutput'"
            ]
          },
          "execution_count": 225,
          "metadata": {},
          "output_type": "execute_result"
        },
        {
          "name": "stdout",
          "output_type": "stream",
          "text": [
            "time: 41.3 ms (started: 2023-12-27 08:43:47 +00:00)\n"
          ]
        }
      ],
      "source": [
        "type_of_target(X_train)"
      ]
    },
    {
      "cell_type": "code",
      "execution_count": null,
      "metadata": {
        "colab": {
          "base_uri": "https://localhost:8080/",
          "height": 53
        },
        "id": "Ne29k6lw1zvM",
        "outputId": "d31977cd-0314-4653-d684-a32cb8ed4421"
      },
      "outputs": [
        {
          "data": {
            "application/vnd.google.colaboratory.intrinsic+json": {
              "type": "string"
            },
            "text/plain": [
              "'continuous'"
            ]
          },
          "execution_count": 226,
          "metadata": {},
          "output_type": "execute_result"
        },
        {
          "name": "stdout",
          "output_type": "stream",
          "text": [
            "time: 7.56 ms (started: 2023-12-27 08:43:47 +00:00)\n"
          ]
        }
      ],
      "source": [
        "type_of_target(y_train)"
      ]
    },
    {
      "cell_type": "code",
      "execution_count": null,
      "metadata": {
        "colab": {
          "base_uri": "https://localhost:8080/",
          "height": 461
        },
        "id": "lTDQvkQ4oJJN",
        "outputId": "dcc6ae42-2964-4176-a8c8-b4615a445a2b"
      },
      "outputs": [
        {
          "data": {
            "text/html": [
              "\n",
              "  <div id=\"df-04fc0190-3954-47eb-b85e-b7afa8fa2387\" class=\"colab-df-container\">\n",
              "    <div>\n",
              "<style scoped>\n",
              "    .dataframe tbody tr th:only-of-type {\n",
              "        vertical-align: middle;\n",
              "    }\n",
              "\n",
              "    .dataframe tbody tr th {\n",
              "        vertical-align: top;\n",
              "    }\n",
              "\n",
              "    .dataframe thead th {\n",
              "        text-align: right;\n",
              "    }\n",
              "</style>\n",
              "<table border=\"1\" class=\"dataframe\">\n",
              "  <thead>\n",
              "    <tr style=\"text-align: right;\">\n",
              "      <th></th>\n",
              "      <th>is_open</th>\n",
              "      <th>category_count</th>\n",
              "      <th>hours_count</th>\n",
              "      <th>attributes_count</th>\n",
              "      <th>business_accepts_credit_cards</th>\n",
              "      <th>business_parking</th>\n",
              "      <th>population</th>\n",
              "      <th>average_salary</th>\n",
              "      <th>review_count</th>\n",
              "      <th>positive_reviews</th>\n",
              "      <th>negative_reviews</th>\n",
              "    </tr>\n",
              "  </thead>\n",
              "  <tbody>\n",
              "    <tr>\n",
              "      <th>33161</th>\n",
              "      <td>1.0</td>\n",
              "      <td>0.315789</td>\n",
              "      <td>0.348012</td>\n",
              "      <td>0.21875</td>\n",
              "      <td>1.0</td>\n",
              "      <td>1.0</td>\n",
              "      <td>0.043504</td>\n",
              "      <td>0.051337</td>\n",
              "      <td>0.106667</td>\n",
              "      <td>0.087591</td>\n",
              "      <td>0.224490</td>\n",
              "    </tr>\n",
              "    <tr>\n",
              "      <th>58016</th>\n",
              "      <td>0.0</td>\n",
              "      <td>0.210526</td>\n",
              "      <td>0.375000</td>\n",
              "      <td>0.37500</td>\n",
              "      <td>1.0</td>\n",
              "      <td>1.0</td>\n",
              "      <td>0.564860</td>\n",
              "      <td>0.511230</td>\n",
              "      <td>0.080000</td>\n",
              "      <td>0.175182</td>\n",
              "      <td>0.061224</td>\n",
              "    </tr>\n",
              "    <tr>\n",
              "      <th>18770</th>\n",
              "      <td>1.0</td>\n",
              "      <td>0.105263</td>\n",
              "      <td>0.288658</td>\n",
              "      <td>0.06250</td>\n",
              "      <td>1.0</td>\n",
              "      <td>0.0</td>\n",
              "      <td>1.000000</td>\n",
              "      <td>0.255258</td>\n",
              "      <td>0.000000</td>\n",
              "      <td>0.014599</td>\n",
              "      <td>0.081633</td>\n",
              "    </tr>\n",
              "    <tr>\n",
              "      <th>51137</th>\n",
              "      <td>0.0</td>\n",
              "      <td>0.210526</td>\n",
              "      <td>0.669516</td>\n",
              "      <td>0.50000</td>\n",
              "      <td>1.0</td>\n",
              "      <td>1.0</td>\n",
              "      <td>0.299630</td>\n",
              "      <td>0.481996</td>\n",
              "      <td>0.853333</td>\n",
              "      <td>1.000000</td>\n",
              "      <td>0.653061</td>\n",
              "    </tr>\n",
              "    <tr>\n",
              "      <th>68600</th>\n",
              "      <td>1.0</td>\n",
              "      <td>0.631579</td>\n",
              "      <td>0.862418</td>\n",
              "      <td>0.09375</td>\n",
              "      <td>1.0</td>\n",
              "      <td>1.0</td>\n",
              "      <td>0.102040</td>\n",
              "      <td>0.216756</td>\n",
              "      <td>0.124444</td>\n",
              "      <td>0.204380</td>\n",
              "      <td>0.102041</td>\n",
              "    </tr>\n",
              "    <tr>\n",
              "      <th>...</th>\n",
              "      <td>...</td>\n",
              "      <td>...</td>\n",
              "      <td>...</td>\n",
              "      <td>...</td>\n",
              "      <td>...</td>\n",
              "      <td>...</td>\n",
              "      <td>...</td>\n",
              "      <td>...</td>\n",
              "      <td>...</td>\n",
              "      <td>...</td>\n",
              "      <td>...</td>\n",
              "    </tr>\n",
              "    <tr>\n",
              "      <th>55293</th>\n",
              "      <td>0.0</td>\n",
              "      <td>0.631579</td>\n",
              "      <td>0.357905</td>\n",
              "      <td>0.56250</td>\n",
              "      <td>1.0</td>\n",
              "      <td>1.0</td>\n",
              "      <td>0.243812</td>\n",
              "      <td>0.260250</td>\n",
              "      <td>0.577778</td>\n",
              "      <td>0.248175</td>\n",
              "      <td>1.000000</td>\n",
              "    </tr>\n",
              "    <tr>\n",
              "      <th>49751</th>\n",
              "      <td>0.0</td>\n",
              "      <td>1.000000</td>\n",
              "      <td>0.375000</td>\n",
              "      <td>0.37500</td>\n",
              "      <td>1.0</td>\n",
              "      <td>1.0</td>\n",
              "      <td>0.389532</td>\n",
              "      <td>1.000000</td>\n",
              "      <td>0.053333</td>\n",
              "      <td>0.131387</td>\n",
              "      <td>0.040816</td>\n",
              "    </tr>\n",
              "    <tr>\n",
              "      <th>5695</th>\n",
              "      <td>1.0</td>\n",
              "      <td>0.736842</td>\n",
              "      <td>0.375000</td>\n",
              "      <td>0.12500</td>\n",
              "      <td>1.0</td>\n",
              "      <td>1.0</td>\n",
              "      <td>0.102040</td>\n",
              "      <td>0.216756</td>\n",
              "      <td>0.044444</td>\n",
              "      <td>0.000000</td>\n",
              "      <td>0.204082</td>\n",
              "    </tr>\n",
              "    <tr>\n",
              "      <th>73542</th>\n",
              "      <td>0.0</td>\n",
              "      <td>0.105263</td>\n",
              "      <td>0.375000</td>\n",
              "      <td>0.40625</td>\n",
              "      <td>1.0</td>\n",
              "      <td>1.0</td>\n",
              "      <td>1.000000</td>\n",
              "      <td>0.255258</td>\n",
              "      <td>0.017778</td>\n",
              "      <td>0.072993</td>\n",
              "      <td>0.040816</td>\n",
              "    </tr>\n",
              "    <tr>\n",
              "      <th>45919</th>\n",
              "      <td>1.0</td>\n",
              "      <td>0.526316</td>\n",
              "      <td>0.684355</td>\n",
              "      <td>0.00000</td>\n",
              "      <td>1.0</td>\n",
              "      <td>0.0</td>\n",
              "      <td>1.000000</td>\n",
              "      <td>0.255258</td>\n",
              "      <td>0.008889</td>\n",
              "      <td>0.072993</td>\n",
              "      <td>0.020408</td>\n",
              "    </tr>\n",
              "  </tbody>\n",
              "</table>\n",
              "<p>54136 rows × 11 columns</p>\n",
              "</div>\n",
              "    <div class=\"colab-df-buttons\">\n",
              "\n",
              "  <div class=\"colab-df-container\">\n",
              "    <button class=\"colab-df-convert\" onclick=\"convertToInteractive('df-04fc0190-3954-47eb-b85e-b7afa8fa2387')\"\n",
              "            title=\"Convert this dataframe to an interactive table.\"\n",
              "            style=\"display:none;\">\n",
              "\n",
              "  <svg xmlns=\"http://www.w3.org/2000/svg\" height=\"24px\" viewBox=\"0 -960 960 960\">\n",
              "    <path d=\"M120-120v-720h720v720H120Zm60-500h600v-160H180v160Zm220 220h160v-160H400v160Zm0 220h160v-160H400v160ZM180-400h160v-160H180v160Zm440 0h160v-160H620v160ZM180-180h160v-160H180v160Zm440 0h160v-160H620v160Z\"/>\n",
              "  </svg>\n",
              "    </button>\n",
              "\n",
              "  <style>\n",
              "    .colab-df-container {\n",
              "      display:flex;\n",
              "      gap: 12px;\n",
              "    }\n",
              "\n",
              "    .colab-df-convert {\n",
              "      background-color: #E8F0FE;\n",
              "      border: none;\n",
              "      border-radius: 50%;\n",
              "      cursor: pointer;\n",
              "      display: none;\n",
              "      fill: #1967D2;\n",
              "      height: 32px;\n",
              "      padding: 0 0 0 0;\n",
              "      width: 32px;\n",
              "    }\n",
              "\n",
              "    .colab-df-convert:hover {\n",
              "      background-color: #E2EBFA;\n",
              "      box-shadow: 0px 1px 2px rgba(60, 64, 67, 0.3), 0px 1px 3px 1px rgba(60, 64, 67, 0.15);\n",
              "      fill: #174EA6;\n",
              "    }\n",
              "\n",
              "    .colab-df-buttons div {\n",
              "      margin-bottom: 4px;\n",
              "    }\n",
              "\n",
              "    [theme=dark] .colab-df-convert {\n",
              "      background-color: #3B4455;\n",
              "      fill: #D2E3FC;\n",
              "    }\n",
              "\n",
              "    [theme=dark] .colab-df-convert:hover {\n",
              "      background-color: #434B5C;\n",
              "      box-shadow: 0px 1px 3px 1px rgba(0, 0, 0, 0.15);\n",
              "      filter: drop-shadow(0px 1px 2px rgba(0, 0, 0, 0.3));\n",
              "      fill: #FFFFFF;\n",
              "    }\n",
              "  </style>\n",
              "\n",
              "    <script>\n",
              "      const buttonEl =\n",
              "        document.querySelector('#df-04fc0190-3954-47eb-b85e-b7afa8fa2387 button.colab-df-convert');\n",
              "      buttonEl.style.display =\n",
              "        google.colab.kernel.accessAllowed ? 'block' : 'none';\n",
              "\n",
              "      async function convertToInteractive(key) {\n",
              "        const element = document.querySelector('#df-04fc0190-3954-47eb-b85e-b7afa8fa2387');\n",
              "        const dataTable =\n",
              "          await google.colab.kernel.invokeFunction('convertToInteractive',\n",
              "                                                    [key], {});\n",
              "        if (!dataTable) return;\n",
              "\n",
              "        const docLinkHtml = 'Like what you see? Visit the ' +\n",
              "          '<a target=\"_blank\" href=https://colab.research.google.com/notebooks/data_table.ipynb>data table notebook</a>'\n",
              "          + ' to learn more about interactive tables.';\n",
              "        element.innerHTML = '';\n",
              "        dataTable['output_type'] = 'display_data';\n",
              "        await google.colab.output.renderOutput(dataTable, element);\n",
              "        const docLink = document.createElement('div');\n",
              "        docLink.innerHTML = docLinkHtml;\n",
              "        element.appendChild(docLink);\n",
              "      }\n",
              "    </script>\n",
              "  </div>\n",
              "\n",
              "\n",
              "<div id=\"df-beab0a70-b4f6-4306-a928-a9b390b29e25\">\n",
              "  <button class=\"colab-df-quickchart\" onclick=\"quickchart('df-beab0a70-b4f6-4306-a928-a9b390b29e25')\"\n",
              "            title=\"Suggest charts\"\n",
              "            style=\"display:none;\">\n",
              "\n",
              "<svg xmlns=\"http://www.w3.org/2000/svg\" height=\"24px\"viewBox=\"0 0 24 24\"\n",
              "     width=\"24px\">\n",
              "    <g>\n",
              "        <path d=\"M19 3H5c-1.1 0-2 .9-2 2v14c0 1.1.9 2 2 2h14c1.1 0 2-.9 2-2V5c0-1.1-.9-2-2-2zM9 17H7v-7h2v7zm4 0h-2V7h2v10zm4 0h-2v-4h2v4z\"/>\n",
              "    </g>\n",
              "</svg>\n",
              "  </button>\n",
              "\n",
              "<style>\n",
              "  .colab-df-quickchart {\n",
              "      --bg-color: #E8F0FE;\n",
              "      --fill-color: #1967D2;\n",
              "      --hover-bg-color: #E2EBFA;\n",
              "      --hover-fill-color: #174EA6;\n",
              "      --disabled-fill-color: #AAA;\n",
              "      --disabled-bg-color: #DDD;\n",
              "  }\n",
              "\n",
              "  [theme=dark] .colab-df-quickchart {\n",
              "      --bg-color: #3B4455;\n",
              "      --fill-color: #D2E3FC;\n",
              "      --hover-bg-color: #434B5C;\n",
              "      --hover-fill-color: #FFFFFF;\n",
              "      --disabled-bg-color: #3B4455;\n",
              "      --disabled-fill-color: #666;\n",
              "  }\n",
              "\n",
              "  .colab-df-quickchart {\n",
              "    background-color: var(--bg-color);\n",
              "    border: none;\n",
              "    border-radius: 50%;\n",
              "    cursor: pointer;\n",
              "    display: none;\n",
              "    fill: var(--fill-color);\n",
              "    height: 32px;\n",
              "    padding: 0;\n",
              "    width: 32px;\n",
              "  }\n",
              "\n",
              "  .colab-df-quickchart:hover {\n",
              "    background-color: var(--hover-bg-color);\n",
              "    box-shadow: 0 1px 2px rgba(60, 64, 67, 0.3), 0 1px 3px 1px rgba(60, 64, 67, 0.15);\n",
              "    fill: var(--button-hover-fill-color);\n",
              "  }\n",
              "\n",
              "  .colab-df-quickchart-complete:disabled,\n",
              "  .colab-df-quickchart-complete:disabled:hover {\n",
              "    background-color: var(--disabled-bg-color);\n",
              "    fill: var(--disabled-fill-color);\n",
              "    box-shadow: none;\n",
              "  }\n",
              "\n",
              "  .colab-df-spinner {\n",
              "    border: 2px solid var(--fill-color);\n",
              "    border-color: transparent;\n",
              "    border-bottom-color: var(--fill-color);\n",
              "    animation:\n",
              "      spin 1s steps(1) infinite;\n",
              "  }\n",
              "\n",
              "  @keyframes spin {\n",
              "    0% {\n",
              "      border-color: transparent;\n",
              "      border-bottom-color: var(--fill-color);\n",
              "      border-left-color: var(--fill-color);\n",
              "    }\n",
              "    20% {\n",
              "      border-color: transparent;\n",
              "      border-left-color: var(--fill-color);\n",
              "      border-top-color: var(--fill-color);\n",
              "    }\n",
              "    30% {\n",
              "      border-color: transparent;\n",
              "      border-left-color: var(--fill-color);\n",
              "      border-top-color: var(--fill-color);\n",
              "      border-right-color: var(--fill-color);\n",
              "    }\n",
              "    40% {\n",
              "      border-color: transparent;\n",
              "      border-right-color: var(--fill-color);\n",
              "      border-top-color: var(--fill-color);\n",
              "    }\n",
              "    60% {\n",
              "      border-color: transparent;\n",
              "      border-right-color: var(--fill-color);\n",
              "    }\n",
              "    80% {\n",
              "      border-color: transparent;\n",
              "      border-right-color: var(--fill-color);\n",
              "      border-bottom-color: var(--fill-color);\n",
              "    }\n",
              "    90% {\n",
              "      border-color: transparent;\n",
              "      border-bottom-color: var(--fill-color);\n",
              "    }\n",
              "  }\n",
              "</style>\n",
              "\n",
              "  <script>\n",
              "    async function quickchart(key) {\n",
              "      const quickchartButtonEl =\n",
              "        document.querySelector('#' + key + ' button');\n",
              "      quickchartButtonEl.disabled = true;  // To prevent multiple clicks.\n",
              "      quickchartButtonEl.classList.add('colab-df-spinner');\n",
              "      try {\n",
              "        const charts = await google.colab.kernel.invokeFunction(\n",
              "            'suggestCharts', [key], {});\n",
              "      } catch (error) {\n",
              "        console.error('Error during call to suggestCharts:', error);\n",
              "      }\n",
              "      quickchartButtonEl.classList.remove('colab-df-spinner');\n",
              "      quickchartButtonEl.classList.add('colab-df-quickchart-complete');\n",
              "    }\n",
              "    (() => {\n",
              "      let quickchartButtonEl =\n",
              "        document.querySelector('#df-beab0a70-b4f6-4306-a928-a9b390b29e25 button');\n",
              "      quickchartButtonEl.style.display =\n",
              "        google.colab.kernel.accessAllowed ? 'block' : 'none';\n",
              "    })();\n",
              "  </script>\n",
              "</div>\n",
              "    </div>\n",
              "  </div>\n"
            ],
            "text/plain": [
              "       is_open  category_count  hours_count  attributes_count  \\\n",
              "33161      1.0        0.315789     0.348012           0.21875   \n",
              "58016      0.0        0.210526     0.375000           0.37500   \n",
              "18770      1.0        0.105263     0.288658           0.06250   \n",
              "51137      0.0        0.210526     0.669516           0.50000   \n",
              "68600      1.0        0.631579     0.862418           0.09375   \n",
              "...        ...             ...          ...               ...   \n",
              "55293      0.0        0.631579     0.357905           0.56250   \n",
              "49751      0.0        1.000000     0.375000           0.37500   \n",
              "5695       1.0        0.736842     0.375000           0.12500   \n",
              "73542      0.0        0.105263     0.375000           0.40625   \n",
              "45919      1.0        0.526316     0.684355           0.00000   \n",
              "\n",
              "       business_accepts_credit_cards  business_parking  population  \\\n",
              "33161                            1.0               1.0    0.043504   \n",
              "58016                            1.0               1.0    0.564860   \n",
              "18770                            1.0               0.0    1.000000   \n",
              "51137                            1.0               1.0    0.299630   \n",
              "68600                            1.0               1.0    0.102040   \n",
              "...                              ...               ...         ...   \n",
              "55293                            1.0               1.0    0.243812   \n",
              "49751                            1.0               1.0    0.389532   \n",
              "5695                             1.0               1.0    0.102040   \n",
              "73542                            1.0               1.0    1.000000   \n",
              "45919                            1.0               0.0    1.000000   \n",
              "\n",
              "       average_salary  review_count  positive_reviews  negative_reviews  \n",
              "33161        0.051337      0.106667          0.087591          0.224490  \n",
              "58016        0.511230      0.080000          0.175182          0.061224  \n",
              "18770        0.255258      0.000000          0.014599          0.081633  \n",
              "51137        0.481996      0.853333          1.000000          0.653061  \n",
              "68600        0.216756      0.124444          0.204380          0.102041  \n",
              "...               ...           ...               ...               ...  \n",
              "55293        0.260250      0.577778          0.248175          1.000000  \n",
              "49751        1.000000      0.053333          0.131387          0.040816  \n",
              "5695         0.216756      0.044444          0.000000          0.204082  \n",
              "73542        0.255258      0.017778          0.072993          0.040816  \n",
              "45919        0.255258      0.008889          0.072993          0.020408  \n",
              "\n",
              "[54136 rows x 11 columns]"
            ]
          },
          "execution_count": 227,
          "metadata": {},
          "output_type": "execute_result"
        },
        {
          "name": "stdout",
          "output_type": "stream",
          "text": [
            "time: 22.5 ms (started: 2023-12-27 08:43:47 +00:00)\n"
          ]
        }
      ],
      "source": [
        "X_train"
      ]
    },
    {
      "cell_type": "code",
      "execution_count": null,
      "metadata": {
        "colab": {
          "base_uri": "https://localhost:8080/"
        },
        "id": "T1RrzULVoOhj",
        "outputId": "29a3c893-06ea-4715-b2a2-4c71fe880980"
      },
      "outputs": [
        {
          "data": {
            "text/plain": [
              "33161    0.714286\n",
              "58016    0.714286\n",
              "18770    0.714286\n",
              "51137    0.571429\n",
              "68600    0.571429\n",
              "           ...   \n",
              "55293    0.857143\n",
              "49751    0.428571\n",
              "5695     1.000000\n",
              "73542    0.571429\n",
              "45919    0.000000\n",
              "Name: stars, Length: 54136, dtype: float64"
            ]
          },
          "execution_count": 228,
          "metadata": {},
          "output_type": "execute_result"
        },
        {
          "name": "stdout",
          "output_type": "stream",
          "text": [
            "time: 8.04 ms (started: 2023-12-27 08:43:47 +00:00)\n"
          ]
        }
      ],
      "source": [
        "y_train"
      ]
    },
    {
      "cell_type": "markdown",
      "metadata": {
        "id": "ZkTYtKbpDqCQ"
      },
      "source": [
        "We used RandomForestRegressor and we fit the model with the training split. Then we do the predictions to see the results."
      ]
    },
    {
      "cell_type": "code",
      "execution_count": null,
      "metadata": {
        "colab": {
          "base_uri": "https://localhost:8080/"
        },
        "id": "fzsYZlMVXZEL",
        "outputId": "df216744-6e5f-4bc5-a79b-11642810ff59"
      },
      "outputs": [
        {
          "name": "stdout",
          "output_type": "stream",
          "text": [
            "time: 1min 4s (started: 2023-12-27 08:43:47 +00:00)\n"
          ]
        }
      ],
      "source": [
        "model = RandomForestRegressor(n_estimators= 300, random_state=42)\n",
        "rf_model = model.fit(X_train,y_train)\n",
        "rf_predictions = rf_model.predict(X_test)"
      ]
    },
    {
      "cell_type": "markdown",
      "metadata": {
        "id": "FHmHzwRZICaQ"
      },
      "source": [
        "We show the score of our model."
      ]
    },
    {
      "cell_type": "code",
      "execution_count": null,
      "metadata": {
        "colab": {
          "base_uri": "https://localhost:8080/"
        },
        "id": "1fBpG9ToXjVC",
        "outputId": "a952392e-b8c9-46f4-8b05-d667a6b38c1d"
      },
      "outputs": [
        {
          "data": {
            "text/plain": [
              "0.9682198176840757"
            ]
          },
          "execution_count": 230,
          "metadata": {},
          "output_type": "execute_result"
        },
        {
          "name": "stdout",
          "output_type": "stream",
          "text": [
            "time: 4.75 s (started: 2023-12-27 08:44:51 +00:00)\n"
          ]
        }
      ],
      "source": [
        "rf_model.score(X_train, y_train)"
      ]
    },
    {
      "cell_type": "markdown",
      "metadata": {
        "id": "-CAhCPcJUW8U"
      },
      "source": [
        "The most important features for our model"
      ]
    },
    {
      "cell_type": "code",
      "execution_count": null,
      "metadata": {
        "colab": {
          "base_uri": "https://localhost:8080/"
        },
        "id": "9xvbz0nDUUIH",
        "outputId": "07426680-542a-487e-e2df-d374afa95034"
      },
      "outputs": [
        {
          "data": {
            "text/plain": [
              "negative_reviews                 0.465780\n",
              "positive_reviews                 0.314038\n",
              "hours_count                      0.050529\n",
              "attributes_count                 0.045591\n",
              "category_count                   0.031762\n",
              "average_salary                   0.022419\n",
              "review_count                     0.021387\n",
              "population                       0.021105\n",
              "is_open                          0.019085\n",
              "business_parking                 0.005956\n",
              "business_accepts_credit_cards    0.002348\n",
              "dtype: float64"
            ]
          },
          "execution_count": 231,
          "metadata": {},
          "output_type": "execute_result"
        },
        {
          "name": "stdout",
          "output_type": "stream",
          "text": [
            "time: 150 ms (started: 2023-12-27 08:44:56 +00:00)\n"
          ]
        }
      ],
      "source": [
        "feature_scores = pd.Series(rf_model.feature_importances_, index=X_train.columns).sort_values(ascending=False)\n",
        "feature_scores"
      ]
    },
    {
      "cell_type": "code",
      "execution_count": null,
      "metadata": {
        "colab": {
          "base_uri": "https://localhost:8080/"
        },
        "id": "zP7fK-t2y-Nr",
        "outputId": "b700cac4-5dec-4fe8-9dfd-492bc93ef76a"
      },
      "outputs": [
        {
          "name": "stdout",
          "output_type": "stream",
          "text": [
            "time: 27.6 ms (started: 2023-12-27 08:44:56 +00:00)\n"
          ]
        }
      ],
      "source": [
        "X = df_testing.drop([\"stars\"], axis=1)\n",
        "y =  df_testing[\"stars\"]\n",
        "\n",
        "X_train, X_test, y_train, y_test = train_test_split(\n",
        "    X, y, test_size=0.3, random_state=101)"
      ]
    },
    {
      "cell_type": "markdown",
      "metadata": {
        "id": "MzO4F88RINj-"
      },
      "source": [
        "We do the same for the LinearRegression model and so we can compare the results."
      ]
    },
    {
      "cell_type": "code",
      "execution_count": null,
      "metadata": {
        "colab": {
          "base_uri": "https://localhost:8080/"
        },
        "id": "NkEvZpguotgT",
        "outputId": "757ae064-1736-47f0-8b15-e385993e111f"
      },
      "outputs": [
        {
          "name": "stdout",
          "output_type": "stream",
          "text": [
            "time: 40.8 ms (started: 2023-12-27 08:44:56 +00:00)\n"
          ]
        }
      ],
      "source": [
        "model = LinearRegression()\n",
        "lr_model = model.fit(X_train,y_train)\n",
        "lr_predictions = lr_model.predict(X_test)"
      ]
    },
    {
      "cell_type": "markdown",
      "metadata": {
        "id": "r-YnrOmoIW_Z"
      },
      "source": [
        "We show the score for this model."
      ]
    },
    {
      "cell_type": "code",
      "execution_count": null,
      "metadata": {
        "colab": {
          "base_uri": "https://localhost:8080/"
        },
        "id": "9IpDjv-8xrh_",
        "outputId": "97999b5e-9dcc-4c69-ee99-50d05d9dd051"
      },
      "outputs": [
        {
          "data": {
            "text/plain": [
              "0.4830930260799917"
            ]
          },
          "execution_count": 234,
          "metadata": {},
          "output_type": "execute_result"
        },
        {
          "name": "stdout",
          "output_type": "stream",
          "text": [
            "time: 17.5 ms (started: 2023-12-27 08:44:56 +00:00)\n"
          ]
        }
      ],
      "source": [
        "lr_model.score(X_train, y_train)"
      ]
    },
    {
      "cell_type": "code",
      "execution_count": null,
      "metadata": {
        "colab": {
          "base_uri": "https://localhost:8080/"
        },
        "id": "hMR-r0iF3sRx",
        "outputId": "b9c54c99-57eb-4f73-ea84-956c92dc6114"
      },
      "outputs": [
        {
          "data": {
            "text/plain": [
              "array([0.68204451, 0.72400371, 0.82567976, ..., 0.64559241, 0.40967521,\n",
              "       0.61876655])"
            ]
          },
          "execution_count": 235,
          "metadata": {},
          "output_type": "execute_result"
        },
        {
          "name": "stdout",
          "output_type": "stream",
          "text": [
            "time: 8.1 ms (started: 2023-12-27 08:44:57 +00:00)\n"
          ]
        }
      ],
      "source": [
        "lr_predictions"
      ]
    },
    {
      "cell_type": "code",
      "execution_count": null,
      "metadata": {
        "colab": {
          "base_uri": "https://localhost:8080/"
        },
        "id": "yCp6VZ0r3uJi",
        "outputId": "274aafe1-0b86-4f32-b288-18bfce3af6dd"
      },
      "outputs": [
        {
          "data": {
            "text/plain": [
              "43931    0.714286\n",
              "33887    0.714286\n",
              "6188     0.857143\n",
              "53368    0.857143\n",
              "1716     0.285714\n",
              "           ...   \n",
              "73100    0.142857\n",
              "37319    0.571429\n",
              "71053    1.000000\n",
              "77140    0.285714\n",
              "34888    0.714286\n",
              "Name: stars, Length: 23202, dtype: float64"
            ]
          },
          "execution_count": 236,
          "metadata": {},
          "output_type": "execute_result"
        },
        {
          "name": "stdout",
          "output_type": "stream",
          "text": [
            "time: 7.06 ms (started: 2023-12-27 08:44:57 +00:00)\n"
          ]
        }
      ],
      "source": [
        "y_test"
      ]
    },
    {
      "cell_type": "markdown",
      "metadata": {
        "id": "ug6GBOuEY_V_"
      },
      "source": [
        "Showing the prediction for some stars in the model to compare with the original data and make conclusions."
      ]
    },
    {
      "cell_type": "code",
      "execution_count": null,
      "metadata": {
        "colab": {
          "base_uri": "https://localhost:8080/"
        },
        "id": "hWzv4dVvzJrf",
        "outputId": "7f239e78-1156-436c-b6b2-a8870186ffc9"
      },
      "outputs": [
        {
          "data": {
            "text/plain": [
              "[0.6033356910037577,\n",
              " 0.8049348677743815,\n",
              " 0.8848621415898874,\n",
              " 0.47886455290361096,\n",
              " 0.6161481624025984,\n",
              " 0.531665329671001,\n",
              " 0.39881219824583786,\n",
              " 0.15515813411091234,\n",
              " 0.6369423207812458,\n",
              " 0.5078238955114804]"
            ]
          },
          "execution_count": 237,
          "metadata": {},
          "output_type": "execute_result"
        },
        {
          "name": "stdout",
          "output_type": "stream",
          "text": [
            "time: 7.98 ms (started: 2023-12-27 08:44:57 +00:00)\n"
          ]
        }
      ],
      "source": [
        "lr_predictions = lr_model.predict(X[:10])\n",
        "lr_predictions.tolist()"
      ]
    },
    {
      "cell_type": "code",
      "execution_count": null,
      "metadata": {
        "colab": {
          "base_uri": "https://localhost:8080/"
        },
        "id": "_p6KLj_ry8XP",
        "outputId": "3dbf3422-0608-48e6-848f-8d8070b24659"
      },
      "outputs": [
        {
          "data": {
            "text/plain": [
              "array([0.86238095, 1.        , 0.98904762, ..., 0.15095238, 0.84904762,\n",
              "       0.84047619])"
            ]
          },
          "execution_count": 238,
          "metadata": {},
          "output_type": "execute_result"
        },
        {
          "name": "stdout",
          "output_type": "stream",
          "text": [
            "time: 7.47 s (started: 2023-12-27 08:44:57 +00:00)\n"
          ]
        }
      ],
      "source": [
        "rf_predictions = rf_model.predict(X)\n",
        "rf_predictions"
      ]
    },
    {
      "cell_type": "code",
      "execution_count": null,
      "metadata": {
        "colab": {
          "base_uri": "https://localhost:8080/"
        },
        "id": "8s_9bC_Jy96h",
        "outputId": "6b4d2409-3e98-4ea8-c9b4-dc0caa53c3b4"
      },
      "outputs": [
        {
          "data": {
            "text/plain": [
              "0    0.857143\n",
              "1    1.000000\n",
              "2    1.000000\n",
              "3    0.142857\n",
              "4    0.857143\n",
              "5    0.571429\n",
              "6    0.571429\n",
              "7    0.285714\n",
              "8    1.000000\n",
              "9    0.285714\n",
              "Name: stars, dtype: float64"
            ]
          },
          "execution_count": 239,
          "metadata": {},
          "output_type": "execute_result"
        },
        {
          "name": "stdout",
          "output_type": "stream",
          "text": [
            "time: 13.3 ms (started: 2023-12-27 08:45:04 +00:00)\n"
          ]
        }
      ],
      "source": [
        "#original dataframe normalized\n",
        "y[:10]"
      ]
    },
    {
      "cell_type": "markdown",
      "metadata": {
        "id": "sQzKAYFMZcBI"
      },
      "source": [
        "We denormalize the original stars to see clearer results."
      ]
    },
    {
      "cell_type": "code",
      "execution_count": null,
      "metadata": {
        "colab": {
          "base_uri": "https://localhost:8080/"
        },
        "id": "LYEfVGc15FzI",
        "outputId": "a7669df5-1ecd-46ef-b2bc-0cf12369a47e"
      },
      "outputs": [
        {
          "name": "stdout",
          "output_type": "stream",
          "text": [
            "time: 5.88 ms (started: 2023-12-27 08:45:04 +00:00)\n"
          ]
        }
      ],
      "source": [
        "original_stars = (y * (df_continuous[\"stars\"].max() - df_continuous[\"stars\"].min())) + df_continuous[\"stars\"].min()"
      ]
    },
    {
      "cell_type": "code",
      "execution_count": null,
      "metadata": {
        "colab": {
          "base_uri": "https://localhost:8080/"
        },
        "id": "l40UNPCc5PhQ",
        "outputId": "e5c5535a-e154-4ca7-b1b9-63bf18a6a098"
      },
      "outputs": [
        {
          "data": {
            "text/plain": [
              "0        4.5\n",
              "1        5.0\n",
              "2        5.0\n",
              "3        2.0\n",
              "4        4.5\n",
              "        ... \n",
              "77333    3.0\n",
              "77334    4.0\n",
              "77335    2.0\n",
              "77336    4.0\n",
              "77337    4.5\n",
              "Name: stars, Length: 77338, dtype: float64"
            ]
          },
          "execution_count": 241,
          "metadata": {},
          "output_type": "execute_result"
        },
        {
          "name": "stdout",
          "output_type": "stream",
          "text": [
            "time: 11.2 ms (started: 2023-12-27 08:45:04 +00:00)\n"
          ]
        }
      ],
      "source": [
        "original_stars"
      ]
    },
    {
      "cell_type": "code",
      "execution_count": null,
      "metadata": {
        "colab": {
          "base_uri": "https://localhost:8080/"
        },
        "id": "TXw6geip7hr1",
        "outputId": "7dd051ef-093f-4453-f6e0-aff5631080bd"
      },
      "outputs": [
        {
          "name": "stdout",
          "output_type": "stream",
          "text": [
            "time: 6.67 ms (started: 2023-12-27 08:45:04 +00:00)\n"
          ]
        }
      ],
      "source": [
        "predicted_stars = (rf_predictions * (df_continuous[\"stars\"].max() - df_continuous[\"stars\"].min())) + df_continuous[\"stars\"].min()"
      ]
    },
    {
      "cell_type": "code",
      "execution_count": null,
      "metadata": {
        "colab": {
          "base_uri": "https://localhost:8080/"
        },
        "id": "EtF2ajBo7tb2",
        "outputId": "047d9bea-2930-45fa-ffd0-cd4e3a4eef3e"
      },
      "outputs": [
        {
          "data": {
            "text/plain": [
              "array([4.51833333, 5.        , 4.96166667, ..., 2.02833333, 4.47166667,\n",
              "       4.44166667])"
            ]
          },
          "execution_count": 243,
          "metadata": {},
          "output_type": "execute_result"
        },
        {
          "name": "stdout",
          "output_type": "stream",
          "text": [
            "time: 8.41 ms (started: 2023-12-27 08:45:04 +00:00)\n"
          ]
        }
      ],
      "source": [
        "predicted_stars"
      ]
    },
    {
      "cell_type": "markdown",
      "metadata": {
        "id": "c50xYESugo4n"
      },
      "source": [
        "We compare the original stars and the predicted from our random forest regressor model."
      ]
    },
    {
      "cell_type": "code",
      "execution_count": null,
      "metadata": {
        "colab": {
          "base_uri": "https://localhost:8080/",
          "height": 694
        },
        "id": "FMGdvvNNJSqp",
        "outputId": "70aeafdd-9bbf-448c-ddc1-d88943494274"
      },
      "outputs": [
        {
          "data": {
            "text/html": [
              "\n",
              "  <div id=\"df-8d43e90c-9994-418e-be03-9dff06941b43\" class=\"colab-df-container\">\n",
              "    <div>\n",
              "<style scoped>\n",
              "    .dataframe tbody tr th:only-of-type {\n",
              "        vertical-align: middle;\n",
              "    }\n",
              "\n",
              "    .dataframe tbody tr th {\n",
              "        vertical-align: top;\n",
              "    }\n",
              "\n",
              "    .dataframe thead th {\n",
              "        text-align: right;\n",
              "    }\n",
              "</style>\n",
              "<table border=\"1\" class=\"dataframe\">\n",
              "  <thead>\n",
              "    <tr style=\"text-align: right;\">\n",
              "      <th></th>\n",
              "      <th>original_stars</th>\n",
              "      <th>predicted_stars</th>\n",
              "    </tr>\n",
              "  </thead>\n",
              "  <tbody>\n",
              "    <tr>\n",
              "      <th>0</th>\n",
              "      <td>4.5</td>\n",
              "      <td>4.518333</td>\n",
              "    </tr>\n",
              "    <tr>\n",
              "      <th>1</th>\n",
              "      <td>5.0</td>\n",
              "      <td>5.000000</td>\n",
              "    </tr>\n",
              "    <tr>\n",
              "      <th>2</th>\n",
              "      <td>5.0</td>\n",
              "      <td>4.961667</td>\n",
              "    </tr>\n",
              "    <tr>\n",
              "      <th>3</th>\n",
              "      <td>2.0</td>\n",
              "      <td>2.316667</td>\n",
              "    </tr>\n",
              "    <tr>\n",
              "      <th>4</th>\n",
              "      <td>4.5</td>\n",
              "      <td>4.498333</td>\n",
              "    </tr>\n",
              "    <tr>\n",
              "      <th>5</th>\n",
              "      <td>3.5</td>\n",
              "      <td>3.633333</td>\n",
              "    </tr>\n",
              "    <tr>\n",
              "      <th>6</th>\n",
              "      <td>3.5</td>\n",
              "      <td>3.438333</td>\n",
              "    </tr>\n",
              "    <tr>\n",
              "      <th>7</th>\n",
              "      <td>2.5</td>\n",
              "      <td>2.498333</td>\n",
              "    </tr>\n",
              "    <tr>\n",
              "      <th>8</th>\n",
              "      <td>5.0</td>\n",
              "      <td>4.830000</td>\n",
              "    </tr>\n",
              "    <tr>\n",
              "      <th>9</th>\n",
              "      <td>2.5</td>\n",
              "      <td>2.566667</td>\n",
              "    </tr>\n",
              "    <tr>\n",
              "      <th>10</th>\n",
              "      <td>2.5</td>\n",
              "      <td>2.898333</td>\n",
              "    </tr>\n",
              "    <tr>\n",
              "      <th>11</th>\n",
              "      <td>3.5</td>\n",
              "      <td>3.365000</td>\n",
              "    </tr>\n",
              "    <tr>\n",
              "      <th>12</th>\n",
              "      <td>2.0</td>\n",
              "      <td>2.278333</td>\n",
              "    </tr>\n",
              "    <tr>\n",
              "      <th>13</th>\n",
              "      <td>2.0</td>\n",
              "      <td>2.843333</td>\n",
              "    </tr>\n",
              "    <tr>\n",
              "      <th>14</th>\n",
              "      <td>2.5</td>\n",
              "      <td>2.563333</td>\n",
              "    </tr>\n",
              "    <tr>\n",
              "      <th>15</th>\n",
              "      <td>4.0</td>\n",
              "      <td>4.091667</td>\n",
              "    </tr>\n",
              "    <tr>\n",
              "      <th>16</th>\n",
              "      <td>4.0</td>\n",
              "      <td>4.236667</td>\n",
              "    </tr>\n",
              "    <tr>\n",
              "      <th>17</th>\n",
              "      <td>5.0</td>\n",
              "      <td>5.000000</td>\n",
              "    </tr>\n",
              "    <tr>\n",
              "      <th>18</th>\n",
              "      <td>4.5</td>\n",
              "      <td>4.738333</td>\n",
              "    </tr>\n",
              "    <tr>\n",
              "      <th>19</th>\n",
              "      <td>3.0</td>\n",
              "      <td>3.003333</td>\n",
              "    </tr>\n",
              "  </tbody>\n",
              "</table>\n",
              "</div>\n",
              "    <div class=\"colab-df-buttons\">\n",
              "\n",
              "  <div class=\"colab-df-container\">\n",
              "    <button class=\"colab-df-convert\" onclick=\"convertToInteractive('df-8d43e90c-9994-418e-be03-9dff06941b43')\"\n",
              "            title=\"Convert this dataframe to an interactive table.\"\n",
              "            style=\"display:none;\">\n",
              "\n",
              "  <svg xmlns=\"http://www.w3.org/2000/svg\" height=\"24px\" viewBox=\"0 -960 960 960\">\n",
              "    <path d=\"M120-120v-720h720v720H120Zm60-500h600v-160H180v160Zm220 220h160v-160H400v160Zm0 220h160v-160H400v160ZM180-400h160v-160H180v160Zm440 0h160v-160H620v160ZM180-180h160v-160H180v160Zm440 0h160v-160H620v160Z\"/>\n",
              "  </svg>\n",
              "    </button>\n",
              "\n",
              "  <style>\n",
              "    .colab-df-container {\n",
              "      display:flex;\n",
              "      gap: 12px;\n",
              "    }\n",
              "\n",
              "    .colab-df-convert {\n",
              "      background-color: #E8F0FE;\n",
              "      border: none;\n",
              "      border-radius: 50%;\n",
              "      cursor: pointer;\n",
              "      display: none;\n",
              "      fill: #1967D2;\n",
              "      height: 32px;\n",
              "      padding: 0 0 0 0;\n",
              "      width: 32px;\n",
              "    }\n",
              "\n",
              "    .colab-df-convert:hover {\n",
              "      background-color: #E2EBFA;\n",
              "      box-shadow: 0px 1px 2px rgba(60, 64, 67, 0.3), 0px 1px 3px 1px rgba(60, 64, 67, 0.15);\n",
              "      fill: #174EA6;\n",
              "    }\n",
              "\n",
              "    .colab-df-buttons div {\n",
              "      margin-bottom: 4px;\n",
              "    }\n",
              "\n",
              "    [theme=dark] .colab-df-convert {\n",
              "      background-color: #3B4455;\n",
              "      fill: #D2E3FC;\n",
              "    }\n",
              "\n",
              "    [theme=dark] .colab-df-convert:hover {\n",
              "      background-color: #434B5C;\n",
              "      box-shadow: 0px 1px 3px 1px rgba(0, 0, 0, 0.15);\n",
              "      filter: drop-shadow(0px 1px 2px rgba(0, 0, 0, 0.3));\n",
              "      fill: #FFFFFF;\n",
              "    }\n",
              "  </style>\n",
              "\n",
              "    <script>\n",
              "      const buttonEl =\n",
              "        document.querySelector('#df-8d43e90c-9994-418e-be03-9dff06941b43 button.colab-df-convert');\n",
              "      buttonEl.style.display =\n",
              "        google.colab.kernel.accessAllowed ? 'block' : 'none';\n",
              "\n",
              "      async function convertToInteractive(key) {\n",
              "        const element = document.querySelector('#df-8d43e90c-9994-418e-be03-9dff06941b43');\n",
              "        const dataTable =\n",
              "          await google.colab.kernel.invokeFunction('convertToInteractive',\n",
              "                                                    [key], {});\n",
              "        if (!dataTable) return;\n",
              "\n",
              "        const docLinkHtml = 'Like what you see? Visit the ' +\n",
              "          '<a target=\"_blank\" href=https://colab.research.google.com/notebooks/data_table.ipynb>data table notebook</a>'\n",
              "          + ' to learn more about interactive tables.';\n",
              "        element.innerHTML = '';\n",
              "        dataTable['output_type'] = 'display_data';\n",
              "        await google.colab.output.renderOutput(dataTable, element);\n",
              "        const docLink = document.createElement('div');\n",
              "        docLink.innerHTML = docLinkHtml;\n",
              "        element.appendChild(docLink);\n",
              "      }\n",
              "    </script>\n",
              "  </div>\n",
              "\n",
              "\n",
              "<div id=\"df-52c49d7a-53a3-473c-a909-7b338d6a6982\">\n",
              "  <button class=\"colab-df-quickchart\" onclick=\"quickchart('df-52c49d7a-53a3-473c-a909-7b338d6a6982')\"\n",
              "            title=\"Suggest charts\"\n",
              "            style=\"display:none;\">\n",
              "\n",
              "<svg xmlns=\"http://www.w3.org/2000/svg\" height=\"24px\"viewBox=\"0 0 24 24\"\n",
              "     width=\"24px\">\n",
              "    <g>\n",
              "        <path d=\"M19 3H5c-1.1 0-2 .9-2 2v14c0 1.1.9 2 2 2h14c1.1 0 2-.9 2-2V5c0-1.1-.9-2-2-2zM9 17H7v-7h2v7zm4 0h-2V7h2v10zm4 0h-2v-4h2v4z\"/>\n",
              "    </g>\n",
              "</svg>\n",
              "  </button>\n",
              "\n",
              "<style>\n",
              "  .colab-df-quickchart {\n",
              "      --bg-color: #E8F0FE;\n",
              "      --fill-color: #1967D2;\n",
              "      --hover-bg-color: #E2EBFA;\n",
              "      --hover-fill-color: #174EA6;\n",
              "      --disabled-fill-color: #AAA;\n",
              "      --disabled-bg-color: #DDD;\n",
              "  }\n",
              "\n",
              "  [theme=dark] .colab-df-quickchart {\n",
              "      --bg-color: #3B4455;\n",
              "      --fill-color: #D2E3FC;\n",
              "      --hover-bg-color: #434B5C;\n",
              "      --hover-fill-color: #FFFFFF;\n",
              "      --disabled-bg-color: #3B4455;\n",
              "      --disabled-fill-color: #666;\n",
              "  }\n",
              "\n",
              "  .colab-df-quickchart {\n",
              "    background-color: var(--bg-color);\n",
              "    border: none;\n",
              "    border-radius: 50%;\n",
              "    cursor: pointer;\n",
              "    display: none;\n",
              "    fill: var(--fill-color);\n",
              "    height: 32px;\n",
              "    padding: 0;\n",
              "    width: 32px;\n",
              "  }\n",
              "\n",
              "  .colab-df-quickchart:hover {\n",
              "    background-color: var(--hover-bg-color);\n",
              "    box-shadow: 0 1px 2px rgba(60, 64, 67, 0.3), 0 1px 3px 1px rgba(60, 64, 67, 0.15);\n",
              "    fill: var(--button-hover-fill-color);\n",
              "  }\n",
              "\n",
              "  .colab-df-quickchart-complete:disabled,\n",
              "  .colab-df-quickchart-complete:disabled:hover {\n",
              "    background-color: var(--disabled-bg-color);\n",
              "    fill: var(--disabled-fill-color);\n",
              "    box-shadow: none;\n",
              "  }\n",
              "\n",
              "  .colab-df-spinner {\n",
              "    border: 2px solid var(--fill-color);\n",
              "    border-color: transparent;\n",
              "    border-bottom-color: var(--fill-color);\n",
              "    animation:\n",
              "      spin 1s steps(1) infinite;\n",
              "  }\n",
              "\n",
              "  @keyframes spin {\n",
              "    0% {\n",
              "      border-color: transparent;\n",
              "      border-bottom-color: var(--fill-color);\n",
              "      border-left-color: var(--fill-color);\n",
              "    }\n",
              "    20% {\n",
              "      border-color: transparent;\n",
              "      border-left-color: var(--fill-color);\n",
              "      border-top-color: var(--fill-color);\n",
              "    }\n",
              "    30% {\n",
              "      border-color: transparent;\n",
              "      border-left-color: var(--fill-color);\n",
              "      border-top-color: var(--fill-color);\n",
              "      border-right-color: var(--fill-color);\n",
              "    }\n",
              "    40% {\n",
              "      border-color: transparent;\n",
              "      border-right-color: var(--fill-color);\n",
              "      border-top-color: var(--fill-color);\n",
              "    }\n",
              "    60% {\n",
              "      border-color: transparent;\n",
              "      border-right-color: var(--fill-color);\n",
              "    }\n",
              "    80% {\n",
              "      border-color: transparent;\n",
              "      border-right-color: var(--fill-color);\n",
              "      border-bottom-color: var(--fill-color);\n",
              "    }\n",
              "    90% {\n",
              "      border-color: transparent;\n",
              "      border-bottom-color: var(--fill-color);\n",
              "    }\n",
              "  }\n",
              "</style>\n",
              "\n",
              "  <script>\n",
              "    async function quickchart(key) {\n",
              "      const quickchartButtonEl =\n",
              "        document.querySelector('#' + key + ' button');\n",
              "      quickchartButtonEl.disabled = true;  // To prevent multiple clicks.\n",
              "      quickchartButtonEl.classList.add('colab-df-spinner');\n",
              "      try {\n",
              "        const charts = await google.colab.kernel.invokeFunction(\n",
              "            'suggestCharts', [key], {});\n",
              "      } catch (error) {\n",
              "        console.error('Error during call to suggestCharts:', error);\n",
              "      }\n",
              "      quickchartButtonEl.classList.remove('colab-df-spinner');\n",
              "      quickchartButtonEl.classList.add('colab-df-quickchart-complete');\n",
              "    }\n",
              "    (() => {\n",
              "      let quickchartButtonEl =\n",
              "        document.querySelector('#df-52c49d7a-53a3-473c-a909-7b338d6a6982 button');\n",
              "      quickchartButtonEl.style.display =\n",
              "        google.colab.kernel.accessAllowed ? 'block' : 'none';\n",
              "    })();\n",
              "  </script>\n",
              "</div>\n",
              "    </div>\n",
              "  </div>\n"
            ],
            "text/plain": [
              "    original_stars  predicted_stars\n",
              "0              4.5         4.518333\n",
              "1              5.0         5.000000\n",
              "2              5.0         4.961667\n",
              "3              2.0         2.316667\n",
              "4              4.5         4.498333\n",
              "5              3.5         3.633333\n",
              "6              3.5         3.438333\n",
              "7              2.5         2.498333\n",
              "8              5.0         4.830000\n",
              "9              2.5         2.566667\n",
              "10             2.5         2.898333\n",
              "11             3.5         3.365000\n",
              "12             2.0         2.278333\n",
              "13             2.0         2.843333\n",
              "14             2.5         2.563333\n",
              "15             4.0         4.091667\n",
              "16             4.0         4.236667\n",
              "17             5.0         5.000000\n",
              "18             4.5         4.738333\n",
              "19             3.0         3.003333"
            ]
          },
          "execution_count": 244,
          "metadata": {},
          "output_type": "execute_result"
        },
        {
          "name": "stdout",
          "output_type": "stream",
          "text": [
            "time: 27.9 ms (started: 2023-12-27 08:45:04 +00:00)\n"
          ]
        }
      ],
      "source": [
        "predicted_stars_array = np.array(predicted_stars)\n",
        "df_comparison_stars = pd.DataFrame({'original_stars': original_stars, 'predicted_stars': predicted_stars_array})\n",
        "# df_compare_stars = pd.concat([predicted_stars, original_stars], axis=1)\n",
        "df_comparison_stars.head(20)"
      ]
    },
    {
      "cell_type": "markdown",
      "metadata": {
        "id": "jHNcuwvumCjt"
      },
      "source": [
        "<a name=\"conclusions\"></a>\n",
        "## Conclusions"
      ]
    },
    {
      "cell_type": "markdown",
      "metadata": {
        "id": "D16Ke6T8gxeL"
      },
      "source": [
        "Showing a plot to see the distribution in the error between original and predicted stars."
      ]
    },
    {
      "cell_type": "code",
      "execution_count": null,
      "metadata": {
        "colab": {
          "base_uri": "https://localhost:8080/",
          "height": 489
        },
        "id": "gdOwoWgPmWmC",
        "outputId": "c0696bc2-6bb0-4cf4-8d60-f2d72ebccb9e"
      },
      "outputs": [
        {
          "data": {
            "image/png": "[encoded data removed]",
            "text/plain": [
              "<Figure size 640x480 with 1 Axes>"
            ]
          },
          "metadata": {},
          "output_type": "display_data"
        },
        {
          "name": "stdout",
          "output_type": "stream",
          "text": [
            "time: 532 ms (started: 2023-12-27 08:45:04 +00:00)\n"
          ]
        }
      ],
      "source": [
        "df_comparison_stars['Difference'] = df_comparison_stars['original_stars'] - df_comparison_stars['predicted_stars']\n",
        "\n",
        "# Histogram of errors\n",
        "errors = df_comparison_stars[\"original_stars\"] - df_comparison_stars[\"predicted_stars\"]\n",
        "plt.hist(errors, bins = 20)\n",
        "plt.xlabel(\"Prediction Error\")\n",
        "plt.ylabel(\"Count\")\n",
        "plt.title(\"Prediction Error Distribution\")\n",
        "plt.show()"
      ]
    },
    {
      "cell_type": "markdown",
      "metadata": {
        "id": "PiHMbb9cRT5g"
      },
      "source": [
        "<a name=\"references\"></a>\n",
        "## References\n",
        "\n",
        "### Dataset\n",
        "* USA state population: https://www.census.gov/data/tables/time-series/demo/popest/2020s-state-total.html\n",
        "\n",
        "* USA state average salary: https://www.sofi.com/learn/content/average-salary-in-us/\n",
        "\n",
        "* USA business dataset: https://www.yelp.com/dataset\n",
        "\n",
        "###Random Forest Regressor:\n",
        "https://scikit-learn.org/stable/modules/generated/sklearn.ensemble.RandomForestRegressor.html\n",
        "https://towardsdatascience.com/random-forest-regression-5f605132d19d\n",
        "https://www.kaggle.com/code/prashant111/random-forest-classifier-tutorial\n",
        "\n",
        "###Linear Regression:\n",
        "https://www.youtube.com/watch?v=nk2CQITm_eo\n",
        "https://www.youtube.com/watch?v=lIuo5G8ASQw\n",
        "https://scikit-learn.org/stable/auto_examples/linear_model/plot_ols.html\n",
        "\n",
        "###Grid Search:\n",
        "https://scikit-learn.org/stable/modules/generated/sklearn.model_selection.GridSearchCV.html\n",
        "https://towardsdatascience.com/cross-validation-and-grid-search-efa64b127c1b\n",
        "\n",
        "###Dealing with outliers:\n",
        "https://www.machinelearningplus.com/pyspark/pyspark-outlier-detection-and-treatment/"
      ]
    }
  ],
  "metadata": {
    "colab": {
      "provenance": []
    },
    "kernelspec": {
      "display_name": "Python 3",
      "name": "python3"
    },
    "language_info": {
      "name": "python"
    }
  },
  "nbformat": 4,
  "nbformat_minor": 0
}
