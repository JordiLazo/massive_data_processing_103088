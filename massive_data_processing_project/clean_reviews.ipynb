{
 "cells": [
  {
   "cell_type": "code",
   "execution_count": 150,
   "metadata": {},
   "outputs": [],
   "source": [
    "!conda activate myenv"
   ]
  },
  {
   "cell_type": "code",
   "execution_count": 151,
   "metadata": {},
   "outputs": [
    {
     "name": "stdout",
     "output_type": "stream",
     "text": [
      "C:\\Users\\strix\\miniconda3\\envs\\myenv\\python.exe\n",
      "C:\\Users\\strix\\AppData\\Local\\Programs\\Python\\Python311\\python.exe\n",
      "C:\\Users\\strix\\AppData\\Local\\Programs\\Python\\Python36-32\\python.exe\n"
     ]
    }
   ],
   "source": [
    "!where python"
   ]
  },
  {
   "cell_type": "code",
   "execution_count": 152,
   "metadata": {},
   "outputs": [],
   "source": [
    "!set PYSPARK_PYTHON=C:\\Users\\strix\\miniconda3\\envs\\myenv\\python.exe"
   ]
  },
  {
   "cell_type": "code",
   "execution_count": 153,
   "metadata": {},
   "outputs": [],
   "source": [
    "import os\n",
    "os.environ['PYSPARK_PYTHON'] = 'C:\\\\Users\\\\strix\\\\miniconda3\\\\envs\\\\myenv\\\\python.exe'"
   ]
  },
  {
   "cell_type": "code",
   "execution_count": 154,
   "metadata": {},
   "outputs": [],
   "source": [
    "import pyspark\n",
    "import itertools"
   ]
  },
  {
   "cell_type": "code",
   "execution_count": 155,
   "metadata": {},
   "outputs": [],
   "source": [
    "from pyspark.sql import SparkSession\n",
    "\n",
    "\n",
    "# Create a Spark session\n",
    "spark = SparkSession.builder \\\n",
    "    .appName(\"Large JSON Processing\") \\\n",
    "    .config(\"spark.executor.heartbeatInterval\", \"200000\")\\\n",
    "    .config(\"spark.network.timeout\", \"300000\")\\\n",
    "    .config(\"spark.executor.memory\", \"47185920000\") \\\n",
    "    .getOrCreate()\n"
   ]
  },
  {
   "cell_type": "code",
   "execution_count": 156,
   "metadata": {},
   "outputs": [],
   "source": [
    "json_file_path = 'yelp_academic_dataset_review.json'\n",
    "\n",
    "# Read the JSON file\n",
    "df = spark.read.json(json_file_path)"
   ]
  },
  {
   "cell_type": "code",
   "execution_count": 157,
   "metadata": {},
   "outputs": [
    {
     "name": "stdout",
     "output_type": "stream",
     "text": [
      "root\n",
      " |-- business_id: string (nullable = true)\n",
      " |-- cool: long (nullable = true)\n",
      " |-- date: string (nullable = true)\n",
      " |-- funny: long (nullable = true)\n",
      " |-- review_id: string (nullable = true)\n",
      " |-- stars: double (nullable = true)\n",
      " |-- text: string (nullable = true)\n",
      " |-- useful: long (nullable = true)\n",
      " |-- user_id: string (nullable = true)\n",
      "\n"
     ]
    }
   ],
   "source": [
    "df.printSchema()"
   ]
  },
  {
   "cell_type": "code",
   "execution_count": 158,
   "metadata": {},
   "outputs": [
    {
     "name": "stdout",
     "output_type": "stream",
     "text": [
      "+--------------------+----+-------------------+-----+--------------------+-----+--------------------+------+--------------------+\n",
      "|         business_id|cool|               date|funny|           review_id|stars|                text|useful|             user_id|\n",
      "+--------------------+----+-------------------+-----+--------------------+-----+--------------------+------+--------------------+\n",
      "|XQfwVwDr-v0ZS3_Cb...|   0|2018-07-07 22:09:11|    0|KU_O5udG6zpxOg-Vc...|  3.0|If you decide to ...|     0|mh_-eMZ6K5RLWhZyI...|\n",
      "|7ATYjTIgM3jUlt4UM...|   1|2012-01-03 15:28:18|    0|BiTunyQ73aT9WBnpR...|  5.0|I've taken a lot ...|     1|OyoGAe7OKpv6SyGZT...|\n",
      "|YjUWPpI6HXG530lwP...|   0|2014-02-05 20:30:30|    0|saUsX_uimxRlCVr67...|  3.0|Family diner. Had...|     0|8g_iMtfSiwikVnbP2...|\n",
      "|kxX2SOes4o-D3ZQBk...|   1|2015-01-04 00:01:03|    0|AqPFMleE6RsU23_au...|  5.0|Wow!  Yummy, diff...|     1|_7bHUi9Uuf5__HHc_...|\n",
      "|e4Vwtrqf-wpJfwesg...|   1|2017-01-14 20:54:15|    0|Sx8TMOWLNuJBWer-0...|  4.0|Cute interior and...|     1|bcjbaE6dDog4jkNY9...|\n",
      "|04UD14gamNjLY0IDY...|   1|2015-09-23 23:10:31|    2|JrIxlS1TzJ-iCu79u...|  1.0|I am a long term ...|     1|eUta8W_HdHMXPzLBB...|\n",
      "|gmjsEdUsKpj9Xxu6p...|   0|2015-01-03 23:21:18|    2|6AxgBCNX_PNTOxmbR...|  5.0|Loved this tour! ...|     0|r3zeYsv1XFBRA4dJp...|\n",
      "|LHSTtnW3YHCeUkRDG...|   0|2015-08-07 02:29:16|    0|_ZeMknuYdlQcUqng_...|  5.0|Amazingly amazing...|     2|yfFzsLmaWF2d4Sr0U...|\n",
      "|B5XSoSG3SfvQGtKEG...|   0|2016-03-30 22:46:33|    1|ZKvDG2sBvHVdF5oBN...|  3.0|This easter inste...|     1|wSTuiTk-sKNdcFypr...|\n",
      "|gebiRewfieSdtt17P...|   0|2016-07-25 07:31:06|    0|pUycOfUwM8vqX7KjR...|  3.0|Had a party of 6 ...|     0|59MxRhNVhU9MYndMk...|\n",
      "|uMvVYRgGNXf5boolA...|   0|2015-06-21 14:48:06|    0|rGQRf8UafX7OTlMNN...|  5.0|My experience wit...|     2|1WHRWwQmZOZDAhp2Q...|\n",
      "|EQ-TZ2eeD_E0BHuvo...|   0|2015-08-19 14:31:45|    0|l3Wk_mvAog6XANIuG...|  4.0|Locals recommende...|     0|ZbqSHbgCjzVAqaa7N...|\n",
      "|lj-E32x9_FA7GmUrB...|   0|2014-06-27 22:44:01|    0|XW_LfMv0fV21l9c6x...|  4.0|Love going here f...|     0|9OAtfnWag-ajVxRbU...|\n",
      "|RZtGWDLCAtuipwaZ-...|   0|2009-10-14 19:57:14|    0|8JFGBuHMoiNDyfcxu...|  4.0|Good food--loved ...|     0|smOvOajNG0lS4Pq7d...|\n",
      "|otQS34_MymijPTdNB...|   0|2011-10-27 17:12:05|    2|UBp0zWyH60Hmw6Fsa...|  4.0|The bun makes the...|     0|4Uh27DgGzsp6PqrH9...|\n",
      "|BVndHaLihEYbr76Z0...|   0|2014-10-11 16:22:06|    0|OAhBYw8IQ6wlfw1ow...|  5.0|Great place for b...|     0|1C2lxzUo1Hyye4RFI...|\n",
      "|YtSqYv1Q_pOltsVPS...|   0|2013-06-24 11:21:25|    0|oyaMhzBSwfGgemSGu...|  5.0|Tremendous servic...|     0|Dd1jQj7S-BFGqRbAp...|\n",
      "|rBdG_23USc7DletfZ...|   0|2014-08-10 19:41:43|    0|LnGZB0fjfgeVDVz5I...|  4.0|The hubby and I h...|     1|j2wlzrntrbKwyOcOi...|\n",
      "|CLEWowfkj-wKYJlQD...|   1|2016-03-07 00:02:18|    0|u2vzZaOqJ2feRshaa...|  5.0|I go to blow bar ...|     2|NDZvyYHTUWWu-kqgQ...|\n",
      "|eFvzHawVJofxSnD7T...|   0|2014-11-12 15:30:27|    0|Xs8Z8lmKkosqW5mw_...|  5.0|My absolute favor...|     0|IQsF3Rc6IgCzjVV9D...|\n",
      "+--------------------+----+-------------------+-----+--------------------+-----+--------------------+------+--------------------+\n",
      "only showing top 20 rows\n",
      "\n"
     ]
    }
   ],
   "source": [
    "df.show()"
   ]
  },
  {
   "cell_type": "code",
   "execution_count": 159,
   "metadata": {},
   "outputs": [
    {
     "data": {
      "text/plain": [
       "6990280"
      ]
     },
     "execution_count": 159,
     "metadata": {},
     "output_type": "execute_result"
    }
   ],
   "source": [
    "df.count()"
   ]
  },
  {
   "cell_type": "markdown",
   "metadata": {},
   "source": [
    "We select only the business_id and stars columns to reduce the data to be processed"
   ]
  },
  {
   "cell_type": "code",
   "execution_count": 160,
   "metadata": {},
   "outputs": [],
   "source": [
    "data_frame = df.select(\"business_id\", \"stars\")"
   ]
  },
  {
   "cell_type": "code",
   "execution_count": 161,
   "metadata": {},
   "outputs": [
    {
     "name": "stdout",
     "output_type": "stream",
     "text": [
      "+--------------------+-----+\n",
      "|         business_id|stars|\n",
      "+--------------------+-----+\n",
      "|XQfwVwDr-v0ZS3_Cb...|  3.0|\n",
      "|7ATYjTIgM3jUlt4UM...|  5.0|\n",
      "|YjUWPpI6HXG530lwP...|  3.0|\n",
      "|kxX2SOes4o-D3ZQBk...|  5.0|\n",
      "|e4Vwtrqf-wpJfwesg...|  4.0|\n",
      "|04UD14gamNjLY0IDY...|  1.0|\n",
      "|gmjsEdUsKpj9Xxu6p...|  5.0|\n",
      "|LHSTtnW3YHCeUkRDG...|  5.0|\n",
      "|B5XSoSG3SfvQGtKEG...|  3.0|\n",
      "|gebiRewfieSdtt17P...|  3.0|\n",
      "|uMvVYRgGNXf5boolA...|  5.0|\n",
      "|EQ-TZ2eeD_E0BHuvo...|  4.0|\n",
      "|lj-E32x9_FA7GmUrB...|  4.0|\n",
      "|RZtGWDLCAtuipwaZ-...|  4.0|\n",
      "|otQS34_MymijPTdNB...|  4.0|\n",
      "|BVndHaLihEYbr76Z0...|  5.0|\n",
      "|YtSqYv1Q_pOltsVPS...|  5.0|\n",
      "|rBdG_23USc7DletfZ...|  4.0|\n",
      "|CLEWowfkj-wKYJlQD...|  5.0|\n",
      "|eFvzHawVJofxSnD7T...|  5.0|\n",
      "+--------------------+-----+\n",
      "only showing top 20 rows\n",
      "\n"
     ]
    }
   ],
   "source": [
    "data_frame.show()"
   ]
  },
  {
   "cell_type": "markdown",
   "metadata": {},
   "source": [
    "We make a map to count the positive reviews (>4) and the negative ones (<=4)"
   ]
  },
  {
   "cell_type": "code",
   "execution_count": 162,
   "metadata": {},
   "outputs": [],
   "source": [
    "mapped_rdd = data_frame.rdd.map(lambda x: (x[0], (1,0)) if x[1] > 4.0  else (x[0], (0,1)))"
   ]
  },
  {
   "cell_type": "markdown",
   "metadata": {},
   "source": [
    "We do a reduction to gather all the positive reviews (>4) and the negative ones (<=4) and add them up. Finally, we added the totals of negatives and positives, since reviewing the dataframe we realized that there were counts of reviews in the business dataset that did not match the reviews dataset."
   ]
  },
  {
   "cell_type": "code",
   "execution_count": 163,
   "metadata": {},
   "outputs": [],
   "source": [
    "mapped_rdd = mapped_rdd.reduceByKey(lambda x, y: (x[0] + y[0], x[1] + y[1], x[0] + y[0] + x[1] + y[1]))"
   ]
  },
  {
   "cell_type": "code",
   "execution_count": 164,
   "metadata": {},
   "outputs": [
    {
     "data": {
      "text/plain": [
       "[('zzyx5x0Z7xXWWvWnZFuxlQ', (0, 8, 8)),\n",
       " ('zzw66H6hVjXQEt0Js3Mo4A', (3, 2, 5)),\n",
       " ('zzu6_r3DxBJuXcjnOYVdTw', (1, 7, 8)),\n",
       " ('zztOG2cKm87I6Iw_tleZsQ', (5, 1, 6)),\n",
       " ('zznZqH9CiAznbkV6fXyHWA', (11, 1, 12)),\n",
       " ('zznJox6-nmXlGYNWgTDwQQ', (3, 27, 30)),\n",
       " ('zzjFdJwXuxBOGe9JeY_EMw', (27, 21, 48)),\n",
       " ('zzjCxn89a7RQo8keIOO_Ag', (0, 5, 5)),\n",
       " ('zziDpuuJw-Km1J4BaGpBKA', (1, 5, 6)),\n",
       " ('zzg-Il9zxsaVXlCDrcG7hg', (16, 0, 16))]"
      ]
     },
     "execution_count": 164,
     "metadata": {},
     "output_type": "execute_result"
    }
   ],
   "source": [
    "mapped_rdd.top(10)\n"
   ]
  },
  {
   "cell_type": "markdown",
   "metadata": {},
   "source": [
    "With this mapper we sort the rdd the different attributes that we have added"
   ]
  },
  {
   "cell_type": "code",
   "execution_count": 165,
   "metadata": {},
   "outputs": [],
   "source": [
    "mapped_rdd = mapped_rdd.map(lambda x: (x[0], x[1][0], x[1][1], x[1][2]))"
   ]
  },
  {
   "cell_type": "code",
   "execution_count": 166,
   "metadata": {},
   "outputs": [
    {
     "data": {
      "text/plain": [
       "[('zzyx5x0Z7xXWWvWnZFuxlQ', 0, 8, 8),\n",
       " ('zzw66H6hVjXQEt0Js3Mo4A', 3, 2, 5),\n",
       " ('zzu6_r3DxBJuXcjnOYVdTw', 1, 7, 8),\n",
       " ('zztOG2cKm87I6Iw_tleZsQ', 5, 1, 6),\n",
       " ('zznZqH9CiAznbkV6fXyHWA', 11, 1, 12),\n",
       " ('zznJox6-nmXlGYNWgTDwQQ', 3, 27, 30),\n",
       " ('zzjFdJwXuxBOGe9JeY_EMw', 27, 21, 48),\n",
       " ('zzjCxn89a7RQo8keIOO_Ag', 0, 5, 5),\n",
       " ('zziDpuuJw-Km1J4BaGpBKA', 1, 5, 6),\n",
       " ('zzg-Il9zxsaVXlCDrcG7hg', 16, 0, 16)]"
      ]
     },
     "execution_count": 166,
     "metadata": {},
     "output_type": "execute_result"
    }
   ],
   "source": [
    "mapped_rdd.top(10)"
   ]
  },
  {
   "cell_type": "markdown",
   "metadata": {},
   "source": [
    "We created a dataframe from the rdd with the renamed columns so that they are more intuitive when dealing with them"
   ]
  },
  {
   "cell_type": "code",
   "execution_count": 167,
   "metadata": {},
   "outputs": [],
   "source": [
    "df_values = mapped_rdd.toDF([\"business_id_rev\", \"negative_reviews\", \"positive_reviews\", \"review_count_reviews\"])"
   ]
  },
  {
   "cell_type": "code",
   "execution_count": 168,
   "metadata": {},
   "outputs": [
    {
     "data": {
      "text/plain": [
       "150346"
      ]
     },
     "execution_count": 168,
     "metadata": {},
     "output_type": "execute_result"
    }
   ],
   "source": [
    "df_values.count()"
   ]
  },
  {
   "cell_type": "markdown",
   "metadata": {},
   "source": [
    "Finally, we load the business dataset to be able to join the columns by the business_id and thus be able to extract a new json with the new columns."
   ]
  },
  {
   "cell_type": "code",
   "execution_count": 169,
   "metadata": {},
   "outputs": [],
   "source": [
    "json_file_path_business = 'yelp_academic_dataset_business.json'\n",
    "\n",
    "df_business = spark.read.json(json_file_path_business)"
   ]
  },
  {
   "cell_type": "code",
   "execution_count": 170,
   "metadata": {},
   "outputs": [
    {
     "name": "stdout",
     "output_type": "stream",
     "text": [
      "root\n",
      " |-- address: string (nullable = true)\n",
      " |-- attributes: struct (nullable = true)\n",
      " |    |-- AcceptsInsurance: string (nullable = true)\n",
      " |    |-- AgesAllowed: string (nullable = true)\n",
      " |    |-- Alcohol: string (nullable = true)\n",
      " |    |-- Ambience: string (nullable = true)\n",
      " |    |-- BYOB: string (nullable = true)\n",
      " |    |-- BYOBCorkage: string (nullable = true)\n",
      " |    |-- BestNights: string (nullable = true)\n",
      " |    |-- BikeParking: string (nullable = true)\n",
      " |    |-- BusinessAcceptsBitcoin: string (nullable = true)\n",
      " |    |-- BusinessAcceptsCreditCards: string (nullable = true)\n",
      " |    |-- BusinessParking: string (nullable = true)\n",
      " |    |-- ByAppointmentOnly: string (nullable = true)\n",
      " |    |-- Caters: string (nullable = true)\n",
      " |    |-- CoatCheck: string (nullable = true)\n",
      " |    |-- Corkage: string (nullable = true)\n",
      " |    |-- DietaryRestrictions: string (nullable = true)\n",
      " |    |-- DogsAllowed: string (nullable = true)\n",
      " |    |-- DriveThru: string (nullable = true)\n",
      " |    |-- GoodForDancing: string (nullable = true)\n",
      " |    |-- GoodForKids: string (nullable = true)\n",
      " |    |-- GoodForMeal: string (nullable = true)\n",
      " |    |-- HairSpecializesIn: string (nullable = true)\n",
      " |    |-- HappyHour: string (nullable = true)\n",
      " |    |-- HasTV: string (nullable = true)\n",
      " |    |-- Music: string (nullable = true)\n",
      " |    |-- NoiseLevel: string (nullable = true)\n",
      " |    |-- Open24Hours: string (nullable = true)\n",
      " |    |-- OutdoorSeating: string (nullable = true)\n",
      " |    |-- RestaurantsAttire: string (nullable = true)\n",
      " |    |-- RestaurantsCounterService: string (nullable = true)\n",
      " |    |-- RestaurantsDelivery: string (nullable = true)\n",
      " |    |-- RestaurantsGoodForGroups: string (nullable = true)\n",
      " |    |-- RestaurantsPriceRange2: string (nullable = true)\n",
      " |    |-- RestaurantsReservations: string (nullable = true)\n",
      " |    |-- RestaurantsTableService: string (nullable = true)\n",
      " |    |-- RestaurantsTakeOut: string (nullable = true)\n",
      " |    |-- Smoking: string (nullable = true)\n",
      " |    |-- WheelchairAccessible: string (nullable = true)\n",
      " |    |-- WiFi: string (nullable = true)\n",
      " |-- business_id: string (nullable = true)\n",
      " |-- categories: string (nullable = true)\n",
      " |-- city: string (nullable = true)\n",
      " |-- hours: struct (nullable = true)\n",
      " |    |-- Friday: string (nullable = true)\n",
      " |    |-- Monday: string (nullable = true)\n",
      " |    |-- Saturday: string (nullable = true)\n",
      " |    |-- Sunday: string (nullable = true)\n",
      " |    |-- Thursday: string (nullable = true)\n",
      " |    |-- Tuesday: string (nullable = true)\n",
      " |    |-- Wednesday: string (nullable = true)\n",
      " |-- is_open: long (nullable = true)\n",
      " |-- latitude: double (nullable = true)\n",
      " |-- longitude: double (nullable = true)\n",
      " |-- name: string (nullable = true)\n",
      " |-- postal_code: string (nullable = true)\n",
      " |-- review_count: long (nullable = true)\n",
      " |-- stars: double (nullable = true)\n",
      " |-- state: string (nullable = true)\n",
      "\n"
     ]
    }
   ],
   "source": [
    "df_business.printSchema()"
   ]
  },
  {
   "cell_type": "code",
   "execution_count": 171,
   "metadata": {},
   "outputs": [
    {
     "data": {
      "text/plain": [
       "150346"
      ]
     },
     "execution_count": 171,
     "metadata": {},
     "output_type": "execute_result"
    }
   ],
   "source": [
    "df_business.count()"
   ]
  },
  {
   "cell_type": "code",
   "execution_count": 172,
   "metadata": {},
   "outputs": [],
   "source": [
    "final_df = df_business.join(df_values, df_business.business_id==df_values.business_id_rev)"
   ]
  },
  {
   "cell_type": "code",
   "execution_count": 173,
   "metadata": {},
   "outputs": [
    {
     "name": "stdout",
     "output_type": "stream",
     "text": [
      "+--------------------+--------------------+--------------------+--------------------+-------------+--------------------+-------+-------------+---------------+--------------------+-----------+------------+-----+-----+--------------------+----------------+----------------+--------------------+\n",
      "|             address|          attributes|         business_id|          categories|         city|               hours|is_open|     latitude|      longitude|                name|postal_code|review_count|stars|state|     business_id_rev|negative_reviews|positive_reviews|review_count_reviews|\n",
      "+--------------------+--------------------+--------------------+--------------------+-------------+--------------------+-------+-------------+---------------+--------------------+-----------+------------+-----+-----+--------------------+----------------+----------------+--------------------+\n",
      "| 10359 104 Street NW|{NULL, NULL, u'be...|WKMJwqnfZKsAae75R...|Coffee & Tea, Foo...|     Edmonton|{8:0-18:0, 8:0-18...|      0|   53.5460453|   -113.4991693|Roast Coffeehouse...|    T5J 1B9|          40|  4.0|   AB|WKMJwqnfZKsAae75R...|               8|              32|                  40|\n",
      "|5191 Meadowood Ma...|{NULL, NULL, u'no...|knQ4vIgx-r85kjlWV...|Sporting Goods, S...|         Reno|{10:0-21:0, 0:0-0...|      1|    39.476518|   -119.7840369|Silver and Blue O...|      89502|           5|  4.5|   NV|knQ4vIgx-r85kjlWV...|               4|               1|                   5|\n",
      "|    4611 Alabama Ave|{NULL, NULL, u'no...|1dSKEitDDgIkaApe6...|Caribbean, Food, ...|    Nashville|{11:0-18:0, 0:0-0...|      1|   36.1530043|    -86.8433279|     The Pepper Pott|      37209|          18|  5.0|   TN|1dSKEitDDgIkaApe6...|              18|               0|                  18|\n",
      "|                    |{NULL, NULL, u'no...|adATTqggIQX5xxLDI...|Food Trucks, Rest...|       Tucson|{15:0-21:0, 0:0-0...|      1|32.2712313189|-110.9920754497|        Just Churros|      85705|          25|  5.0|   AZ|adATTqggIQX5xxLDI...|              23|               2|                  25|\n",
      "| 8150 Bryan Dairy Rd|{NULL, NULL, NULL...|vxrGNnuEef7YCfB7m...|Coffee & Tea, Don...|Pinellas Park|{5:0-22:0, 5:0-22...|      1|   27.8718285|    -82.7502853|             Dunkin'|      33777|           8|  2.0|   FL|vxrGNnuEef7YCfB7m...|               1|               7|                   8|\n",
      "|      800 Kietzke Ln|{NULL, NULL, NULL...|NQhyMw8SOU1HB-V9X...|Automotive, Auto ...|         Reno|{8:30-18:0, 8:30-...|      1| 39.518222529|-119.7877136963|Champion Chevrole...|      89502|          45|  3.0|   NV|NQhyMw8SOU1HB-V9X...|              19|              31|                  50|\n",
      "|2041 Coral St, Ste 2|{NULL, NULL, u'no...|nBr6NgqcZz1GhtAng...|Shopping, Restaur...| Philadelphia|{7:0-15:0, 0:0-0:...|      1|39.9813471541| -75.1322471288|          Forin Cafe|      19125|          10|  4.5|   PA|nBr6NgqcZz1GhtAng...|               9|               3|                  12|\n",
      "|    1337 W Olney Ave|{NULL, NULL, u'no...|dE_MaaYrXBAEebtH2...|Specialty Food, M...| Philadelphia|{7:0-22:30, 7:0-2...|      1|   40.0390528|    -75.1438169|     Wilson's Market|      19141|          13|  3.5|   PA|dE_MaaYrXBAEebtH2...|               5|               8|                  13|\n",
      "|       533 Kings Hwy|{NULL, NULL, u'fu...|2y_CdkxEOJEJGyJAp...|Restaurants, Amer...| Woolwich Twp|{16:0-22:30, NULL...|      1|   39.7532524|    -75.3024859|Rode's Fireside R...|      08085|         104|  3.5|   NJ|2y_CdkxEOJEJGyJAp...|              31|              80|                 111|\n",
      "|  1100 E New York St|{NULL, NULL, NULL...|sUW-t3CiE8qBRZ1sH...|Playgrounds, Park...| Indianapolis|                NULL|      1| 39.770854468| -86.1380184844|       Highland Park|      46202|          23|  4.5|   IN|sUW-t3CiE8qBRZ1sH...|              14|              10|                  24|\n",
      "|  3600 Lancaster Ave|{NULL, NULL, 'ful...|Ryt1Fhgz7sixMQSJi...|Restaurants, Mexican| Philadelphia|{12:0-0:0, 12:0-0...|      0|   39.9584222|    -75.1938661|              Zocalo|      19104|          59|  2.5|   PA|Ryt1Fhgz7sixMQSJi...|               4|              58|                  62|\n",
      "|2201 E River Rd, ...|{NULL, NULL, NULL...|4grfwtBDji5tZ7AxY...|Local Flavor, Sho...|       Tucson|{15:0-21:0, NULL,...|      1|   32.2870182|   -110.9384158|Diamond Lil's Vin...|      85718|           8|  5.0|   AZ|4grfwtBDji5tZ7AxY...|               6|               2|                   8|\n",
      "|     138 Sunset Blvd|{NULL, NULL, NULL...|AaRe9p02qoeAcSFLI...|Appliances, Nurse...|   New Castle|{9:0-20:0, 0:0-0:...|      1|   39.6701002|    -75.5965244|      The Home Depot|      19720|          10|  2.5|   DE|AaRe9p02qoeAcSFLI...|               2|               9|                  11|\n",
      "| 443 S Evergreen Ave|{NULL, NULL, NULL...|V0vhc0cmXq8vNJPUj...|Day Spas, Nail Sa...|     Woodbury|{9:0-20:0, 9:0-20...|      1|    39.828969|      -75.15032|A Cut Above The Rest|      08096|           8|  1.5|   NJ|V0vhc0cmXq8vNJPUj...|               0|               8|                   8|\n",
      "|       359 N West St|{NULL, NULL, NULL...|V85fGg0cb0B4gWEWW...|Apartments, Home ...| Indianapolis|{9:0-18:0, 9:0-18...|      1|39.7723457921| -86.1665288035|        Canal Square|      46202|          16|  2.5|   IN|V85fGg0cb0B4gWEWW...|               4|              12|                  16|\n",
      "|  141 Bridgeton Pike|{False, NULL, NUL...|EmXpEvdFPQxdKn5sC...|Massage, Beauty &...| Mullica Hill|{9:0-22:0, 9:0-22...|      1|   39.7242454|    -75.2185522|Hand & Stone Mass...|      08062|           8|  2.5|   NJ|EmXpEvdFPQxdKn5sC...|               2|               6|                   8|\n",
      "|        637 W Hwy 50|                NULL|iipnazeY9eoANJ37l...|Packing Services,...|     O'Fallon|                NULL|      0|    38.588157|     -89.923034|    Post Pack & Ship|      62269|           9|  5.0|   IL|iipnazeY9eoANJ37l...|              11|               0|                  11|\n",
      "|7755 E Golf Links Rd|{NULL, NULL, NULL...|v-2lHvgUBB9RAqiMi...|Hair Salons, Beau...|       Tucson|{8:30-19:0, 8:30-...|      1|   32.1925638|    -110.827128|Amy & Barber Beau...|      85730|           6|  2.5|   AZ|v-2lHvgUBB9RAqiMi...|               1|               5|                   6|\n",
      "|   927 N Emerson Ave|{NULL, NULL, NULL...|t-FX1LpBX6J4wcDLi...|Donation Center, ...|    Greenwood|{9:0-19:0, 9:0-19...|      1|   39.6301772|    -86.0789237|Goodwill Outlet S...|      46143|          14|  2.5|   IN|t-FX1LpBX6J4wcDLi...|               3|              11|                  14|\n",
      "|     6950 S McCarran|{NULL, NULL, 'ful...|neL2xrin-uMJl5ABK...| Fondue, Restaurants|         Reno|                NULL|      0|    39.476506|    -119.806804|     The Melting Pot|      89509|          15|  3.5|   NV|neL2xrin-uMJl5ABK...|               4|              14|                  18|\n",
      "+--------------------+--------------------+--------------------+--------------------+-------------+--------------------+-------+-------------+---------------+--------------------+-----------+------------+-----+-----+--------------------+----------------+----------------+--------------------+\n",
      "only showing top 20 rows\n",
      "\n"
     ]
    }
   ],
   "source": [
    "final_df.show()"
   ]
  },
  {
   "cell_type": "code",
   "execution_count": 174,
   "metadata": {},
   "outputs": [
    {
     "data": {
      "text/plain": [
       "DataFrame[address: string, attributes: struct<AcceptsInsurance:string,AgesAllowed:string,Alcohol:string,Ambience:string,BYOB:string,BYOBCorkage:string,BestNights:string,BikeParking:string,BusinessAcceptsBitcoin:string,BusinessAcceptsCreditCards:string,BusinessParking:string,ByAppointmentOnly:string,Caters:string,CoatCheck:string,Corkage:string,DietaryRestrictions:string,DogsAllowed:string,DriveThru:string,GoodForDancing:string,GoodForKids:string,GoodForMeal:string,HairSpecializesIn:string,HappyHour:string,HasTV:string,Music:string,NoiseLevel:string,Open24Hours:string,OutdoorSeating:string,RestaurantsAttire:string,RestaurantsCounterService:string,RestaurantsDelivery:string,RestaurantsGoodForGroups:string,RestaurantsPriceRange2:string,RestaurantsReservations:string,RestaurantsTableService:string,RestaurantsTakeOut:string,Smoking:string,WheelchairAccessible:string,WiFi:string>, business_id: string, categories: string, city: string, hours: struct<Friday:string,Monday:string,Saturday:string,Sunday:string,Thursday:string,Tuesday:string,Wednesday:string>, is_open: bigint, latitude: double, longitude: double, name: string, postal_code: string, review_count: bigint, stars: double, state: string, business_id_rev: string, negative_reviews: bigint, positive_reviews: bigint, review_count_reviews: bigint]"
      ]
     },
     "execution_count": 174,
     "metadata": {},
     "output_type": "execute_result"
    }
   ],
   "source": [
    "final_df"
   ]
  },
  {
   "cell_type": "code",
   "execution_count": 175,
   "metadata": {},
   "outputs": [],
   "source": [
    "pandas_df = final_df.toPandas()"
   ]
  },
  {
   "cell_type": "code",
   "execution_count": 176,
   "metadata": {},
   "outputs": [],
   "source": [
    "pandas_df.to_json(\"C:/Users/strix/OneDrive/Desktop/uni/explotacion de dades/yelp_academic_dataset_business_add.json\", orient='records', lines=True)"
   ]
  }
 ],
 "metadata": {
  "kernelspec": {
   "display_name": "Python 3 (ipykernel)",
   "language": "python",
   "name": "python3"
  },
  "language_info": {
   "codemirror_mode": {
    "name": "ipython",
    "version": 3
   },
   "file_extension": ".py",
   "mimetype": "text/x-python",
   "name": "python",
   "nbconvert_exporter": "python",
   "pygments_lexer": "ipython3",
   "version": "3.8.18"
  }
 },
 "nbformat": 4,
 "nbformat_minor": 4
}
